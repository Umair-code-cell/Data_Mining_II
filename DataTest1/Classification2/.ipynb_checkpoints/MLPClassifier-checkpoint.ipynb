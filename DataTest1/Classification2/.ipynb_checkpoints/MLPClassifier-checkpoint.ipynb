{
 "cells": [
  {
   "cell_type": "code",
   "execution_count": 1,
   "metadata": {},
   "outputs": [],
   "source": [
    "%matplotlib inline\n",
    "\n",
    "import numpy as np\n",
    "import pandas as pd\n",
    "import matplotlib.pyplot as plt\n",
    "from sklearn.metrics import accuracy_score, f1_score, classification_report, confusion_matrix\n",
    "from sklearn.metrics import roc_curve, auc, roc_auc_score\n",
    "from collections import defaultdict\n",
    "from sklearn.preprocessing import StandardScaler\n",
    "from sklearn.neural_network import MLPClassifier\n",
    "import warnings\n",
    "from sklearn.exceptions import ConvergenceWarning"
   ]
  },
  {
   "cell_type": "code",
   "execution_count": 2,
   "metadata": {},
   "outputs": [],
   "source": [
    "#Importing the dataset \n",
    "df=pd.read_csv(\"/home/umair/Desktop/Data Science and BI/data mining/occupancy_data/DataCleaned.csv\")\n",
    "test=pd.read_csv(\"/home/umair/Desktop/Data Science and BI/data mining/occupancy_data/DataCleanedTest.csv\")\n",
    "test2=pd.read_csv(\"/home/umair/Desktop/Data Science and BI/data mining/occupancy_data/DataCleanedTest2.csv\")"
   ]
  },
  {
   "cell_type": "code",
   "execution_count": 3,
   "metadata": {},
   "outputs": [],
   "source": [
    "#Drop the useless column\n",
    "df.drop(['Unnamed: 0'], axis=1, inplace =True)\n",
    "df.drop(['date'], axis=1, inplace =True)\n",
    "df.drop(['DayName'], axis=1, inplace =True)\n",
    "\n",
    "test.drop(['Unnamed: 0'], axis=1, inplace =True)\n",
    "test.drop(['date'], axis=1, inplace =True)\n",
    "test.drop(['DayName'], axis=1, inplace =True)\n",
    "\n",
    "test2.drop(['Unnamed: 0'], axis=1, inplace =True)\n",
    "test2.drop(['date'], axis=1, inplace =True)\n",
    "test2.drop(['DayName'], axis=1, inplace =True)"
   ]
  },
  {
   "cell_type": "code",
   "execution_count": 4,
   "metadata": {},
   "outputs": [],
   "source": [
    "#preparing the two datasets splitting the attributes with the class and selecting the right attributes\n",
    "attributes = [col for col in df.columns if col != 'Occupancy']\n",
    "X_train = df[attributes]\n",
    "y_train = df['Occupancy']\n",
    "\n",
    "attributes = [col for col in test.columns if col != 'Occupancy']\n",
    "X_test = test[attributes]\n",
    "y_test = test['Occupancy']\n",
    "\n",
    "attributes = [col for col in test2.columns if col != 'Occupancy']\n",
    "X_test2 = test2[attributes]\n",
    "y_test2 = test2['Occupancy']"
   ]
  },
  {
   "cell_type": "code",
   "execution_count": 5,
   "metadata": {},
   "outputs": [],
   "source": [
    "warnings.simplefilter(\"ignore\")"
   ]
  },
  {
   "cell_type": "code",
   "execution_count": 7,
   "metadata": {},
   "outputs": [
    {
     "name": "stdout",
     "output_type": "stream",
     "text": [
      "Accuracy 0.9120180475799836\n",
      "F1-score [0.94111187 0.82610458]\n",
      "              precision    recall  f1-score   support\n",
      "\n",
      "           0       1.00      0.89      0.94      7703\n",
      "           1       0.71      0.99      0.83      2049\n",
      "\n",
      "    accuracy                           0.91      9752\n",
      "   macro avg       0.85      0.94      0.88      9752\n",
      "weighted avg       0.94      0.91      0.92      9752\n",
      "\n",
      "[[6856  847]\n",
      " [  11 2038]]\n"
     ]
    }
   ],
   "source": [
    "clf = MLPClassifier(solver='adam', activation='logistic', random_state=0, shuffle=True,\n",
    "                    learning_rate='constant')\n",
    "\n",
    "clf.fit(X_train, y_train)\n",
    "\n",
    "y_pred = clf.predict(X_test2)\n",
    "\n",
    "print('Accuracy %s' % accuracy_score(y_test2, y_pred))\n",
    "print('F1-score %s' % f1_score(y_test2, y_pred, average=None))\n",
    "print(classification_report(y_test2, y_pred))\n",
    "print(confusion_matrix(y_test2, y_pred))"
   ]
  },
  {
   "cell_type": "code",
   "execution_count": 11,
   "metadata": {},
   "outputs": [],
   "source": [
    "params = [{'solver': 'sgd'},\n",
    "          #{'solver': 'lbfgs'},\n",
    "          {'solver': 'adam'}]\n",
    "\n",
    "labels = [\"sgd\", \"lbfgs\",\n",
    "          \"adam\"]"
   ]
  },
  {
   "cell_type": "code",
   "execution_count": 12,
   "metadata": {},
   "outputs": [],
   "source": [
    "import warnings\n",
    "from sklearn.exceptions import ConvergenceWarning"
   ]
  },
  {
   "cell_type": "code",
   "execution_count": 13,
   "metadata": {},
   "outputs": [
    {
     "name": "stdout",
     "output_type": "stream",
     "text": [
      "sgd\n",
      "test set score and loss: 0.790, 0.517189\n"
     ]
    },
    {
     "data": {
      "image/png": "[encoded data removed]",
      "text/plain": [
       "<Figure size 432x288 with 1 Axes>"
      ]
     },
     "metadata": {
      "needs_background": "light"
     },
     "output_type": "display_data"
    },
    {
     "name": "stdout",
     "output_type": "stream",
     "text": [
      "lbfgs\n",
      "test set score and loss: 0.854, 0.053339\n"
     ]
    },
    {
     "data": {
      "image/png": "[encoded data removed]",
      "text/plain": [
       "<Figure size 432x288 with 1 Axes>"
      ]
     },
     "metadata": {
      "needs_background": "light"
     },
     "output_type": "display_data"
    }
   ],
   "source": [
    "for label, param in zip(labels, params):\n",
    "    print(label)\n",
    "    clf = MLPClassifier(random_state=0, max_iter=200, **param)\n",
    "\n",
    "    # some parameter combinations will not converge as can be seen on the\n",
    "    # plots so they are ignored here\n",
    "    with warnings.catch_warnings():\n",
    "        warnings.filterwarnings(\"ignore\", category=ConvergenceWarning, module=\"sklearn\")\n",
    "        clf.fit(X_train, y_train)\n",
    "\n",
    "    print(\"test set score and loss: %.3f, %f\" % (clf.score(X_test2, y_test2), clf.loss_))\n",
    "    plt.plot(clf.loss_curve_, label=label)\n",
    "    plt.legend(loc=\"upper center\")\n",
    "    plt.show()"
   ]
  },
  {
   "cell_type": "code",
   "execution_count": 61,
   "metadata": {},
   "outputs": [
    {
     "name": "stdout",
     "output_type": "stream",
     "text": [
      "('IsWorkDay', 'Hour', 'IsWorkHour', 'Temperature', 'Humidity', 'Light', 'CO2')\n",
      "===================================\n",
      "Best parameters set:\n",
      "{'activation': 'logistic', 'hidden_layer_sizes': 15, 'learning_rate': 'constant', 'max_iter': 200, 'momentum': 0.1, 'random_state': 0, 'shuffle': True, 'solver': 'adam'}\n",
      "\n",
      "Accuracy 0.9873510991035245\n",
      "\n",
      "Train Classification Report:\n",
      "\n",
      "              precision    recall  f1-score   support\n",
      "\n",
      "           0       1.00      0.99      0.99      6414\n",
      "           1       0.95      0.99      0.97      1729\n",
      "\n",
      "    accuracy                           0.99      8143\n",
      "   macro avg       0.97      0.99      0.98      8143\n",
      "weighted avg       0.99      0.99      0.99      8143\n",
      "\n",
      "\n",
      "Train Confusion Matrix:\n",
      "[[6328   86]\n",
      " [  17 1712]]\n",
      "\n",
      "Accuracy 0.9786116322701689\n",
      "\n",
      "Test1 Classification Report:\n",
      "\n",
      "              precision    recall  f1-score   support\n",
      "\n",
      "           0       1.00      0.97      0.98      1693\n",
      "           1       0.95      1.00      0.97       972\n",
      "\n",
      "    accuracy                           0.98      2665\n",
      "   macro avg       0.97      0.98      0.98      2665\n",
      "weighted avg       0.98      0.98      0.98      2665\n",
      "\n",
      "\n",
      "Test1 Confusion Matrix:\n",
      "[[1639   54]\n",
      " [   3  969]]\n",
      "\n",
      "Accuracy 0.9872846595570139\n",
      "\n",
      "Test2 Classification Report:\n",
      "\n",
      "              precision    recall  f1-score   support\n",
      "\n",
      "           0       0.99      0.99      0.99      7703\n",
      "           1       0.97      0.97      0.97      2049\n",
      "\n",
      "    accuracy                           0.99      9752\n",
      "   macro avg       0.98      0.98      0.98      9752\n",
      "weighted avg       0.99      0.99      0.99      9752\n",
      "\n",
      "\n",
      "Test2 Confusion Matrix:\n",
      "[[7635   68]\n",
      " [  56 1993]]\n",
      "\n"
     ]
    }
   ],
   "source": [
    "#HyperTuning parameters with GridSearch crossing between training set, test set1\n",
    "# and test set2. Searching for the best C\n",
    "from sklearn.model_selection import GridSearchCV\n",
    "\n",
    "features_combs_list = [\n",
    "    ('IsWorkDay', 'Hour', 'IsWorkHour', 'Temperature', 'Humidity', 'Light', 'CO2')\n",
    "]\n",
    "\n",
    "hyper_params_space = [\n",
    "    {\n",
    "        'random_state': [0],\n",
    "        'shuffle': [True],\n",
    "        'solver': ['adam', 'lbfgs', 'sgd'],\n",
    "        'hidden_layer_sizes': [(20), (15)],\n",
    "        'activation': ['logistic'],\n",
    "        'learning_rate':['constant'],\n",
    "        'max_iter': [200],\n",
    "        'momentum': np.arange(0.1, 1, 0.1)\n",
    "    },\n",
    "]\n",
    "\n",
    "for features in features_combs_list:\n",
    "    print(features)\n",
    "    print('===================================')\n",
    "    X = X_train\n",
    "    X_t1 = X_test\n",
    "    X_t2 = X_test2\n",
    "\n",
    "    svc = GridSearchCV(MLPClassifier(), hyper_params_space,\n",
    "                       scoring='accuracy')\n",
    "    svc.fit(X, y_train)\n",
    "    \n",
    "    print('Best parameters set:')\n",
    "    print(svc.best_params_)\n",
    "    print()\n",
    "    \n",
    "    preds = [\n",
    "        (svc.predict(X), y_train, 'Train'),\n",
    "        (svc.predict(X_t1), y_test, 'Test1'),\n",
    "        (svc.predict(X_t2), y_test2, 'Test2')\n",
    "    ]\n",
    "    \n",
    "    for pred in preds:\n",
    "        print('Accuracy %s' % accuracy_score(pred[1], pred[0]))\n",
    "        print()\n",
    "        print(pred[2] + ' Classification Report:')\n",
    "        print()\n",
    "        print(classification_report(pred[1], pred[0]))\n",
    "        print()\n",
    "        print(pred[2] + ' Confusion Matrix:')\n",
    "        print(confusion_matrix(pred[1], pred[0]))\n",
    "        print()"
   ]
  },
  {
   "cell_type": "code",
   "execution_count": 15,
   "metadata": {},
   "outputs": [
    {
     "name": "stdout",
     "output_type": "stream",
     "text": [
      "Training set\n",
      "Accuracy 0.9878423185558148\n",
      "F1-score [0.99223347 0.972026  ]\n",
      "              precision    recall  f1-score   support\n",
      "\n",
      "           0       1.00      0.99      0.99      6414\n",
      "           1       0.95      0.99      0.97      1729\n",
      "\n",
      "    accuracy                           0.99      8143\n",
      "   macro avg       0.97      0.99      0.98      8143\n",
      "weighted avg       0.99      0.99      0.99      8143\n",
      "\n",
      "[[6324   90]\n",
      " [   9 1720]]\n",
      "\n",
      "test1 set\n",
      "Accuracy 0.9786116322701689\n",
      "F1-score [0.98290855 0.97142857]\n",
      "              precision    recall  f1-score   support\n",
      "\n",
      "           0       1.00      0.97      0.98      1693\n",
      "           1       0.95      1.00      0.97       972\n",
      "\n",
      "    accuracy                           0.98      2665\n",
      "   macro avg       0.97      0.98      0.98      2665\n",
      "weighted avg       0.98      0.98      0.98      2665\n",
      "\n",
      "[[1639   54]\n",
      " [   3  969]]\n",
      "\n",
      "test2 set\n",
      "Accuracy 0.9141714520098442\n",
      "F1-score [0.94263587 0.82963566]\n",
      "              precision    recall  f1-score   support\n",
      "\n",
      "           0       1.00      0.89      0.94      7703\n",
      "           1       0.71      0.99      0.83      2049\n",
      "\n",
      "    accuracy                           0.91      9752\n",
      "   macro avg       0.85      0.94      0.89      9752\n",
      "weighted avg       0.94      0.91      0.92      9752\n",
      "\n",
      "[[6877  826]\n",
      " [  11 2038]]\n"
     ]
    },
    {
     "data": {
      "image/png": "[encoded data removed]",
      "text/plain": [
       "<Figure size 1440x504 with 1 Axes>"
      ]
     },
     "metadata": {
      "needs_background": "light"
     },
     "output_type": "display_data"
    }
   ],
   "source": [
    "clf = MLPClassifier(solver='adam', activation='logistic', random_state=0, max_iter=100, shuffle=True,\n",
    "                    hidden_layer_sizes=(15), learning_rate='constant')\n",
    "\n",
    "clf.fit(X_train, y_train)\n",
    "\n",
    "print(\"Training set\")\n",
    "y_pred = clf.predict(X_train)\n",
    "\n",
    "print('Accuracy %s' % accuracy_score(y_train, y_pred))\n",
    "print('F1-score %s' % f1_score(y_train, y_pred, average=None))\n",
    "print(classification_report(y_train, y_pred))\n",
    "print(confusion_matrix(y_train, y_pred))\n",
    "print()\n",
    "\n",
    "print(\"test1 set\")\n",
    "y_pred1 = clf.predict(X_test)\n",
    "\n",
    "print('Accuracy %s' % accuracy_score(y_test, y_pred1))\n",
    "print('F1-score %s' % f1_score(y_test, y_pred1, average=None))\n",
    "print(classification_report(y_test, y_pred1))\n",
    "print(confusion_matrix(y_test, y_pred1))\n",
    "print()\n",
    "\n",
    "print(\"test2 set\")\n",
    "y_pred2 = clf.predict(X_test2)\n",
    "\n",
    "print('Accuracy %s' % accuracy_score(y_test2, y_pred2))\n",
    "print('F1-score %s' % f1_score(y_test2, y_pred2, average=None))\n",
    "print(classification_report(y_test2, y_pred2))\n",
    "print(confusion_matrix(y_test2, y_pred2))\n",
    "\n",
    "plt.figure(figsize=(20,7))\n",
    "plt.plot(clf.loss_curve_)\n",
    "plt.ylabel('cost')\n",
    "plt.xlabel('iterations')\n",
    "plt.show()"
   ]
  },
  {
   "cell_type": "code",
   "execution_count": 20,
   "metadata": {},
   "outputs": [
    {
     "name": "stdout",
     "output_type": "stream",
     "text": [
      "0.9825087688594285\n"
     ]
    },
    {
     "data": {
      "image/png": "[encoded data removed]",
      "text/plain": [
       "<Figure size 576x360 with 1 Axes>"
      ]
     },
     "metadata": {
      "needs_background": "light"
     },
     "output_type": "display_data"
    }
   ],
   "source": [
    "from sklearn.preprocessing import LabelBinarizer\n",
    "#Print the roc value\n",
    "lb = LabelBinarizer()\n",
    "lb.fit(y_test)\n",
    "lb.classes_.tolist()\n",
    "fpr, tpr, _ = roc_curve(y_test, y_pred1)\n",
    "roc_auc = auc(fpr, tpr)\n",
    "print(roc_auc)\n",
    "\n",
    "roc_auc = roc_auc_score(y_test, y_pred1, average=None)\n",
    "\n",
    "#Plotting the graph of the Roc curve\n",
    "plt.figure(figsize=(8, 5))\n",
    "plt.plot(fpr, tpr, label='ROC curve MLP (area = %0.5f)' % roc_auc)\n",
    "#plt.plot(fprE, tprE, label='ROC curve Gain (area = %0.5f)' % (roc_aucE))\n",
    "#plt.plot(fprRF, tprRF, label='ROC curve Random Forest (area = %0.5f)' % (roc_aucRF))\n",
    "    \n",
    "plt.plot([0, 1], [0, 1], 'k--')\n",
    "plt.xlim([0.0, 1])\n",
    "plt.ylim([0.0, 1.1])\n",
    "plt.xlabel('False Positive Rate', fontsize=20)\n",
    "plt.ylabel('True Positive Rate', fontsize=20) \n",
    "plt.tick_params(axis='both', which='major', labelsize=22)\n",
    "plt.legend(loc=\"lower right\", fontsize=14, frameon=False)\n",
    "plt.show()"
   ]
  },
  {
   "cell_type": "code",
   "execution_count": null,
   "metadata": {},
   "outputs": [],
   "source": []
  }
 ],
 "metadata": {
  "kernelspec": {
   "display_name": "Python 3 (ipykernel)",
   "language": "python",
   "name": "python3"
  },
  "language_info": {
   "codemirror_mode": {
    "name": "ipython",
    "version": 3
   },
   "file_extension": ".py",
   "mimetype": "text/x-python",
   "name": "python",
   "nbconvert_exporter": "python",
   "pygments_lexer": "ipython3",
   "version": "3.9.7"
  }
 },
 "nbformat": 4,
 "nbformat_minor": 2
}
