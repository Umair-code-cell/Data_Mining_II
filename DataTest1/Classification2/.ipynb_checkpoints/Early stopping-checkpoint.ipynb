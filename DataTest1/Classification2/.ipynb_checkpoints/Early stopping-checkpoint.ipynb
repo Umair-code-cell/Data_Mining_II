{
 "cells": [
  {
   "cell_type": "code",
   "execution_count": 1,
   "metadata": {},
   "outputs": [
    {
     "name": "stderr",
     "output_type": "stream",
     "text": [
      "Using TensorFlow backend.\n",
      "/opt/anaconda3/lib/python3.7/site-packages/tensorflow/python/framework/dtypes.py:526: FutureWarning: Passing (type, 1) or '1type' as a synonym of type is deprecated; in a future version of numpy, it will be understood as (type, (1,)) / '(1,)type'.\n",
      "  _np_qint8 = np.dtype([(\"qint8\", np.int8, 1)])\n",
      "/opt/anaconda3/lib/python3.7/site-packages/tensorflow/python/framework/dtypes.py:527: FutureWarning: Passing (type, 1) or '1type' as a synonym of type is deprecated; in a future version of numpy, it will be understood as (type, (1,)) / '(1,)type'.\n",
      "  _np_quint8 = np.dtype([(\"quint8\", np.uint8, 1)])\n",
      "/opt/anaconda3/lib/python3.7/site-packages/tensorflow/python/framework/dtypes.py:528: FutureWarning: Passing (type, 1) or '1type' as a synonym of type is deprecated; in a future version of numpy, it will be understood as (type, (1,)) / '(1,)type'.\n",
      "  _np_qint16 = np.dtype([(\"qint16\", np.int16, 1)])\n",
      "/opt/anaconda3/lib/python3.7/site-packages/tensorflow/python/framework/dtypes.py:529: FutureWarning: Passing (type, 1) or '1type' as a synonym of type is deprecated; in a future version of numpy, it will be understood as (type, (1,)) / '(1,)type'.\n",
      "  _np_quint16 = np.dtype([(\"quint16\", np.uint16, 1)])\n",
      "/opt/anaconda3/lib/python3.7/site-packages/tensorflow/python/framework/dtypes.py:530: FutureWarning: Passing (type, 1) or '1type' as a synonym of type is deprecated; in a future version of numpy, it will be understood as (type, (1,)) / '(1,)type'.\n",
      "  _np_qint32 = np.dtype([(\"qint32\", np.int32, 1)])\n",
      "/opt/anaconda3/lib/python3.7/site-packages/tensorflow/python/framework/dtypes.py:535: FutureWarning: Passing (type, 1) or '1type' as a synonym of type is deprecated; in a future version of numpy, it will be understood as (type, (1,)) / '(1,)type'.\n",
      "  np_resource = np.dtype([(\"resource\", np.ubyte, 1)])\n"
     ]
    }
   ],
   "source": [
    "%matplotlib inline\n",
    "\n",
    "import numpy as np\n",
    "import pandas as pd\n",
    "import matplotlib.pyplot as plt\n",
    "from sklearn.metrics import accuracy_score, f1_score, classification_report, confusion_matrix\n",
    "from sklearn.metrics import roc_curve, auc, roc_auc_score\n",
    "from collections import defaultdict\n",
    "from sklearn.preprocessing import StandardScaler\n",
    "from sklearn.model_selection import train_test_split\n",
    "from keras.models import Sequential\n",
    "from keras.layers import Dense\n",
    "import warnings\n",
    "from sklearn.exceptions import ConvergenceWarning\n",
    "from keras.callbacks import EarlyStopping, ModelCheckpoint\n",
    "from keras.regularizers import l2"
   ]
  },
  {
   "cell_type": "code",
   "execution_count": 2,
   "metadata": {},
   "outputs": [],
   "source": [
    "#Importing the dataset \n",
    "df=pd.read_csv(\"/home/umair/Desktop/Data Science and BI/data mining/occupancy_data/DataCleaned.csv\")\n",
    "test=pd.read_csv(\"/home/umair/Desktop/Data Science and BI/data mining/occupancy_data/DataCleanedTest.csv\")\n",
    "test2=pd.read_csv(\"/home/umair/Desktop/Data Science and BI/data mining/occupancy_data/DataCleanedTest2.csv\")\n"
   ]
  },
  {
   "cell_type": "code",
   "execution_count": 3,
   "metadata": {},
   "outputs": [],
   "source": [
    "#Drop the useless column\n",
    "df.drop(['Unnamed: 0'], axis=1, inplace =True)\n",
    "df.drop(['date'], axis=1, inplace =True)\n",
    "df.drop(['DayName'], axis=1, inplace =True)\n",
    "\n",
    "test.drop(['Unnamed: 0'], axis=1, inplace =True)\n",
    "test.drop(['date'], axis=1, inplace =True)\n",
    "test.drop(['DayName'], axis=1, inplace =True)\n",
    "\n",
    "test2.drop(['Unnamed: 0'], axis=1, inplace =True)\n",
    "test2.drop(['date'], axis=1, inplace =True)\n",
    "test2.drop(['DayName'], axis=1, inplace =True)"
   ]
  },
  {
   "cell_type": "code",
   "execution_count": 4,
   "metadata": {},
   "outputs": [],
   "source": [
    "#preparing the two datasets splitting the attributes with the class and selecting the right attributes\n",
    "attributes = [col for col in df.columns if col != 'Occupancy']\n",
    "X_train = df[attributes]\n",
    "y_train = df['Occupancy']\n",
    "\n",
    "attributes = [col for col in test.columns if col != 'Occupancy']\n",
    "X_test = test[attributes]\n",
    "y_test = test['Occupancy']\n",
    "\n",
    "attributes = [col for col in test2.columns if col != 'Occupancy']\n",
    "X_test2 = test2[attributes]\n",
    "y_test2 = test2['Occupancy']"
   ]
  },
  {
   "cell_type": "code",
   "execution_count": 5,
   "metadata": {},
   "outputs": [],
   "source": [
    "warnings.simplefilter(\"ignore\")"
   ]
  },
  {
   "cell_type": "code",
   "execution_count": 6,
   "metadata": {},
   "outputs": [],
   "source": [
    "X_train, X_val, y_train, y_val = train_test_split(X_train, y_train, test_size=0.2)"
   ]
  },
  {
   "cell_type": "code",
   "execution_count": 7,
   "metadata": {},
   "outputs": [],
   "source": [
    "def build_model():\n",
    "    \n",
    "    n_feature = X_train.shape[1]\n",
    "    model = Sequential()\n",
    "    model.add(Dense(60, input_dim=n_feature, activation='sigmoid'))\n",
    "    model.add(Dense(40, activation='sigmoid'))\n",
    "    model.add(Dense(1, activation='sigmoid'))\n",
    "\n",
    "    model.compile(loss='binary_crossentropy', optimizer='adam', metrics=['accuracy'])\n",
    "    return model"
   ]
  },
  {
   "cell_type": "code",
   "execution_count": 8,
   "metadata": {
    "scrolled": false
   },
   "outputs": [
    {
     "name": "stdout",
     "output_type": "stream",
     "text": [
      "WARNING:tensorflow:From /opt/anaconda3/lib/python3.7/site-packages/tensorflow/python/ops/resource_variable_ops.py:435: colocate_with (from tensorflow.python.framework.ops) is deprecated and will be removed in a future version.\n",
      "Instructions for updating:\n",
      "Colocations handled automatically by placer.\n",
      "WARNING:tensorflow:From /opt/anaconda3/lib/python3.7/site-packages/tensorflow/python/ops/math_ops.py:3066: to_int32 (from tensorflow.python.ops.math_ops) is deprecated and will be removed in a future version.\n",
      "Instructions for updating:\n",
      "Use tf.cast instead.\n",
      "Train on 6514 samples, validate on 1629 samples\n",
      "Epoch 1/100\n",
      "6514/6514 [==============================] - 2s 271us/step - loss: 0.3869 - accuracy: 0.8305 - val_loss: 0.2612 - val_accuracy: 0.9392\n",
      "Epoch 2/100\n",
      "6514/6514 [==============================] - 1s 172us/step - loss: 0.1875 - accuracy: 0.9368 - val_loss: 0.1826 - val_accuracy: 0.9392\n",
      "Epoch 3/100\n",
      "6514/6514 [==============================] - 1s 172us/step - loss: 0.1623 - accuracy: 0.9391 - val_loss: 0.1589 - val_accuracy: 0.9374\n",
      "Epoch 4/100\n",
      "6514/6514 [==============================] - 1s 174us/step - loss: 0.1475 - accuracy: 0.9450 - val_loss: 0.2017 - val_accuracy: 0.9355\n",
      "Epoch 5/100\n",
      "6514/6514 [==============================] - 2s 244us/step - loss: 0.1398 - accuracy: 0.9495 - val_loss: 0.1474 - val_accuracy: 0.9497\n",
      "Epoch 6/100\n",
      "6514/6514 [==============================] - 1s 192us/step - loss: 0.1367 - accuracy: 0.9492 - val_loss: 0.1610 - val_accuracy: 0.9472\n",
      "Epoch 7/100\n",
      "6514/6514 [==============================] - 1s 171us/step - loss: 0.1257 - accuracy: 0.9535 - val_loss: 0.1364 - val_accuracy: 0.9546\n",
      "Epoch 8/100\n",
      "6514/6514 [==============================] - 1s 179us/step - loss: 0.1189 - accuracy: 0.9569 - val_loss: 0.1486 - val_accuracy: 0.9423\n",
      "Epoch 9/100\n",
      "6514/6514 [==============================] - 1s 207us/step - loss: 0.1096 - accuracy: 0.9616 - val_loss: 0.0979 - val_accuracy: 0.9662\n",
      "Epoch 10/100\n",
      "6514/6514 [==============================] - 1s 175us/step - loss: 0.0963 - accuracy: 0.9671 - val_loss: 0.0867 - val_accuracy: 0.9693\n",
      "Epoch 11/100\n",
      "6514/6514 [==============================] - 1s 180us/step - loss: 0.0865 - accuracy: 0.9739 - val_loss: 0.0763 - val_accuracy: 0.9804\n",
      "Epoch 12/100\n",
      "6514/6514 [==============================] - 1s 198us/step - loss: 0.0694 - accuracy: 0.9794 - val_loss: 0.1129 - val_accuracy: 0.9675\n",
      "Epoch 13/100\n",
      "6514/6514 [==============================] - 1s 220us/step - loss: 0.0644 - accuracy: 0.9820 - val_loss: 0.0484 - val_accuracy: 0.9896\n",
      "Epoch 14/100\n",
      "6514/6514 [==============================] - 1s 181us/step - loss: 0.0601 - accuracy: 0.9836 - val_loss: 0.0498 - val_accuracy: 0.9890\n",
      "Epoch 15/100\n",
      "6514/6514 [==============================] - 1s 193us/step - loss: 0.0627 - accuracy: 0.9837 - val_loss: 0.0463 - val_accuracy: 0.9902\n",
      "Epoch 16/100\n",
      "6514/6514 [==============================] - 1s 225us/step - loss: 0.0542 - accuracy: 0.9868 - val_loss: 0.0487 - val_accuracy: 0.9896\n",
      "Epoch 17/100\n",
      "6514/6514 [==============================] - 2s 262us/step - loss: 0.0561 - accuracy: 0.9853 - val_loss: 0.0577 - val_accuracy: 0.9828\n",
      "Epoch 18/100\n",
      "6514/6514 [==============================] - 2s 234us/step - loss: 0.0627 - accuracy: 0.9819 - val_loss: 0.0642 - val_accuracy: 0.9804\n",
      "Epoch 19/100\n",
      "6514/6514 [==============================] - 1s 203us/step - loss: 0.0569 - accuracy: 0.9850 - val_loss: 0.0451 - val_accuracy: 0.9896\n",
      "Epoch 20/100\n",
      "6514/6514 [==============================] - 1s 210us/step - loss: 0.0547 - accuracy: 0.9857 - val_loss: 0.0446 - val_accuracy: 0.9896\n",
      "Epoch 21/100\n",
      "6514/6514 [==============================] - 1s 201us/step - loss: 0.0568 - accuracy: 0.9840 - val_loss: 0.0710 - val_accuracy: 0.9791\n",
      "Epoch 22/100\n",
      "6514/6514 [==============================] - 2s 248us/step - loss: 0.0638 - accuracy: 0.9820 - val_loss: 0.0461 - val_accuracy: 0.9902\n",
      "Epoch 23/100\n",
      "6514/6514 [==============================] - 1s 215us/step - loss: 0.0568 - accuracy: 0.9862 - val_loss: 0.0455 - val_accuracy: 0.9896\n",
      "Epoch 24/100\n",
      "6514/6514 [==============================] - 1s 184us/step - loss: 0.0544 - accuracy: 0.9862 - val_loss: 0.0914 - val_accuracy: 0.9711\n",
      "Epoch 25/100\n",
      "6514/6514 [==============================] - 1s 183us/step - loss: 0.0724 - accuracy: 0.9776 - val_loss: 0.0454 - val_accuracy: 0.9896\n",
      "Epoch 26/100\n",
      "6514/6514 [==============================] - 1s 181us/step - loss: 0.0543 - accuracy: 0.9856 - val_loss: 0.0448 - val_accuracy: 0.9896\n",
      "Epoch 27/100\n",
      "6514/6514 [==============================] - 1s 212us/step - loss: 0.0533 - accuracy: 0.9870 - val_loss: 0.0457 - val_accuracy: 0.9902\n",
      "Epoch 28/100\n",
      "6514/6514 [==============================] - 1s 193us/step - loss: 0.0563 - accuracy: 0.9854 - val_loss: 0.0468 - val_accuracy: 0.9896\n",
      "Epoch 29/100\n",
      "6514/6514 [==============================] - 1s 224us/step - loss: 0.0531 - accuracy: 0.9865 - val_loss: 0.0445 - val_accuracy: 0.9896\n",
      "Epoch 30/100\n",
      "6514/6514 [==============================] - 2s 259us/step - loss: 0.0545 - accuracy: 0.9860 - val_loss: 0.0453 - val_accuracy: 0.9896\n",
      "Epoch 31/100\n",
      "6514/6514 [==============================] - 1s 205us/step - loss: 0.0545 - accuracy: 0.9859 - val_loss: 0.0446 - val_accuracy: 0.9896\n",
      "Epoch 32/100\n",
      "6514/6514 [==============================] - 1s 225us/step - loss: 0.0685 - accuracy: 0.9796 - val_loss: 0.0445 - val_accuracy: 0.9896\n",
      "Epoch 33/100\n",
      "6514/6514 [==============================] - 2s 249us/step - loss: 0.0601 - accuracy: 0.9839 - val_loss: 0.0459 - val_accuracy: 0.9896\n",
      "Epoch 34/100\n",
      "6514/6514 [==============================] - 1s 228us/step - loss: 0.0537 - accuracy: 0.9862 - val_loss: 0.0457 - val_accuracy: 0.9896\n",
      "Epoch 35/100\n",
      "6514/6514 [==============================] - 1s 202us/step - loss: 0.0531 - accuracy: 0.9863 - val_loss: 0.0505 - val_accuracy: 0.9896\n",
      "Epoch 36/100\n",
      "6514/6514 [==============================] - 1s 183us/step - loss: 0.0530 - accuracy: 0.9863 - val_loss: 0.0446 - val_accuracy: 0.9896\n",
      "Epoch 37/100\n",
      "6514/6514 [==============================] - 1s 188us/step - loss: 0.0531 - accuracy: 0.9865 - val_loss: 0.1375 - val_accuracy: 0.9552\n",
      "Epoch 38/100\n",
      "6514/6514 [==============================] - 1s 213us/step - loss: 0.0663 - accuracy: 0.9822 - val_loss: 0.0476 - val_accuracy: 0.9896\n",
      "Epoch 39/100\n",
      "6514/6514 [==============================] - 1s 177us/step - loss: 0.0653 - accuracy: 0.9823 - val_loss: 0.0540 - val_accuracy: 0.9896\n"
     ]
    }
   ],
   "source": [
    "es = EarlyStopping(monitor='val_loss', patience=10)\n",
    "mc = ModelCheckpoint('best_model_NOREG.h5', monitor='val_loss', save_best_only=True)\n",
    "\n",
    "model = build_model()\n",
    "history = model.fit(X_train, y_train, validation_data=(X_val, y_val), epochs=100, \n",
    "                      batch_size=10, callbacks=[es,mc]).history"
   ]
  },
  {
   "cell_type": "code",
   "execution_count": 10,
   "metadata": {},
   "outputs": [
    {
     "data": {
      "image/png": "[encoded data removed]",
      "text/plain": [
       "<Figure size 1440x504 with 1 Axes>"
      ]
     },
     "metadata": {
      "needs_background": "light"
     },
     "output_type": "display_data"
    }
   ],
   "source": [
    "plt.figure(figsize=(20,7))\n",
    "#plt.plot(history1['loss'], label='Train1')\n",
    "#plt.plot(history1['val_loss'], label='Val1')\n",
    "plt.plot(history['loss'], label='Train2')\n",
    "plt.plot(history['val_loss'], label='Val2')\n",
    "plt.xlabel('Epochs')\n",
    "plt.ylabel('Cross-Entropy')\n",
    "plt.legend()\n",
    "plt.show()"
   ]
  },
  {
   "cell_type": "code",
   "execution_count": null,
   "metadata": {},
   "outputs": [],
   "source": []
  }
 ],
 "metadata": {
  "kernelspec": {
   "display_name": "Python 3 (ipykernel)",
   "language": "python",
   "name": "python3"
  },
  "language_info": {
   "codemirror_mode": {
    "name": "ipython",
    "version": 3
   },
   "file_extension": ".py",
   "mimetype": "text/x-python",
   "name": "python",
   "nbconvert_exporter": "python",
   "pygments_lexer": "ipython3",
   "version": "3.9.7"
  }
 },
 "nbformat": 4,
 "nbformat_minor": 2
}
