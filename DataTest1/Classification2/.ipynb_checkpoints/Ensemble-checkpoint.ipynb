{
 "cells": [
  {
   "cell_type": "code",
   "execution_count": 1,
   "metadata": {},
   "outputs": [],
   "source": [
    "%matplotlib inline\n",
    "\n",
    "import numpy as np\n",
    "import pandas as pd\n",
    "import matplotlib.pyplot as plt\n",
    "from sklearn.metrics import accuracy_score, f1_score, classification_report, confusion_matrix, roc_curve, auc, roc_auc_score\n",
    "from collections import defaultdict\n",
    "from sklearn.decomposition import PCA\n",
    "from sklearn.model_selection import GridSearchCV\n",
    "from sklearn.ensemble import AdaBoostClassifier\n",
    "from sklearn.svm import SVC\n",
    "from sklearn.ensemble import BaggingClassifier"
   ]
  },
  {
   "cell_type": "code",
   "execution_count": 2,
   "metadata": {},
   "outputs": [],
   "source": [
    "#Importing the dataset \n",
    "df=pd.read_csv(\"/home/umair/Desktop/Data Science and BI/data mining/occupancy_data/DataCleaned.csv\")\n",
    "test=pd.read_csv(\"/home/umair/Desktop/Data Science and BI/data mining/occupancy_data/DataCleanedTest.csv\")\n",
    "test2=pd.read_csv(\"/home/umair/Desktop/Data Science and BI/data mining/occupancy_data/DataCleanedTest2.csv\")"
   ]
  },
  {
   "cell_type": "code",
   "execution_count": 3,
   "metadata": {},
   "outputs": [],
   "source": [
    "#Drop the useless column\n",
    "df.drop(['Unnamed: 0'], axis=1, inplace =True)\n",
    "df.drop(['date'], axis=1, inplace =True)\n",
    "df.drop(['DayName'], axis=1, inplace =True)\n",
    "\n",
    "test.drop(['Unnamed: 0'], axis=1, inplace =True)\n",
    "test.drop(['date'], axis=1, inplace =True)\n",
    "test.drop(['DayName'], axis=1, inplace =True)\n",
    "\n",
    "test2.drop(['Unnamed: 0'], axis=1, inplace =True)\n",
    "test2.drop(['date'], axis=1, inplace =True)\n",
    "test2.drop(['DayName'], axis=1, inplace =True)"
   ]
  },
  {
   "cell_type": "code",
   "execution_count": 4,
   "metadata": {},
   "outputs": [],
   "source": [
    "#preparing the two datasets splitting the attributes with the class and selecting the right attributes\n",
    "attributes = [col for col in df.columns if col != 'Occupancy']\n",
    "X_train = df[attributes]\n",
    "y_train = df['Occupancy']\n",
    "\n",
    "attributes = [col for col in test.columns if col != 'Occupancy']\n",
    "X_test = test[attributes]\n",
    "y_test = test['Occupancy']\n",
    "\n",
    "attributes = [col for col in test2.columns if col != 'Occupancy']\n",
    "X_test2 = test2[attributes]\n",
    "y_test2 = test2['Occupancy']"
   ]
  },
  {
   "cell_type": "code",
   "execution_count": 5,
   "metadata": {},
   "outputs": [],
   "source": [
    "#Avoid the warnings\n",
    "import warnings\n",
    "warnings.simplefilter(\"ignore\")"
   ]
  },
  {
   "cell_type": "code",
   "execution_count": 6,
   "metadata": {},
   "outputs": [
    {
     "name": "stdout",
     "output_type": "stream",
     "text": [
      "Accuracy 0.9478424015009381\n",
      "F1-score [0.95953421 0.92664908]\n",
      "              precision    recall  f1-score   support\n",
      "\n",
      "           0       0.95      0.97      0.96      1693\n",
      "           1       0.95      0.90      0.93       972\n",
      "\n",
      "    accuracy                           0.95      2665\n",
      "   macro avg       0.95      0.94      0.94      2665\n",
      "weighted avg       0.95      0.95      0.95      2665\n",
      "\n"
     ]
    }
   ],
   "source": [
    "#Simple bagging classifier with DecisionTree as estimator\n",
    "clf = BaggingClassifier(base_estimator=None, n_estimators=100, random_state=0)\n",
    "clf.fit(X_train, y_train)\n",
    "\n",
    "y_pred = clf.predict(X_test)\n",
    "\n",
    "print('Accuracy %s' % accuracy_score(y_test, y_pred))\n",
    "print('F1-score %s' % f1_score(y_test, y_pred, average=None))\n",
    "print(classification_report(y_test, y_pred))"
   ]
  },
  {
   "cell_type": "code",
   "execution_count": 7,
   "metadata": {},
   "outputs": [],
   "source": [
    "from sklearn.svm import SVC"
   ]
  },
  {
   "cell_type": "code",
   "execution_count": 8,
   "metadata": {},
   "outputs": [
    {
     "name": "stdout",
     "output_type": "stream",
     "text": [
      "Accuracy 0.9339587242026266\n",
      "F1-score [0.94554455 0.91611058]\n",
      "              precision    recall  f1-score   support\n",
      "\n",
      "           0       0.99      0.90      0.95      1693\n",
      "           1       0.85      0.99      0.92       972\n",
      "\n",
      "    accuracy                           0.93      2665\n",
      "   macro avg       0.92      0.95      0.93      2665\n",
      "weighted avg       0.94      0.93      0.93      2665\n",
      "\n"
     ]
    }
   ],
   "source": [
    "#Simple bagging classifier with SVC and C=1000 as estimator\n",
    "clf = BaggingClassifier(base_estimator=SVC(C=1000), n_estimators=10, random_state=0)\n",
    "\n",
    "clf.fit(X_train, y_train)\n",
    "\n",
    "y_pred = clf.predict(X_test)\n",
    "\n",
    "print('Accuracy %s' % accuracy_score(y_test, y_pred))\n",
    "print('F1-score %s' % f1_score(y_test, y_pred, average=None))\n",
    "print(classification_report(y_test, y_pred))"
   ]
  },
  {
   "cell_type": "code",
   "execution_count": 9,
   "metadata": {},
   "outputs": [
    {
     "name": "stdout",
     "output_type": "stream",
     "text": [
      "Ready for the cicle\n",
      "('IsWorkDay', 'Hour', 'IsWorkHour', 'Temperature', 'Humidity', 'Light', 'CO2')\n",
      "===================================\n",
      "Ready for the GridSearch\n",
      "Best parameters set:\n",
      "{'base_estimator': GaussianNB(priors=None, var_smoothing=1e-09), 'n_estimators': 5, 'random_state': 0}\n",
      "\n",
      "Train Classification Report:\n",
      "\n",
      "Accuracy 0.9882107331450325\n",
      "\n",
      "              precision    recall  f1-score   support\n",
      "\n",
      "           0       1.00      0.99      0.99      6414\n",
      "           1       0.95      0.99      0.97      1729\n",
      "\n",
      "    accuracy                           0.99      8143\n",
      "   macro avg       0.98      0.99      0.98      8143\n",
      "weighted avg       0.99      0.99      0.99      8143\n",
      "\n",
      "\n",
      "Train Confusion Matrix:\n",
      "[[6328   86]\n",
      " [  10 1719]]\n",
      "\n",
      "Test1 Classification Report:\n",
      "\n",
      "Accuracy 0.9786116322701689\n",
      "\n",
      "              precision    recall  f1-score   support\n",
      "\n",
      "           0       1.00      0.97      0.98      1693\n",
      "           1       0.95      1.00      0.97       972\n",
      "\n",
      "    accuracy                           0.98      2665\n",
      "   macro avg       0.97      0.98      0.98      2665\n",
      "weighted avg       0.98      0.98      0.98      2665\n",
      "\n",
      "\n",
      "Test1 Confusion Matrix:\n",
      "[[1639   54]\n",
      " [   3  969]]\n",
      "\n",
      "Test2 Classification Report:\n",
      "\n",
      "Accuracy 0.9932321575061526\n",
      "\n",
      "              precision    recall  f1-score   support\n",
      "\n",
      "           0       1.00      0.99      1.00      7703\n",
      "           1       0.97      0.99      0.98      2049\n",
      "\n",
      "    accuracy                           0.99      9752\n",
      "   macro avg       0.99      0.99      0.99      9752\n",
      "weighted avg       0.99      0.99      0.99      9752\n",
      "\n",
      "\n",
      "Test2 Confusion Matrix:\n",
      "[[7649   54]\n",
      " [  12 2037]]\n",
      "\n"
     ]
    }
   ],
   "source": [
    "from sklearn.tree import DecisionTreeClassifier\n",
    "from sklearn.model_selection import GridSearchCV\n",
    "from sklearn.ensemble import RandomForestClassifier\n",
    "from sklearn.neighbors import KNeighborsClassifier\n",
    "from sklearn.naive_bayes import GaussianNB\n",
    "from sklearn.svm import LinearSVC, SVC\n",
    "\n",
    "features_combs_list = [\n",
    "    ('IsWorkDay', 'Hour', 'IsWorkHour', 'Temperature', 'Humidity', 'Light', 'CO2'),\n",
    "    #('IsWorkDay', 'Hour', 'IsWorkHour', 'Temperature', 'Light', 'CO2'),\n",
    "    #('IsWorkHour', 'Temperature', 'Light', 'CO2'),\n",
    "    #('Temperature', 'Light', 'CO2'),\n",
    "    #('Light', 'CO2')\n",
    "]\n",
    "\n",
    "hyper_params_space = [\n",
    "    {\n",
    "        'base_estimator': [\n",
    "            RandomForestClassifier(criterion=\"gini\", max_depth=3, min_samples_split=2, min_samples_leaf=1,random_state=0),\n",
    "            KNeighborsClassifier(n_neighbors=81, weights='uniform'),\n",
    "            DecisionTreeClassifier(criterion='entropy', max_depth=3, min_samples_split=2),\n",
    "            GaussianNB(),\n",
    "            #SVC(kernel='linear', C=0.1),\n",
    "            #SVC(kernel='rbf', gamma=0.1)\n",
    "        ],\n",
    "        'n_estimators': [5, 10, 15, 30],\n",
    "        'random_state': [0]\n",
    "    },\n",
    "]\n",
    "\n",
    "print('Ready for the cicle')\n",
    "\n",
    "for features in features_combs_list:\n",
    "    print(features)\n",
    "    print('===================================')\n",
    "    X = X_train.loc[:, features]\n",
    "    X_t = X_test.loc[:, features]\n",
    "    X_t2 = X_test2.loc[:, features]\n",
    "    \n",
    "    print('Ready for the GridSearch')\n",
    "    \n",
    "    tree = GridSearchCV(BaggingClassifier(), hyper_params_space,\n",
    "                       scoring='accuracy', n_jobs=-\n",
    "                        1)\n",
    "    tree.fit(X, y_train)\n",
    "    \n",
    "    print('Best parameters set:')\n",
    "    print(tree.best_params_)\n",
    "    print()\n",
    "    \n",
    "    preds = [\n",
    "        (tree.predict(X), y_train, 'Train'),\n",
    "        (tree.predict(X_t), y_test, 'Test1'),\n",
    "        (tree.predict(X_t2), y_test2, 'Test2')\n",
    "    ]\n",
    "    \n",
    "    for pred in preds:\n",
    "        print(pred[2] + ' Classification Report:')\n",
    "        print()\n",
    "        print('Accuracy %s' % accuracy_score(pred[1], pred[0]))\n",
    "        print()\n",
    "        print(classification_report(pred[1], pred[0]))\n",
    "        print()\n",
    "        print(pred[2] + ' Confusion Matrix:')\n",
    "        print(confusion_matrix(pred[1], pred[0]))\n",
    "        print()"
   ]
  },
  {
   "cell_type": "code",
   "execution_count": null,
   "metadata": {},
   "outputs": [],
   "source": []
  }
 ],
 "metadata": {
  "kernelspec": {
   "display_name": "Python 3 (ipykernel)",
   "language": "python",
   "name": "python3"
  },
  "language_info": {
   "codemirror_mode": {
    "name": "ipython",
    "version": 3
   },
   "file_extension": ".py",
   "mimetype": "text/x-python",
   "name": "python",
   "nbconvert_exporter": "python",
   "pygments_lexer": "ipython3",
   "version": "3.9.7"
  }
 },
 "nbformat": 4,
 "nbformat_minor": 4
}
