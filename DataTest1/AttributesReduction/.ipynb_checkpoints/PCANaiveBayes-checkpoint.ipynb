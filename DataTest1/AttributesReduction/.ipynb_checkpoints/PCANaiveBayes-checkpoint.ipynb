{
 "cells": [
  {
   "cell_type": "code",
   "execution_count": 1,
   "metadata": {},
   "outputs": [],
   "source": [
    "%matplotlib inline\n",
    "\n",
    "import numpy as np\n",
    "import pandas as pd\n",
    "import matplotlib.pyplot as plt\n",
    "\n",
    "from collections import Counter\n",
    "from collections import defaultdict\n",
    "\n",
    "from sklearn.feature_selection import VarianceThreshold\n",
    "from sklearn.feature_selection import SelectKBest\n",
    "from sklearn.feature_selection import SelectFromModel\n",
    "from sklearn.decomposition import PCA\n",
    "from sklearn.naive_bayes import GaussianNB\n",
    "\n",
    "from sklearn.tree import DecisionTreeClassifier\n",
    "from sklearn.metrics import confusion_matrix\n",
    "from sklearn.metrics import accuracy_score, f1_score, classification_report\n",
    "from sklearn.metrics import roc_curve, auc, roc_auc_score"
   ]
  },
  {
   "cell_type": "code",
   "execution_count": 2,
   "metadata": {},
   "outputs": [],
   "source": [
    "#Importing the dataset \n",
    "df=pd.read_csv(\"/home/umair/Desktop/Data Science and BI/data mining/occupancy_data/DataCleaned.csv\")\n",
    "test=pd.read_csv(\"/home/umair/Desktop/Data Science and BI/data mining/occupancy_data/DataCleanedTest.csv\")\n"
   ]
  },
  {
   "cell_type": "code",
   "execution_count": 3,
   "metadata": {},
   "outputs": [],
   "source": [
    "#Drop the useless column\n",
    "df.drop(['Unnamed: 0'], axis=1, inplace =True)\n",
    "df.drop(['date'], axis=1, inplace =True)\n",
    "df.drop(['DayName'], axis=1, inplace =True)\n",
    "\n",
    "test.drop(['Unnamed: 0'], axis=1, inplace =True)\n",
    "test.drop(['date'], axis=1, inplace =True)\n",
    "test.drop(['DayName'], axis=1, inplace =True)"
   ]
  },
  {
   "cell_type": "code",
   "execution_count": 4,
   "metadata": {},
   "outputs": [
    {
     "name": "stdout",
     "output_type": "stream",
     "text": [
      "Old shape of the dataset:\n",
      "(8143, 8)\n"
     ]
    }
   ],
   "source": [
    "#preparing the two datasets splitting the attributes with the class \n",
    "attributes = [col for col in df.columns if col != 'Occupancy']\n",
    "X_train = df[attributes].values\n",
    "y_train = df['Occupancy']\n",
    "\n",
    "attributes = [col for col in test.columns if col != 'Occupancy']\n",
    "X_test = test[attributes].values\n",
    "y_test = test['Occupancy']\n",
    "print(\"Old shape of the dataset:\")\n",
    "print(X_train.shape)"
   ]
  },
  {
   "cell_type": "code",
   "execution_count": 5,
   "metadata": {},
   "outputs": [
    {
     "name": "stdout",
     "output_type": "stream",
     "text": [
      "Threshold= 0.0099\n",
      "Shape:\n",
      "(8143, 7)\n",
      "Accuracy 0.9786116322701689\n",
      "Threshold= 0.0196\n",
      "Shape:\n",
      "(8143, 7)\n",
      "Accuracy 0.9786116322701689\n",
      "Threshold= 0.029099999999999997\n",
      "Shape:\n",
      "(8143, 7)\n",
      "Accuracy 0.9786116322701689\n",
      "Threshold= 0.0384\n",
      "Shape:\n",
      "(8143, 7)\n",
      "Accuracy 0.9786116322701689\n",
      "Threshold= 0.0475\n",
      "Shape:\n",
      "(8143, 7)\n",
      "Accuracy 0.9786116322701689\n",
      "Threshold= 0.05639999999999999\n",
      "Shape:\n",
      "(8143, 7)\n",
      "Accuracy 0.9786116322701689\n",
      "Threshold= 0.0651\n",
      "Shape:\n",
      "(8143, 7)\n",
      "Accuracy 0.9786116322701689\n",
      "Threshold= 0.0736\n",
      "Shape:\n",
      "(8143, 7)\n",
      "Accuracy 0.9786116322701689\n",
      "Threshold= 0.0819\n",
      "Shape:\n",
      "(8143, 7)\n",
      "Accuracy 0.9786116322701689\n",
      "Threshold= 0.09000000000000001\n",
      "Shape:\n",
      "(8143, 7)\n",
      "Accuracy 0.9786116322701689\n",
      "Threshold= 0.0979\n",
      "Shape:\n",
      "(8143, 7)\n",
      "Accuracy 0.9786116322701689\n",
      "Threshold= 0.1056\n",
      "Shape:\n",
      "(8143, 7)\n",
      "Accuracy 0.9786116322701689\n",
      "Threshold= 0.1131\n",
      "Shape:\n",
      "(8143, 7)\n",
      "Accuracy 0.9786116322701689\n",
      "Threshold= 0.12040000000000001\n",
      "Shape:\n",
      "(8143, 7)\n",
      "Accuracy 0.9786116322701689\n",
      "Threshold= 0.1275\n",
      "Shape:\n",
      "(8143, 7)\n",
      "Accuracy 0.9786116322701689\n",
      "Threshold= 0.1344\n",
      "Shape:\n",
      "(8143, 7)\n",
      "Accuracy 0.9786116322701689\n",
      "Threshold= 0.1411\n",
      "Shape:\n",
      "(8143, 7)\n",
      "Accuracy 0.9786116322701689\n",
      "Threshold= 0.1476\n",
      "Shape:\n",
      "(8143, 7)\n",
      "Accuracy 0.9786116322701689\n",
      "Threshold= 0.1539\n",
      "Shape:\n",
      "(8143, 7)\n",
      "Accuracy 0.9786116322701689\n",
      "Threshold= 0.16000000000000003\n",
      "Shape:\n",
      "(8143, 7)\n",
      "Accuracy 0.9786116322701689\n",
      "Threshold= 0.1659\n",
      "Shape:\n",
      "(8143, 7)\n",
      "Accuracy 0.9786116322701689\n",
      "Threshold= 0.1716\n",
      "Shape:\n",
      "(8143, 7)\n",
      "Accuracy 0.9786116322701689\n",
      "Threshold= 0.1771\n",
      "Shape:\n",
      "(8143, 7)\n",
      "Accuracy 0.9786116322701689\n",
      "Threshold= 0.1824\n",
      "Shape:\n",
      "(8143, 7)\n",
      "Accuracy 0.9786116322701689\n",
      "Threshold= 0.1875\n",
      "Shape:\n",
      "(8143, 7)\n",
      "Accuracy 0.9786116322701689\n",
      "Threshold= 0.19240000000000002\n",
      "Shape:\n",
      "(8143, 6)\n",
      "Accuracy 0.9185741088180113\n",
      "Threshold= 0.1971\n",
      "Shape:\n",
      "(8143, 6)\n",
      "Accuracy 0.9185741088180113\n",
      "Threshold= 0.2016\n",
      "Shape:\n",
      "(8143, 6)\n",
      "Accuracy 0.9185741088180113\n",
      "Threshold= 0.20589999999999997\n",
      "Shape:\n",
      "(8143, 6)\n",
      "Accuracy 0.9185741088180113\n",
      "Threshold= 0.21\n",
      "Shape:\n",
      "(8143, 6)\n",
      "Accuracy 0.9185741088180113\n",
      "Threshold= 0.21389999999999998\n",
      "Shape:\n",
      "(8143, 6)\n",
      "Accuracy 0.9185741088180113\n",
      "Threshold= 0.2176\n",
      "Shape:\n",
      "(8143, 6)\n",
      "Accuracy 0.9185741088180113\n",
      "Threshold= 0.2211\n",
      "Shape:\n",
      "(8143, 6)\n",
      "Accuracy 0.9185741088180113\n",
      "Threshold= 0.2244\n",
      "Shape:\n",
      "(8143, 6)\n",
      "Accuracy 0.9185741088180113\n",
      "Threshold= 0.22749999999999998\n",
      "Shape:\n",
      "(8143, 6)\n",
      "Accuracy 0.9185741088180113\n",
      "Threshold= 0.2304\n",
      "Shape:\n",
      "(8143, 5)\n",
      "Accuracy 0.9046904315196999\n",
      "Threshold= 0.2331\n",
      "Shape:\n",
      "(8143, 5)\n",
      "Accuracy 0.9046904315196999\n",
      "Threshold= 0.2356\n",
      "Shape:\n",
      "(8143, 5)\n",
      "Accuracy 0.9046904315196999\n",
      "Threshold= 0.2379\n",
      "Shape:\n",
      "(8143, 5)\n",
      "Accuracy 0.9046904315196999\n",
      "Threshold= 0.24\n",
      "Shape:\n",
      "(8143, 5)\n",
      "Accuracy 0.9046904315196999\n",
      "Threshold= 0.24190000000000003\n",
      "Shape:\n",
      "(8143, 5)\n",
      "Accuracy 0.9046904315196999\n",
      "Threshold= 0.2436\n",
      "Shape:\n",
      "(8143, 5)\n",
      "Accuracy 0.9046904315196999\n",
      "Threshold= 0.2451\n",
      "Shape:\n",
      "(8143, 5)\n",
      "Accuracy 0.9046904315196999\n",
      "Threshold= 0.24640000000000004\n",
      "Shape:\n",
      "(8143, 5)\n",
      "Accuracy 0.9046904315196999\n",
      "Threshold= 0.24750000000000003\n",
      "Shape:\n",
      "(8143, 5)\n",
      "Accuracy 0.9046904315196999\n",
      "Threshold= 0.24840000000000004\n",
      "Shape:\n",
      "(8143, 5)\n",
      "Accuracy 0.9046904315196999\n",
      "Threshold= 0.2491\n",
      "Shape:\n",
      "(8143, 5)\n",
      "Accuracy 0.9046904315196999\n",
      "Threshold= 0.2496\n",
      "Shape:\n",
      "(8143, 5)\n",
      "Accuracy 0.9046904315196999\n",
      "Threshold= 0.2499\n",
      "Shape:\n",
      "(8143, 5)\n",
      "Accuracy 0.9046904315196999\n",
      "Threshold= 0.25\n",
      "Shape:\n",
      "(8143, 5)\n",
      "Accuracy 0.9046904315196999\n",
      "Threshold= 0.2499\n",
      "Shape:\n",
      "(8143, 5)\n",
      "Accuracy 0.9046904315196999\n",
      "Threshold= 0.2496\n",
      "Shape:\n",
      "(8143, 5)\n",
      "Accuracy 0.9046904315196999\n",
      "Threshold= 0.2491\n",
      "Shape:\n",
      "(8143, 5)\n",
      "Accuracy 0.9046904315196999\n",
      "Threshold= 0.2484\n",
      "Shape:\n",
      "(8143, 5)\n",
      "Accuracy 0.9046904315196999\n",
      "Threshold= 0.2475\n",
      "Shape:\n",
      "(8143, 5)\n",
      "Accuracy 0.9046904315196999\n",
      "Threshold= 0.24639999999999998\n",
      "Shape:\n",
      "(8143, 5)\n",
      "Accuracy 0.9046904315196999\n",
      "Threshold= 0.2451\n",
      "Shape:\n",
      "(8143, 5)\n",
      "Accuracy 0.9046904315196999\n",
      "Threshold= 0.2436\n",
      "Shape:\n",
      "(8143, 5)\n",
      "Accuracy 0.9046904315196999\n",
      "Threshold= 0.2419\n",
      "Shape:\n",
      "(8143, 5)\n",
      "Accuracy 0.9046904315196999\n",
      "Threshold= 0.24\n",
      "Shape:\n",
      "(8143, 5)\n",
      "Accuracy 0.9046904315196999\n",
      "Threshold= 0.2379\n",
      "Shape:\n",
      "(8143, 5)\n",
      "Accuracy 0.9046904315196999\n",
      "Threshold= 0.2356\n",
      "Shape:\n",
      "(8143, 5)\n",
      "Accuracy 0.9046904315196999\n",
      "Threshold= 0.2331\n",
      "Shape:\n",
      "(8143, 5)\n",
      "Accuracy 0.9046904315196999\n",
      "Threshold= 0.2304\n",
      "Shape:\n",
      "(8143, 5)\n",
      "Accuracy 0.9046904315196999\n",
      "Threshold= 0.22749999999999998\n",
      "Shape:\n",
      "(8143, 6)\n",
      "Accuracy 0.9185741088180113\n",
      "Threshold= 0.2244\n",
      "Shape:\n",
      "(8143, 6)\n",
      "Accuracy 0.9185741088180113\n",
      "Threshold= 0.2211\n",
      "Shape:\n",
      "(8143, 6)\n",
      "Accuracy 0.9185741088180113\n",
      "Threshold= 0.2176\n",
      "Shape:\n",
      "(8143, 6)\n",
      "Accuracy 0.9185741088180113\n",
      "Threshold= 0.2139\n",
      "Shape:\n",
      "(8143, 6)\n",
      "Accuracy 0.9185741088180113\n",
      "Threshold= 0.21000000000000002\n",
      "Shape:\n",
      "(8143, 6)\n",
      "Accuracy 0.9185741088180113\n",
      "Threshold= 0.20590000000000003\n",
      "Shape:\n",
      "(8143, 6)\n",
      "Accuracy 0.9185741088180113\n",
      "Threshold= 0.2016\n",
      "Shape:\n",
      "(8143, 6)\n",
      "Accuracy 0.9185741088180113\n",
      "Threshold= 0.1971\n",
      "Shape:\n",
      "(8143, 6)\n",
      "Accuracy 0.9185741088180113\n",
      "Threshold= 0.19240000000000002\n",
      "Shape:\n",
      "(8143, 6)\n",
      "Accuracy 0.9185741088180113\n",
      "Threshold= 0.1875\n",
      "Shape:\n",
      "(8143, 7)\n",
      "Accuracy 0.9786116322701689\n",
      "Threshold= 0.1824\n",
      "Shape:\n",
      "(8143, 7)\n",
      "Accuracy 0.9786116322701689\n",
      "Threshold= 0.17709999999999998\n",
      "Shape:\n",
      "(8143, 7)\n",
      "Accuracy 0.9786116322701689\n",
      "Threshold= 0.17159999999999997\n",
      "Shape:\n",
      "(8143, 7)\n",
      "Accuracy 0.9786116322701689\n",
      "Threshold= 0.1659\n",
      "Shape:\n",
      "(8143, 7)\n",
      "Accuracy 0.9786116322701689\n",
      "Threshold= 0.15999999999999998\n",
      "Shape:\n",
      "(8143, 7)\n",
      "Accuracy 0.9786116322701689\n",
      "Threshold= 0.15389999999999995\n",
      "Shape:\n",
      "(8143, 7)\n",
      "Accuracy 0.9786116322701689\n",
      "Threshold= 0.14760000000000004\n",
      "Shape:\n",
      "(8143, 7)\n",
      "Accuracy 0.9786116322701689\n",
      "Threshold= 0.14110000000000003\n",
      "Shape:\n",
      "(8143, 7)\n",
      "Accuracy 0.9786116322701689\n",
      "Threshold= 0.13440000000000002\n",
      "Shape:\n",
      "(8143, 7)\n",
      "Accuracy 0.9786116322701689\n",
      "Threshold= 0.1275\n",
      "Shape:\n",
      "(8143, 7)\n",
      "Accuracy 0.9786116322701689\n",
      "Threshold= 0.12040000000000001\n",
      "Shape:\n",
      "(8143, 7)\n",
      "Accuracy 0.9786116322701689\n",
      "Threshold= 0.1131\n",
      "Shape:\n",
      "(8143, 7)\n",
      "Accuracy 0.9786116322701689\n",
      "Threshold= 0.1056\n",
      "Shape:\n",
      "(8143, 7)\n",
      "Accuracy 0.9786116322701689\n",
      "Threshold= 0.09789999999999999\n",
      "Shape:\n",
      "(8143, 7)\n",
      "Accuracy 0.9786116322701689\n",
      "Threshold= 0.08999999999999998\n",
      "Shape:\n",
      "(8143, 7)\n",
      "Accuracy 0.9786116322701689\n",
      "Threshold= 0.08189999999999997\n",
      "Shape:\n",
      "(8143, 7)\n",
      "Accuracy 0.9786116322701689\n",
      "Threshold= 0.07359999999999997\n",
      "Shape:\n",
      "(8143, 7)\n",
      "Accuracy 0.9786116322701689\n",
      "Threshold= 0.06509999999999996\n",
      "Shape:\n",
      "(8143, 7)\n",
      "Accuracy 0.9786116322701689\n",
      "Threshold= 0.05640000000000005\n",
      "Shape:\n",
      "(8143, 7)\n",
      "Accuracy 0.9786116322701689\n",
      "Threshold= 0.04750000000000004\n",
      "Shape:\n",
      "(8143, 7)\n",
      "Accuracy 0.9786116322701689\n",
      "Threshold= 0.03840000000000003\n",
      "Shape:\n",
      "(8143, 7)\n",
      "Accuracy 0.9786116322701689\n",
      "Threshold= 0.029100000000000025\n",
      "Shape:\n",
      "(8143, 7)\n",
      "Accuracy 0.9786116322701689\n",
      "Threshold= 0.019600000000000017\n",
      "Shape:\n",
      "(8143, 7)\n",
      "Accuracy 0.9786116322701689\n",
      "Threshold= 0.00990000000000001\n",
      "Shape:\n",
      "(8143, 7)\n",
      "Accuracy 0.9786116322701689\n",
      "Threshold= 0.0\n",
      "Shape:\n",
      "(8143, 8)\n",
      "Accuracy 0.9786116322701689\n"
     ]
    }
   ],
   "source": [
    "#Reducing the number of the attribute\n",
    "accuracy = []\n",
    "trsh = []\n",
    "for count in range(1,101):\n",
    "    \n",
    "    sel = VarianceThreshold(threshold=(count/100 * (1 - count/100)))\n",
    "    X_train_sel = sel.fit_transform(X_train)\n",
    "    X_test_sel = sel.transform(X_test)\n",
    "    trs=count/100 * (1 - count/100)\n",
    "    trsh.append(count/100 * (1 - count/100))\n",
    "    \n",
    "    print('Threshold= %s' % trs)\n",
    "    print('Shape:')\n",
    "    print(X_train_sel.shape)\n",
    "    X_test_sel = sel.transform(X_test)\n",
    "    clf = GaussianNB()\n",
    "    clf.fit(X_train_sel, y_train)\n",
    "    y_pred = clf.predict(X_test_sel)\n",
    "    print('Accuracy %s' % accuracy_score(y_test, y_pred))\n",
    "    accuracy.append(accuracy_score(y_test, y_pred))\n",
    "\n",
    "\n",
    "#print(\"New shape of the dataset:\")\n",
    "#print(X_train_sel.shape)"
   ]
  },
  {
   "cell_type": "code",
   "execution_count": 6,
   "metadata": {
    "scrolled": false
   },
   "outputs": [
    {
     "data": {
      "text/plain": [
       "Text(0, 0.5, 'Accuracy')"
      ]
     },
     "execution_count": 6,
     "metadata": {},
     "output_type": "execute_result"
    },
    {
     "data": {
      "image/png": "[encoded data removed]",
      "text/plain": [
       "<Figure size 1440x504 with 1 Axes>"
      ]
     },
     "metadata": {
      "needs_background": "light"
     },
     "output_type": "display_data"
    }
   ],
   "source": [
    "#Graph of the variation of the accuracy at the variation of K\n",
    "plt.figure(figsize=(20, 7))\n",
    "plt.plot(trsh, accuracy, color='blue', marker='o',\n",
    "         markerfacecolor='red', markersize=10)\n",
    "plt.title('Accuracy Rate threshold')\n",
    "plt.xlabel('Threshold')\n",
    "plt.ylabel('Accuracy')"
   ]
  },
  {
   "cell_type": "code",
   "execution_count": 7,
   "metadata": {},
   "outputs": [
    {
     "name": "stdout",
     "output_type": "stream",
     "text": [
      "Accuracy 0.9786116322701689\n",
      "F1-score [0.98288802 0.97148574]\n",
      "              precision    recall  f1-score   support\n",
      "\n",
      "           0       1.00      0.97      0.98      1693\n",
      "           1       0.95      1.00      0.97       972\n",
      "\n",
      "    accuracy                           0.98      2665\n",
      "   macro avg       0.97      0.98      0.98      2665\n",
      "weighted avg       0.98      0.98      0.98      2665\n",
      "\n"
     ]
    },
    {
     "data": {
      "text/plain": [
       "array([[1637,   56],\n",
       "       [   1,  971]])"
      ]
     },
     "execution_count": 7,
     "metadata": {},
     "output_type": "execute_result"
    }
   ],
   "source": [
    "#Try the classification using the ORIGINAL decision tree with the ORIGINAL prepared dataset\n",
    "clf = GaussianNB()\n",
    "clf.fit(X_train, y_train)\n",
    "\n",
    "y_pred = clf.predict(X_test)\n",
    "\n",
    "print('Accuracy %s' % accuracy_score(y_test, y_pred))\n",
    "print('F1-score %s' % f1_score(y_test, y_pred, average=None))\n",
    "print(classification_report(y_test, y_pred))\n",
    "confusion_matrix(y_test, y_pred)"
   ]
  },
  {
   "cell_type": "code",
   "execution_count": 8,
   "metadata": {},
   "outputs": [
    {
     "data": {
      "text/plain": [
       "(8143, 4)"
      ]
     },
     "execution_count": 8,
     "metadata": {},
     "output_type": "execute_result"
    }
   ],
   "source": [
    "#Reducing the attribute using a Key (K)\n",
    "sel = SelectKBest(k=4)\n",
    "X_train_sel = sel.fit_transform(X_train, y_train)\n",
    "\n",
    "X_train_sel.shape"
   ]
  },
  {
   "cell_type": "code",
   "execution_count": 9,
   "metadata": {},
   "outputs": [
    {
     "name": "stdout",
     "output_type": "stream",
     "text": [
      "Accuracy 0.9786116322701689\n",
      "F1-score [0.98288802 0.97148574]\n",
      "              precision    recall  f1-score   support\n",
      "\n",
      "           0       1.00      0.97      0.98      1693\n",
      "           1       0.95      1.00      0.97       972\n",
      "\n",
      "    accuracy                           0.98      2665\n",
      "   macro avg       0.97      0.98      0.98      2665\n",
      "weighted avg       0.98      0.98      0.98      2665\n",
      "\n"
     ]
    },
    {
     "data": {
      "text/plain": [
       "array([[1637,   56],\n",
       "       [   1,  971]])"
      ]
     },
     "execution_count": 9,
     "metadata": {},
     "output_type": "execute_result"
    }
   ],
   "source": [
    "#See the classification using the reducted dataset\n",
    "X_test_sel = sel.transform(X_test)\n",
    "\n",
    "clf = GaussianNB()\n",
    "clf.fit(X_train_sel, y_train)\n",
    "\n",
    "y_pred = clf.predict(X_test_sel)\n",
    "\n",
    "print('Accuracy %s' % accuracy_score(y_test, y_pred))\n",
    "print('F1-score %s' % f1_score(y_test, y_pred, average=None))\n",
    "print(classification_report(y_test, y_pred))\n",
    "confusion_matrix(y_test, y_pred)"
   ]
  },
  {
   "cell_type": "code",
   "execution_count": 10,
   "metadata": {},
   "outputs": [
    {
     "name": "stdout",
     "output_type": "stream",
     "text": [
      "K= 1\n",
      "Accuracy 0.9786116322701689\n",
      "K= 2\n",
      "Accuracy 0.9786116322701689\n",
      "K= 3\n",
      "Accuracy 0.9786116322701689\n",
      "K= 4\n",
      "Accuracy 0.9786116322701689\n",
      "K= 5\n",
      "Accuracy 0.9786116322701689\n",
      "K= 6\n",
      "Accuracy 0.9786116322701689\n",
      "K= 7\n",
      "Accuracy 0.9786116322701689\n",
      "K= 8\n",
      "Accuracy 0.9786116322701689\n"
     ]
    }
   ],
   "source": [
    "#See the accuracy with the different values of Key\n",
    "accuracy = []\n",
    "for count in range(1,9):\n",
    "    sel = SelectKBest(k=count)\n",
    "    X_train_sel = sel.fit_transform(X_train, y_train)\n",
    "    X_train_sel.shape\n",
    "    print('K= %s' % count)\n",
    "    X_test_sel = sel.transform(X_test)\n",
    "    clf = GaussianNB()\n",
    "    clf.fit(X_train_sel, y_train)\n",
    "    y_pred = clf.predict(X_test_sel)\n",
    "    print('Accuracy %s' % accuracy_score(y_test, y_pred))\n",
    "    accuracy.append(accuracy_score(y_test, y_pred))"
   ]
  },
  {
   "cell_type": "code",
   "execution_count": 11,
   "metadata": {
    "scrolled": true
   },
   "outputs": [
    {
     "data": {
      "text/plain": [
       "Text(0, 0.5, 'Accuracy')"
      ]
     },
     "execution_count": 11,
     "metadata": {},
     "output_type": "execute_result"
    },
    {
     "data": {
      "image/png": "[encoded data removed]",
      "text/plain": [
       "<Figure size 1440x432 with 1 Axes>"
      ]
     },
     "metadata": {
      "needs_background": "light"
     },
     "output_type": "display_data"
    }
   ],
   "source": [
    "#Graph of the variation of the accuracy at the variation of K\n",
    "plt.figure(figsize=(20, 6))\n",
    "plt.plot(range(1, 9), accuracy, color='blue', linestyle='dashed', marker='o',\n",
    "         markerfacecolor='red', markersize=10)\n",
    "plt.title('Accuracy Rate K Value')\n",
    "plt.xlabel('K Value')\n",
    "plt.ylabel('Accuracy')"
   ]
  },
  {
   "cell_type": "code",
   "execution_count": 12,
   "metadata": {},
   "outputs": [],
   "source": [
    "#Aplly the PCA algorithm with n_components=2 for plotting the dataset\n",
    "pca = PCA(n_components=2)\n",
    "pca.fit(X_train)\n",
    "X_train_pca = pca.transform(X_train)"
   ]
  },
  {
   "cell_type": "code",
   "execution_count": 13,
   "metadata": {},
   "outputs": [
    {
     "data": {
      "image/png": "[encoded data removed]",
      "text/plain": [
       "<Figure size 432x288 with 1 Axes>"
      ]
     },
     "metadata": {
      "needs_background": "light"
     },
     "output_type": "display_data"
    }
   ],
   "source": [
    "#Plotting the dataset\n",
    "plt.scatter(X_train_pca[:, 0], X_train_pca[:, 1], c=y_train, cmap=plt.cm.prism, edgecolor='k', alpha=1)\n",
    "plt.show()"
   ]
  },
  {
   "cell_type": "code",
   "execution_count": 14,
   "metadata": {
    "scrolled": true
   },
   "outputs": [
    {
     "name": "stdout",
     "output_type": "stream",
     "text": [
      "Accuracy 0.8863039399624766\n",
      "F1-score [0.9134533 0.8343357]\n",
      "              precision    recall  f1-score   support\n",
      "\n",
      "           0       0.88      0.94      0.91      1693\n",
      "           1       0.89      0.78      0.83       972\n",
      "\n",
      "    accuracy                           0.89      2665\n",
      "   macro avg       0.89      0.86      0.87      2665\n",
      "weighted avg       0.89      0.89      0.88      2665\n",
      "\n"
     ]
    }
   ],
   "source": [
    "##See the classification using the reducted dataset with PCA\n",
    "X_test_pca = pca.transform(X_test)\n",
    "\n",
    "clf = GaussianNB()\n",
    "clf.fit(X_train_pca, y_train)\n",
    "\n",
    "y_pred = clf.predict(X_test_pca)\n",
    "\n",
    "print('Accuracy %s' % accuracy_score(y_test, y_pred))\n",
    "print('F1-score %s' % f1_score(y_test, y_pred, average=None))\n",
    "print(classification_report(y_test, y_pred))"
   ]
  },
  {
   "cell_type": "code",
   "execution_count": null,
   "metadata": {},
   "outputs": [],
   "source": []
  }
 ],
 "metadata": {
  "kernelspec": {
   "display_name": "Python 3 (ipykernel)",
   "language": "python",
   "name": "python3"
  },
  "language_info": {
   "codemirror_mode": {
    "name": "ipython",
    "version": 3
   },
   "file_extension": ".py",
   "mimetype": "text/x-python",
   "name": "python",
   "nbconvert_exporter": "python",
   "pygments_lexer": "ipython3",
   "version": "3.9.7"
  }
 },
 "nbformat": 4,
 "nbformat_minor": 2
}
