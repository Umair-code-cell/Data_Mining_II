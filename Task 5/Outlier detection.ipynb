{
 "cells": [
  {
   "cell_type": "code",
   "execution_count": 1,
   "metadata": {},
   "outputs": [],
   "source": [
    "%matplotlib inline\n",
    "\n",
    "import numpy as np\n",
    "import pandas as pd\n",
    "import matplotlib.pyplot as plt\n",
    "import seaborn as sns\n",
    "\n",
    "from collections import defaultdict"
   ]
  },
  {
   "cell_type": "code",
   "execution_count": 2,
   "metadata": {},
   "outputs": [],
   "source": [
    "df=pd.read_csv(\"../datatraining.csv\", sep=\";\")\n",
    "test=pd.read_csv(\"../datatest.csv\", sep=\";\")"
   ]
  },
  {
   "cell_type": "code",
   "execution_count": 3,
   "metadata": {},
   "outputs": [],
   "source": [
    "class_name='Occupancy'\n",
    "attributes = [col for col in df.columns if \n",
    "              col == 'Temperature'\n",
    "              or col == 'Humidity'\n",
    "              or col == 'Light'\n",
    "              or col == 'CO2'\n",
    "             ]\n",
    "X_train = df[attributes]\n",
    "y_train = df[class_name]\n",
    "\n",
    "X_test=test[attributes]\n",
    "y_test = df[class_name]"
   ]
  },
  {
   "cell_type": "code",
   "execution_count": 5,
   "metadata": {},
   "outputs": [],
   "source": [
    "X_trainv=X_train.values\n",
    "X_testv=X_test.values"
   ]
  },
  {
   "cell_type": "code",
   "execution_count": 26,
   "metadata": {},
   "outputs": [],
   "source": [
    "import warnings\n",
    "warnings.simplefilter(\"ignore\")"
   ]
  },
  {
   "cell_type": "code",
   "execution_count": 34,
   "metadata": {},
   "outputs": [
    {
     "data": {
      "text/plain": [
       "KNN(algorithm='auto', contamination=0.1, leaf_size=30, method='largest',\n",
       "  metric='minkowski', metric_params=None, n_jobs=1, n_neighbors=5, p=2,\n",
       "  radius=1.0)"
      ]
     },
     "execution_count": 34,
     "metadata": {},
     "output_type": "execute_result"
    }
   ],
   "source": [
    "clf = KNN()\n",
    "clf.fit(X_train)"
   ]
  },
  {
   "cell_type": "code",
   "execution_count": 35,
   "metadata": {},
   "outputs": [
    {
     "data": {
      "text/plain": [
       "array([11.35807132,  8.98006716,  9.01432887, ..., 14.93316862,\n",
       "       14.01599245, 15.99986562])"
      ]
     },
     "execution_count": 35,
     "metadata": {},
     "output_type": "execute_result"
    }
   ],
   "source": [
    "clf.decision_scores_"
   ]
  },
  {
   "cell_type": "code",
   "execution_count": 36,
   "metadata": {},
   "outputs": [],
   "source": [
    "anomlay_score = clf.decision_function(X_train)"
   ]
  },
  {
   "cell_type": "code",
   "execution_count": 37,
   "metadata": {},
   "outputs": [
    {
     "data": {
      "text/plain": [
       "(array([0, 1]), array([7495,  648]))"
      ]
     },
     "execution_count": 37,
     "metadata": {},
     "output_type": "execute_result"
    }
   ],
   "source": [
    "outliers = clf.predict(X_train)\n",
    "np.unique(outliers, return_counts=True)"
   ]
  },
  {
   "cell_type": "code",
   "execution_count": 38,
   "metadata": {},
   "outputs": [
    {
     "data": {
      "image/png": "[encoded data removed]",
      "text/plain": [
       "<Figure size 1440x504 with 1 Axes>"
      ]
     },
     "metadata": {
      "needs_background": "light"
     },
     "output_type": "display_data"
    }
   ],
   "source": [
    "plt.figure(figsize=(20,7))\n",
    "plt.hist(clf.decision_scores_, bins=100)\n",
    "#plt.axvline(min, c='k')\n",
    "plt.show()"
   ]
  },
  {
   "cell_type": "code",
   "execution_count": 39,
   "metadata": {},
   "outputs": [
    {
     "data": {
      "text/plain": [
       "20.64752968963714"
      ]
     },
     "execution_count": 39,
     "metadata": {},
     "output_type": "execute_result"
    }
   ],
   "source": [
    "np.mean(anomlay_score[np.where(outliers==1)])"
   ]
  },
  {
   "cell_type": "code",
   "execution_count": 40,
   "metadata": {},
   "outputs": [
    {
     "data": {
      "text/plain": [
       "1.960553706111737"
      ]
     },
     "execution_count": 40,
     "metadata": {},
     "output_type": "execute_result"
    }
   ],
   "source": [
    "np.mean(anomlay_score[np.where(outliers==0)])"
   ]
  },
  {
   "cell_type": "code",
   "execution_count": 41,
   "metadata": {},
   "outputs": [
    {
     "data": {
      "text/plain": [
       "22.570722897909175"
      ]
     },
     "execution_count": 41,
     "metadata": {},
     "output_type": "execute_result"
    }
   ],
   "source": [
    "np.mean(clf.decision_scores_[np.where(outliers==1)])"
   ]
  },
  {
   "cell_type": "code",
   "execution_count": 42,
   "metadata": {},
   "outputs": [
    {
     "data": {
      "text/plain": [
       "2.3041358579178195"
      ]
     },
     "execution_count": 42,
     "metadata": {},
     "output_type": "execute_result"
    }
   ],
   "source": [
    "np.mean(clf.decision_scores_[np.where(outliers==0)])"
   ]
  },
  {
   "cell_type": "code",
   "execution_count": 43,
   "metadata": {},
   "outputs": [
    {
     "data": {
      "text/plain": [
       "(array([0, 1]), array([7428,  715]))"
      ]
     },
     "execution_count": 43,
     "metadata": {},
     "output_type": "execute_result"
    }
   ],
   "source": [
    "clf = LOF()\n",
    "clf.fit(X_train)\n",
    "\n",
    "outliers = clf.predict(X_train)\n",
    "np.unique(outliers, return_counts=True)"
   ]
  },
  {
   "cell_type": "code",
   "execution_count": 44,
   "metadata": {},
   "outputs": [],
   "source": [
    "clf = AutoEncoder(hidden_neurons=[4, 32, 32, 4], epochs=20)"
   ]
  },
  {
   "cell_type": "code",
   "execution_count": 45,
   "metadata": {},
   "outputs": [
    {
     "name": "stdout",
     "output_type": "stream",
     "text": [
      "WARNING:tensorflow:From /opt/anaconda3/lib/python3.7/site-packages/tensorflow/python/ops/resource_variable_ops.py:435: colocate_with (from tensorflow.python.framework.ops) is deprecated and will be removed in a future version.\n",
      "Instructions for updating:\n",
      "Colocations handled automatically by placer.\n",
      "Model: \"sequential_1\"\n",
      "_________________________________________________________________\n",
      "Layer (type)                 Output Shape              Param #   \n",
      "=================================================================\n",
      "dense_1 (Dense)              (None, 4)                 20        \n",
      "_________________________________________________________________\n",
      "dropout_1 (Dropout)          (None, 4)                 0         \n",
      "_________________________________________________________________\n",
      "dense_2 (Dense)              (None, 4)                 20        \n",
      "_________________________________________________________________\n",
      "dropout_2 (Dropout)          (None, 4)                 0         \n",
      "_________________________________________________________________\n",
      "dense_3 (Dense)              (None, 4)                 20        \n",
      "_________________________________________________________________\n",
      "dropout_3 (Dropout)          (None, 4)                 0         \n",
      "_________________________________________________________________\n",
      "dense_4 (Dense)              (None, 32)                160       \n",
      "_________________________________________________________________\n",
      "dropout_4 (Dropout)          (None, 32)                0         \n",
      "_________________________________________________________________\n",
      "dense_5 (Dense)              (None, 32)                1056      \n",
      "_________________________________________________________________\n",
      "dropout_5 (Dropout)          (None, 32)                0         \n",
      "_________________________________________________________________\n",
      "dense_6 (Dense)              (None, 4)                 132       \n",
      "_________________________________________________________________\n",
      "dropout_6 (Dropout)          (None, 4)                 0         \n",
      "_________________________________________________________________\n",
      "dense_7 (Dense)              (None, 4)                 20        \n",
      "=================================================================\n",
      "Total params: 1,428\n",
      "Trainable params: 1,428\n",
      "Non-trainable params: 0\n",
      "_________________________________________________________________\n",
      "None\n",
      "WARNING:tensorflow:From /opt/anaconda3/lib/python3.7/site-packages/tensorflow/python/ops/math_ops.py:3066: to_int32 (from tensorflow.python.ops.math_ops) is deprecated and will be removed in a future version.\n",
      "Instructions for updating:\n",
      "Use tf.cast instead.\n",
      "Train on 7328 samples, validate on 815 samples\n",
      "Epoch 1/20\n",
      "7328/7328 [==============================] - 1s 197us/step - loss: 16.7709 - val_loss: 8.7457\n",
      "Epoch 2/20\n",
      "7328/7328 [==============================] - 1s 88us/step - loss: 6.6200 - val_loss: 4.5879\n",
      "Epoch 3/20\n",
      "7328/7328 [==============================] - 1s 113us/step - loss: 3.7668 - val_loss: 2.9832\n",
      "Epoch 4/20\n",
      "7328/7328 [==============================] - 1s 114us/step - loss: 2.6254 - val_loss: 2.2800\n",
      "Epoch 5/20\n",
      "7328/7328 [==============================] - 1s 87us/step - loss: 2.1177 - val_loss: 1.9314\n",
      "Epoch 6/20\n",
      "7328/7328 [==============================] - 1s 80us/step - loss: 1.8506 - val_loss: 1.7299\n",
      "Epoch 7/20\n",
      "7328/7328 [==============================] - 1s 78us/step - loss: 1.6842 - val_loss: 1.5959\n",
      "Epoch 8/20\n",
      "7328/7328 [==============================] - 1s 101us/step - loss: 1.5651 - val_loss: 1.4978\n",
      "Epoch 9/20\n",
      "7328/7328 [==============================] - 1s 87us/step - loss: 1.4796 - val_loss: 1.4210\n",
      "Epoch 10/20\n",
      "7328/7328 [==============================] - 1s 79us/step - loss: 1.4039 - val_loss: 1.3591\n",
      "Epoch 11/20\n",
      "7328/7328 [==============================] - 1s 92us/step - loss: 1.3462 - val_loss: 1.3081\n",
      "Epoch 12/20\n",
      "7328/7328 [==============================] - 1s 108us/step - loss: 1.2982 - val_loss: 1.2659\n",
      "Epoch 13/20\n",
      "7328/7328 [==============================] - 1s 111us/step - loss: 1.2578 - val_loss: 1.2299\n",
      "Epoch 14/20\n",
      "7328/7328 [==============================] - 1s 80us/step - loss: 1.2223 - val_loss: 1.1994\n",
      "Epoch 15/20\n",
      "7328/7328 [==============================] - 1s 102us/step - loss: 1.1931 - val_loss: 1.1735\n",
      "Epoch 16/20\n",
      "7328/7328 [==============================] - 1s 99us/step - loss: 1.1676 - val_loss: 1.1511\n",
      "Epoch 17/20\n",
      "7328/7328 [==============================] - 1s 92us/step - loss: 1.1459 - val_loss: 1.1318\n",
      "Epoch 18/20\n",
      "7328/7328 [==============================] - 1s 99us/step - loss: 1.1275 - val_loss: 1.1152\n",
      "Epoch 19/20\n",
      "7328/7328 [==============================] - 1s 86us/step - loss: 1.1109 - val_loss: 1.1007\n",
      "Epoch 20/20\n",
      "7328/7328 [==============================] - 1s 86us/step - loss: 1.0971 - val_loss: 1.0881\n"
     ]
    },
    {
     "data": {
      "text/plain": [
       "(array([0, 1]), array([7328,  815]))"
      ]
     },
     "execution_count": 45,
     "metadata": {},
     "output_type": "execute_result"
    }
   ],
   "source": [
    "clf.fit(X_train)\n",
    "\n",
    "outliers = clf.predict(X_train)\n",
    "np.unique(outliers, return_counts=True)"
   ]
  },
  {
   "cell_type": "code",
   "execution_count": 46,
   "metadata": {},
   "outputs": [],
   "source": [
    "anomlay_score = clf.decision_function(X_train)"
   ]
  },
  {
   "cell_type": "code",
   "execution_count": 47,
   "metadata": {},
   "outputs": [],
   "source": [
    "outliers_proba = clf.predict_proba(X_train)"
   ]
  },
  {
   "cell_type": "code",
   "execution_count": 48,
   "metadata": {},
   "outputs": [
    {
     "data": {
      "image/png": "[encoded data removed]",
      "text/plain": [
       "<Figure size 432x288 with 1 Axes>"
      ]
     },
     "metadata": {
      "needs_background": "light"
     },
     "output_type": "display_data"
    }
   ],
   "source": [
    "plt.hist(outliers_proba, bins=20)\n",
    "#plt.axvline(np.min(anomlay_score[np.where(outliers==1)]), c='k')\n",
    "plt.show()"
   ]
  },
  {
   "cell_type": "code",
   "execution_count": 49,
   "metadata": {},
   "outputs": [
    {
     "data": {
      "image/png": "[encoded data removed]",
      "text/plain": [
       "<Figure size 432x288 with 1 Axes>"
      ]
     },
     "metadata": {
      "needs_background": "light"
     },
     "output_type": "display_data"
    }
   ],
   "source": [
    "plt.hist(anomlay_score, bins=20)\n",
    "plt.axvline(np.min(anomlay_score[np.where(outliers==1)]), c='k')\n",
    "plt.show()"
   ]
  },
  {
   "cell_type": "code",
   "execution_count": null,
   "metadata": {},
   "outputs": [],
   "source": []
  }
 ],
 "metadata": {
  "kernelspec": {
   "display_name": "Python 3 (ipykernel)",
   "language": "python",
   "name": "python3"
  },
  "language_info": {
   "codemirror_mode": {
    "name": "ipython",
    "version": 3
   },
   "file_extension": ".py",
   "mimetype": "text/x-python",
   "name": "python",
   "nbconvert_exporter": "python",
   "pygments_lexer": "ipython3",
   "version": "3.9.7"
  }
 },
 "nbformat": 4,
 "nbformat_minor": 4
}
