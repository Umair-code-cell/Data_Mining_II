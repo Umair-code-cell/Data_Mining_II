{
 "cells": [
  {
   "cell_type": "code",
   "execution_count": 1,
   "metadata": {},
   "outputs": [
    {
     "name": "stderr",
     "output_type": "stream",
     "text": [
      "Using TensorFlow backend.\n"
     ]
    }
   ],
   "source": [
    "import warnings\n",
    "warnings.simplefilter(\"ignore\")\n",
    "\n",
    "%matplotlib inline\n",
    "\n",
    "import numpy as np\n",
    "import pandas as pd\n",
    "import matplotlib.pyplot as plt\n",
    "import seaborn as sns\n",
    "from pyod.models.abod import ABOD\n",
    "from pyod.models.knn import KNN\n",
    "from pyod.models.lof import LOF\n",
    "from pyod.models.loci import LOCI\n",
    "from pyod.models.auto_encoder import AutoEncoder\n",
    "\n",
    "from collections import defaultdict"
   ]
  },
  {
   "cell_type": "code",
   "execution_count": 2,
   "metadata": {},
   "outputs": [],
   "source": [
    "df=pd.read_csv(\"../datatraining.csv\", sep=\";\")\n",
    "test=pd.read_csv(\"../datatest.csv\", sep=\";\")"
   ]
  },
  {
   "cell_type": "code",
   "execution_count": 33,
   "metadata": {},
   "outputs": [],
   "source": [
    "class_name='Occupancy'\n",
    "attributes = [col for col in df.columns if \n",
    "              col == 'Temperature'\n",
    "              or col == 'Humidity'\n",
    "              or col == 'Light'\n",
    "              or col == 'CO2'\n",
    "              or col == 'id'\n",
    "             ]\n",
    "X_train = df[attributes]\n",
    "y_train = df[class_name]\n",
    "\n",
    "X_test=test[attributes]\n",
    "y_test = df[class_name]"
   ]
  },
  {
   "cell_type": "code",
   "execution_count": 4,
   "metadata": {},
   "outputs": [],
   "source": [
    "X_trainv=X_train.values\n",
    "X_testv=X_test.values"
   ]
  },
  {
   "cell_type": "code",
   "execution_count": 5,
   "metadata": {},
   "outputs": [
    {
     "data": {
      "text/plain": [
       "ABOD(contamination=0.1, method='fast', n_neighbors=10)"
      ]
     },
     "execution_count": 5,
     "metadata": {},
     "output_type": "execute_result"
    }
   ],
   "source": [
    "clf = ABOD(contamination=0.1, n_neighbors=10)\n",
    "clf.fit(X_trainv)"
   ]
  },
  {
   "cell_type": "code",
   "execution_count": 6,
   "metadata": {},
   "outputs": [
    {
     "data": {
      "text/plain": [
       "(array([0, 1]), array([7346,  797]))"
      ]
     },
     "execution_count": 6,
     "metadata": {},
     "output_type": "execute_result"
    }
   ],
   "source": [
    "outliers = clf.predict(X_train)\n",
    "np.unique(outliers, return_counts=True)"
   ]
  },
  {
   "cell_type": "code",
   "execution_count": 7,
   "metadata": {},
   "outputs": [
    {
     "data": {
      "text/plain": [
       "array([-3.83448944e-05, -8.79278129e-05, -8.48108550e-05, -1.98264326e-05,\n",
       "       -2.84247689e-05, -9.98234818e-05, -2.32333407e-05, -4.77793323e-05,\n",
       "       -7.89353783e-05, -7.64496881e-05, -9.82278011e-05, -5.55812266e-05,\n",
       "       -2.19266356e-05, -8.34900960e-05, -5.98141774e-05, -7.60340760e-05,\n",
       "       -1.32657660e-05, -3.09894553e-05, -7.67324455e-05, -1.16110318e-04,\n",
       "       -1.67689352e-05, -8.01619497e-05, -5.09412416e-05, -1.05593711e-04,\n",
       "       -1.37743506e-05, -1.07418287e-04, -2.46386759e-05, -2.93221706e-05,\n",
       "       -1.02195272e-04, -8.35836263e-05, -5.20912141e-05, -5.90197252e-05,\n",
       "       -8.73584030e-05, -4.78172263e-05, -9.70335346e-05, -9.76200432e-05,\n",
       "       -3.43151579e-05, -3.86353213e-05, -1.04089031e-04, -3.11985721e-05,\n",
       "       -6.07651009e-05, -9.94686408e-05, -2.59947915e-06, -6.40451690e-06,\n",
       "       -1.00215318e-05, -7.00118613e-06, -9.66268002e-06, -3.76368688e-06,\n",
       "       -1.52107628e-05, -7.80886416e-06, -3.57497106e-05, -1.04550315e-04,\n",
       "       -1.05672932e-04, -1.09866552e-04, -9.36884643e-05, -3.06659761e-05,\n",
       "       -7.22973063e-05, -9.02664568e-05, -7.97934933e-05, -2.47620188e-05,\n",
       "       -6.07855240e-05, -2.81523768e-05, -1.17383987e-05, -1.91156405e-05,\n",
       "       -8.02554772e-06, -1.14917233e-05, -1.39873753e-05, -4.10525925e-06,\n",
       "       -1.06826418e-06, -2.16744201e-07, -2.10734357e-07, -1.87892369e-06,\n",
       "       -1.28058307e-08, -2.51050701e-07, -1.14219211e-06, -4.92654261e-06,\n",
       "       -6.47131617e-07, -1.78773594e-06, -4.60019122e-06, -2.48751172e-06,\n",
       "       -1.69037579e-06, -2.50467560e-07, -1.05116818e-07, -3.17062642e-05,\n",
       "       -4.45359688e-05, -3.56923985e-06, -2.59790428e-06, -8.30991803e-06,\n",
       "       -7.06273192e-06, -1.32716257e-06, -2.08748121e-06, -7.31623421e-06,\n",
       "       -5.15821350e-05, -3.95106733e-05, -2.75162150e-05, -1.36106586e-05,\n",
       "       -3.92641622e-06, -7.66217574e-07, -9.11514587e-05, -2.64998878e-05,\n",
       "       -3.28389999e-05, -4.80763896e-06, -3.39753039e-05, -7.70746275e-09,\n",
       "       -3.47155642e-07, -8.95011162e-07, -4.52042442e-07, -3.01855254e-06,\n",
       "       -2.95307195e-06, -3.74965857e-07, -9.34434598e-06, -6.76881710e-06,\n",
       "       -2.20822529e-05, -9.93959426e-07, -3.20538575e-07, -8.05131583e-06,\n",
       "       -2.44151687e-09, -1.31212212e-06, -6.32702101e-06, -8.61981141e-05,\n",
       "       -3.43553013e-05, -6.27515835e-06, -9.14948088e-05, -9.17476593e-05,\n",
       "       -1.30454714e-05, -8.88809893e-06, -3.51027273e-06, -1.32282786e-06,\n",
       "       -7.79753530e-07, -2.59458975e-06, -2.27460491e-06, -2.63125027e-06,\n",
       "       -1.46304892e-07, -1.30134994e-09, -6.06985307e-05, -1.09982411e-04,\n",
       "       -1.38054378e-06, -1.11135337e-06, -7.97220753e-05, -2.87921925e-05,\n",
       "       -2.36684798e-06, -2.75721773e-05, -1.30910204e-05, -5.14371099e-05,\n",
       "       -6.77648614e-05, -5.18189602e-05, -1.05963569e-04, -4.21812556e-05,\n",
       "       -6.40941486e-05, -3.38375659e-05, -8.11186923e-05, -9.06390307e-05,\n",
       "       -5.34408877e-05, -2.92703830e-05, -4.11705825e-05, -7.15408570e-05,\n",
       "       -2.63911429e-05, -1.33683119e-04, -5.84141783e-05, -5.45909954e-05,\n",
       "       -2.86602816e-05, -1.85843555e-05, -1.40946573e-05, -7.82105724e-05,\n",
       "       -3.72961482e-05, -1.06162965e-06, -1.25522469e-06, -6.41910828e-06,\n",
       "       -7.89714615e-05, -1.79765466e-05, -6.52768035e-05, -1.68455055e-05,\n",
       "       -9.58691238e-05, -4.43567775e-05, -4.37141768e-05, -8.97956142e-06,\n",
       "       -3.79012679e-05, -9.93769047e-05, -2.82781490e-05, -5.46004676e-05,\n",
       "       -1.06084586e-05, -8.84035696e-05, -6.44383756e-05, -9.91695116e-05,\n",
       "       -7.58107941e-05, -1.10242909e-04, -4.87308292e-05, -9.07009598e-05,\n",
       "       -7.29141605e-05, -1.96317128e-05, -1.07266024e-09, -1.72329393e-05,\n",
       "       -1.04216360e-04, -4.58578966e-05, -2.04165469e-05, -2.16154693e-07,\n",
       "       -1.19433025e-06, -4.49705460e-05, -5.01129037e-05, -8.36360368e-05,\n",
       "       -1.21598732e-05, -8.90402602e-06, -6.14263045e-05, -1.10646944e-04,\n",
       "       -7.53938195e-05, -4.16089648e-05, -4.09979424e-05, -4.90192191e-05,\n",
       "       -8.34158416e-05, -5.89223466e-05, -7.79308051e-05, -2.16658501e-06,\n",
       "       -1.02468796e-04, -1.20944996e-05, -1.15011710e-04, -2.43814231e-04,\n",
       "       -8.67424183e-05, -2.52762597e-05, -8.45875330e-05, -2.52646666e-05,\n",
       "       -2.59953618e-06, -4.32034266e-05, -3.04125093e-05, -5.28039319e-05,\n",
       "       -4.86751383e-05, -1.03075620e-04, -3.86612236e-05, -3.74819034e-05,\n",
       "       -2.94864197e-05, -2.27836261e-07, -3.61375490e-05, -3.14052306e-05,\n",
       "       -1.88075237e-05, -2.02339949e-05, -8.03867004e-05, -4.40247347e-05,\n",
       "       -4.17914729e-05, -3.12811667e-05, -2.73996191e-05, -1.81689365e-05,\n",
       "       -5.21267665e-06, -5.51958137e-06, -2.78429325e-05, -1.20545000e-08,\n",
       "       -1.04556763e-06, -2.03781558e-05, -1.42808476e-05, -2.80615373e-05,\n",
       "       -9.38398391e-06, -2.77997195e-05, -2.56745353e-05, -1.15287580e-05,\n",
       "       -1.66771486e-05, -5.07201670e-06, -3.31604387e-05, -4.60795566e-05,\n",
       "       -3.87891409e-05, -7.39397657e-06, -1.07045667e-07, -7.08126107e-06,\n",
       "       -3.10839065e-06, -1.05350110e-06, -1.05900360e-09, -9.41891718e-11,\n",
       "       -8.19191760e-06, -8.79004145e-06, -5.75294446e-05, -7.84371068e-05,\n",
       "       -5.63811280e-05, -4.68418579e-05, -7.24524390e-05, -1.02269510e-06,\n",
       "       -1.57837098e-06, -2.93298580e-05, -5.36329801e-05, -4.56682541e-05,\n",
       "       -7.47403501e-06, -2.06771359e-05, -8.72084841e-05, -9.38507672e-05,\n",
       "       -5.33306515e-05, -6.01505660e-05, -5.42545446e-06, -1.32605473e-05,\n",
       "       -1.79717131e-05, -4.34570698e-05, -5.80305028e-05, -6.62228052e-05,\n",
       "       -4.53993851e-05, -3.29428537e-05, -4.82643702e-06, -4.24146066e-06,\n",
       "       -2.31701712e-06, -2.48904071e-06, -1.97750887e-06, -1.03115961e-06,\n",
       "       -1.38842233e-05, -2.18651711e-05, -5.11509031e-05, -4.74700630e-05,\n",
       "       -2.80500617e-05, -4.76828439e-05, -3.75481833e-06, -6.71993938e-06,\n",
       "       -1.60761295e-05, -1.76941291e-05, -6.93868937e-05, -9.59534869e-05,\n",
       "       -9.37840054e-05, -1.18898567e-04, -5.15976262e-06, -7.17672744e-05,\n",
       "       -4.62396462e-05, -6.78018585e-05, -6.43308914e-05, -3.07023920e-05,\n",
       "       -2.68851976e-05, -3.22174241e-05, -3.13616774e-05, -2.46825446e-05,\n",
       "       -3.64461857e-05, -5.90292851e-05, -1.65582646e-05, -2.65098000e-05,\n",
       "       -3.63401745e-05, -4.49413738e-05, -7.58198077e-05, -1.02300280e-04,\n",
       "       -9.79001673e-05, -4.27553963e-05, -6.73368457e-05, -7.67531032e-05,\n",
       "       -1.45089287e-05, -4.42955980e-05, -1.02957933e-04, -1.22762636e-05,\n",
       "       -6.38063995e-05, -9.77850794e-05, -9.88368337e-05, -8.30136081e-05,\n",
       "       -2.63892497e-05, -2.88569527e-05, -5.89808981e-05, -9.19926456e-05,\n",
       "       -4.22688081e-05, -1.48457517e-04, -8.84903412e-05, -2.56816011e-05,\n",
       "       -6.30478160e-05, -9.24242080e-05, -6.06249160e-05, -4.46136301e-05,\n",
       "       -2.04081633e+03, -2.04081633e+03, -2.04081633e+03, -2.04081633e+03,\n",
       "       -1.53679987e+03, -1.53679987e+03, -1.53679987e+03, -1.53679987e+03,\n",
       "       -1.53679987e+03, -1.53679987e+03, -1.53679987e+03, -1.53679987e+03,\n",
       "       -3.38701756e+03, -3.83322152e+01, -3.83322152e+01, -3.38701756e+03,\n",
       "       -3.38701756e+03, -3.38701756e+03, -3.38701756e+03, -3.38701756e+03,\n",
       "       -3.38701756e+03, -3.38701756e+03, -3.02910416e-05, -1.19871178e-05,\n",
       "       -9.90076823e-05, -9.44050172e-05, -1.14743889e-04, -6.40918007e-05,\n",
       "       -9.13614845e-05, -7.61418616e-05, -8.85747740e-05, -1.18133190e-10,\n",
       "       -1.56170674e-11, -3.00469301e-11, -8.19814951e-13, -6.22969935e-05,\n",
       "       -2.34473306e-05, -1.56522819e-05, -9.59898657e-05, -2.46786250e-05,\n",
       "       -1.15278843e-04, -9.20789994e-05, -1.58742439e-04, -1.14846874e-04,\n",
       "       -4.71596923e-05, -4.62741432e-05, -4.03872111e-05, -4.76588657e-05,\n",
       "       -9.93582035e-05, -8.94076384e-05, -7.93141839e-05, -6.68107305e-05,\n",
       "       -6.95464793e-05, -9.54547146e-05, -2.65213143e-05, -1.39366300e-05,\n",
       "       -8.39794856e-06, -9.00508113e-05, -7.03099672e-05, -1.42294000e-04,\n",
       "       -6.37249830e-05, -5.77605987e-05, -9.97960150e-05, -7.59059375e-07,\n",
       "       -2.21064232e-05, -6.35873043e-05, -2.88375500e-05, -9.15041880e-05,\n",
       "       -3.64557834e-05, -9.29392324e-05, -9.19576225e-05, -3.18644175e-05,\n",
       "       -3.73260299e-05, -8.64532501e-05, -1.08376160e-04, -9.86733403e-05,\n",
       "       -1.63964176e-05, -4.64205258e-05, -2.11426447e-05, -7.83118291e-05,\n",
       "       -1.62392658e-05, -4.38957476e+04, -4.38957476e+04, -8.30496706e+04,\n",
       "       -8.30496706e+04, -8.30496706e+04, -8.30496706e+04, -4.38957476e+04,\n",
       "       -4.38957476e+04, -4.38957476e+04, -4.38957476e+04, -8.30496706e+04,\n",
       "       -4.38957476e+04, -4.38957476e+04, -8.30496706e+04, -8.30496706e+04,\n",
       "       -8.30496706e+04, -6.60768215e-07, -2.83121938e-07, -4.04040529e-05,\n",
       "       -3.04106894e-05, -1.38813866e-05, -5.06547543e-05, -5.11303907e-05,\n",
       "       -1.03898492e-04, -1.97554625e-05, -3.73274020e-05, -2.12367437e-05,\n",
       "       -3.12700093e-05, -2.52794900e-05, -1.41494519e-05, -1.01038511e-05,\n",
       "       -8.43683715e-06, -2.24906221e-05, -2.70744435e-05, -6.24701174e-06,\n",
       "       -2.53978824e-06, -1.22553968e-06, -5.62973243e-06, -6.55091608e-06,\n",
       "       -2.35071686e-06, -2.31439121e-05, -4.43558918e-05, -2.56513824e-05,\n",
       "       -1.03962876e-05, -3.45578150e-06, -7.00404965e-06, -8.29684126e-06,\n",
       "       -1.43893732e-05, -8.13218103e-05, -5.70852559e-05, -1.24407230e-05,\n",
       "       -3.22385328e-06, -5.57317995e-06, -5.98457858e-05, -5.04952826e-05,\n",
       "       -3.80247285e-05, -1.01576996e-04, -3.27132045e-05, -1.00358481e-04,\n",
       "       -1.04300500e-04, -5.09965792e-05, -5.81154898e-05, -3.23185000e-05,\n",
       "       -4.15477743e-05, -4.83550407e-05, -4.07281981e-05, -8.83908274e-05,\n",
       "       -5.15509323e-05, -6.03945005e-05, -7.55206468e-05, -1.01357848e-04,\n",
       "       -6.98181421e-05, -9.22174710e-05, -5.45140644e-05, -8.83503149e-05,\n",
       "       -6.17370340e-05, -5.90521175e-05, -1.92590744e-05, -6.18272895e-06,\n",
       "       -3.64836004e-05, -1.93202196e-05, -8.64227860e-06, -2.52196298e-05,\n",
       "       -2.90449788e-05, -1.29599677e-05, -2.49863288e-05, -3.40834522e-05,\n",
       "       -2.09113776e-05, -1.25362753e-05, -3.86067920e-05, -5.31956380e-05,\n",
       "       -4.92498186e-05, -3.17580070e-05, -1.99013458e-05, -2.68755750e-05,\n",
       "       -3.55337444e-05, -1.79200470e-05, -2.17471339e-05, -1.49085547e-05,\n",
       "       -3.33603959e-05, -5.33366711e-05, -2.30625272e-05, -9.06645176e-05,\n",
       "       -3.85225224e-05, -3.93749003e-05, -1.50441086e-05, -5.14067226e-05,\n",
       "       -5.82847190e-05, -5.09263472e-05, -8.66592682e-05, -9.98285969e-05,\n",
       "       -3.22651207e-05, -5.57119672e-05, -9.70130780e-05, -1.06642940e-05,\n",
       "       -2.86714461e-05, -5.87096377e-06, -5.23429940e-05, -9.19983365e-05,\n",
       "       -7.68310464e-06, -9.51794534e-05, -1.07292642e-04, -9.02413565e-05,\n",
       "       -1.12557213e-05, -1.05159544e-04, -2.47926457e-05, -2.83353039e-05,\n",
       "       -9.18369306e-05, -1.00571789e-04, -4.27627908e-05, -8.53464854e-05,\n",
       "       -2.58018967e-05, -1.52603548e-05, -9.99604395e-05, -4.07013345e-05,\n",
       "       -7.80935199e-05, -6.09795525e-05, -2.70688373e-05, -7.14904889e-05,\n",
       "       -5.64341307e-05, -2.91926673e-05, -6.32623705e-05, -8.66286022e-05,\n",
       "       -7.43153713e-06, -6.55777768e-05, -9.72738523e-06, -4.21737049e-05,\n",
       "       -8.67741826e-05, -7.18466900e-05, -1.11629164e-04, -4.60590176e-05,\n",
       "       -9.06988753e-05, -1.74703303e-05, -8.41993882e-06, -8.41279933e-06,\n",
       "       -1.87802360e-05, -4.18892830e-05, -3.04009318e-05, -3.11768711e-05,\n",
       "       -1.97269613e-05, -6.43323005e-05, -2.00978620e-05, -1.42320010e-05,\n",
       "       -1.54873225e-05, -4.07964588e-05, -2.72862995e-05, -1.88494276e-05,\n",
       "       -3.69262808e-05, -5.89691220e-05, -5.00688191e-06, -2.46100044e-12,\n",
       "       -8.69139615e-10, -5.22208743e-05, -9.05492334e-05, -4.37335056e-05,\n",
       "       -3.61204334e-05, -8.04609903e-05, -9.92874454e-06, -4.42716296e-06,\n",
       "       -3.65291635e-06, -6.96314673e-06, -2.30101150e-05, -3.35275793e-05,\n",
       "       -2.85527629e-05, -2.20403580e-05, -7.43475564e-06, -1.77160462e-05,\n",
       "       -4.10928391e-05, -2.61934527e-05, -7.02209566e-05, -5.74496642e-05,\n",
       "       -9.76961625e-05, -1.07679019e-05, -2.84430188e-05, -5.34093269e-05,\n",
       "       -3.02376264e-05, -2.19072230e-05, -8.81336272e-05, -2.03388413e-05,\n",
       "       -3.88123073e-05, -1.59042780e-05, -2.97773012e-05, -1.95358799e-05,\n",
       "       -1.37983018e-05, -7.22440433e-06, -2.45901543e-06, -2.87896136e-06,\n",
       "       -2.18722093e-06, -1.00678452e-04, -1.29199096e-05, -7.93288446e-05,\n",
       "       -1.43452478e-05, -3.11468245e-05, -2.35420068e-05, -1.07410884e-05,\n",
       "       -1.34494001e-05, -1.39043969e-05, -1.14073053e-05, -7.04397838e-06,\n",
       "       -7.44675580e-05, -2.92006089e-05, -4.32946972e-05, -7.80631504e-05,\n",
       "       -3.38733326e-05, -5.94503220e-05, -7.11859258e-05, -3.01541911e-05,\n",
       "       -1.03730222e-04, -3.09389391e-05, -6.98299329e-05, -7.22668871e-05,\n",
       "       -2.91854997e-05, -2.01736216e-05, -3.27525840e-05, -2.04551748e-05,\n",
       "       -5.62378028e-05, -9.68044867e-05, -6.15636188e-05, -4.80506822e-05,\n",
       "       -1.02582364e-05, -5.04487469e-05, -4.83743041e-05, -1.04846351e-04,\n",
       "       -5.97699559e-04, -4.14412763e-05, -1.68477101e-06, -5.01783894e-10,\n",
       "       -2.99983313e-07, -2.81339353e-06, -1.78857328e-05, -1.04404109e-04,\n",
       "       -1.90990771e-05, -1.26623979e-05, -4.87332310e-05, -5.13883234e-05,\n",
       "       -7.68184763e-06, -3.68115202e-05, -3.56144317e-05, -3.09379182e-05,\n",
       "       -7.05068347e-05, -1.85908833e-05, -4.64075385e-10, -4.58202422e-07,\n",
       "       -1.83688180e-06, -4.01028150e-06, -8.31926234e-05, -2.50989281e-05,\n",
       "       -9.10819354e-05, -2.46660687e-05, -1.05730641e-05, -7.26619848e-06,\n",
       "       -6.05782068e-05, -5.80261153e-05, -3.00775260e-05, -2.59344389e-05,\n",
       "       -4.86907273e-06, -7.16625870e-05, -8.85115826e-07, -1.21345247e-06,\n",
       "       -7.93945123e-05, -3.69031703e-05, -5.55733444e-05, -2.76133102e-05,\n",
       "       -2.46946576e-05, -1.32602553e-05, -5.86035813e-05, -2.95905874e-05,\n",
       "       -1.07727679e-05, -1.81559412e-05, -4.65988958e-05, -2.85646181e-05,\n",
       "       -1.57010367e-05, -1.36070833e-05, -9.21327802e-06, -1.46078075e-05,\n",
       "       -4.64731492e-05, -4.26266852e-05, -9.89218522e-05, -1.02170636e-04,\n",
       "       -7.01907651e-05, -2.70150403e-05, -8.02405480e-06, -6.02243476e-05,\n",
       "       -3.58043428e-05, -8.82441888e-06, -6.65679034e-05, -5.30716544e-05,\n",
       "       -6.28300063e-05, -7.31629272e-05, -7.78778307e-05, -9.35362272e-05,\n",
       "       -2.80426264e-05, -5.50309002e-05, -6.27765397e-05, -1.07907338e-04,\n",
       "       -7.91910780e-05, -6.98723222e-05, -1.04449204e-04, -8.26296375e-05,\n",
       "       -8.38997964e-05, -8.61938244e-05, -1.16070326e-04, -4.89368678e-05,\n",
       "       -4.39764360e-05, -1.87202106e-05, -3.16666667e+04, -3.16666667e+04,\n",
       "       -3.16666667e+04, -3.16666667e+04, -3.16666667e+04, -3.16666667e+04,\n",
       "       -3.16666667e+04, -3.16666667e+04, -9.64405410e-07, -2.69672405e-06,\n",
       "       -1.71256634e-06, -1.34625050e-05, -4.74229182e-05, -5.96905436e-05,\n",
       "       -7.32348394e-05, -4.81408947e-05, -5.44300484e-05, -8.61633713e-06,\n",
       "       -1.98796839e-05, -7.29386032e-06, -3.09538523e-05, -3.61125326e-06,\n",
       "       -7.20801882e-06, -7.81888806e-06, -3.86271723e-05, -7.09668751e-05,\n",
       "       -2.52270565e-05, -1.64023377e-05, -1.26677449e-05, -3.32684742e-05,\n",
       "       -2.16303988e-05, -1.00193670e-05, -5.59855916e-06, -2.99025672e-05,\n",
       "       -1.88996675e-05, -1.81425357e-05, -5.99748338e-06, -1.09303454e-05,\n",
       "       -3.14745475e-06])"
      ]
     },
     "execution_count": 7,
     "metadata": {},
     "output_type": "execute_result"
    }
   ],
   "source": [
    "clf.decision_scores_[np.where(outliers==1)]"
   ]
  },
  {
   "cell_type": "code",
   "execution_count": 10,
   "metadata": {},
   "outputs": [
    {
     "data": {
      "text/plain": [
       "-83049.67061253496"
      ]
     },
     "execution_count": 10,
     "metadata": {},
     "output_type": "execute_result"
    }
   ],
   "source": [
    "np.min(clf.decision_scores_[np.where(outliers==1)])"
   ]
  },
  {
   "cell_type": "code",
   "execution_count": 11,
   "metadata": {},
   "outputs": [
    {
     "data": {
      "image/png": "[encoded data removed]",
      "text/plain": [
       "<Figure size 432x288 with 1 Axes>"
      ]
     },
     "metadata": {
      "needs_background": "light"
     },
     "output_type": "display_data"
    }
   ],
   "source": [
    "plt.hist(clf.decision_scores_, bins=20)\n",
    "plt.axvline(np.min(clf.decision_scores_[np.where(outliers==1)]), c='k')\n",
    "plt.show()"
   ]
  },
  {
   "cell_type": "code",
   "execution_count": 12,
   "metadata": {},
   "outputs": [],
   "source": [
    "a= []\n",
    "for i in range(0, len(clf.decision_scores_)):\n",
    "    if clf.decision_scores_[i]<np.min(clf.decision_scores_[np.where(outliers==1)]):\n",
    "        a.append(clf.decision_scores_[i])"
   ]
  },
  {
   "cell_type": "code",
   "execution_count": 46,
   "metadata": {
    "scrolled": false
   },
   "outputs": [
    {
     "data": {
      "image/png": "[encoded data removed]",
      "text/plain": [
       "<Figure size 432x288 with 1 Axes>"
      ]
     },
     "metadata": {
      "needs_background": "light"
     },
     "output_type": "display_data"
    }
   ],
   "source": [
    "#plt.figure(figsize=(20,7))\n",
    "plt.hist(a)\n",
    "#plt.axvline(-1.306257154811253)\n",
    "plt.text(-600000, 20, 'outliers')\n",
    "plt.show()"
   ]
  },
  {
   "cell_type": "code",
   "execution_count": 42,
   "metadata": {},
   "outputs": [],
   "source": [
    "b = []\n",
    "c=[]\n",
    "for i in range(0, len(X_train)):\n",
    "    if clf.decision_scores_[i]<np.min(clf.decision_scores_[np.where(outliers==1)]):\n",
    "        b.append(X_train['Light'][i])\n",
    "        c.append(X_train['CO2'][i])"
   ]
  },
  {
   "cell_type": "code",
   "execution_count": 43,
   "metadata": {},
   "outputs": [
    {
     "data": {
      "text/plain": [
       "[434.5,\n",
       " 430.0,\n",
       " 430.0,\n",
       " 437.0,\n",
       " 437.0,\n",
       " 434.5,\n",
       " 438.0,\n",
       " 439.0,\n",
       " 435.0,\n",
       " 435.0,\n",
       " 435.0,\n",
       " 435.0,\n",
       " 435.0,\n",
       " 435.0,\n",
       " 440.0,\n",
       " 440.0,\n",
       " 444.0,\n",
       " 442.0,\n",
       " 442.0,\n",
       " 446.0,\n",
       " 443.0,\n",
       " 443.0,\n",
       " 445.0,\n",
       " 437.0,\n",
       " 437.0,\n",
       " 437.0,\n",
       " 447.0,\n",
       " 467.0,\n",
       " 472.0,\n",
       " 472.0,\n",
       " 461.0,\n",
       " 467.0,\n",
       " 468.0,\n",
       " 461.0,\n",
       " 461.0,\n",
       " 482.0,\n",
       " 482.0,\n",
       " 460.0,\n",
       " 448.0,\n",
       " 448.0,\n",
       " 444.0,\n",
       " 451.0,\n",
       " 451.0,\n",
       " 453.0]"
      ]
     },
     "execution_count": 43,
     "metadata": {},
     "output_type": "execute_result"
    }
   ],
   "source": [
    "c"
   ]
  },
  {
   "cell_type": "code",
   "execution_count": 44,
   "metadata": {},
   "outputs": [
    {
     "data": {
      "image/png": "[encoded data removed]",
      "text/plain": [
       "<Figure size 432x288 with 1 Axes>"
      ]
     },
     "metadata": {
      "needs_background": "light"
     },
     "output_type": "display_data"
    }
   ],
   "source": [
    "plt.scatter(X_train['Light'], X_train['CO2'])\n",
    "#plt.scatter(X_train['Light'].loc[np.where(outliers==1)], X_train['CO2'].loc[np.where(outliers==1)], color='red')\n",
    "plt.scatter(b, c, color='red')\n",
    "plt.xlabel('Light')\n",
    "plt.ylabel('CO2') \n",
    "plt.show()"
   ]
  },
  {
   "cell_type": "code",
   "execution_count": 45,
   "metadata": {},
   "outputs": [
    {
     "data": {
      "image/png": "[encoded data removed]",
      "text/plain": [
       "<Figure size 432x288 with 1 Axes>"
      ]
     },
     "metadata": {
      "needs_background": "light"
     },
     "output_type": "display_data"
    }
   ],
   "source": [
    "plt.scatter(X_train['Light'], X_train['CO2'])\n",
    "plt.scatter(X_train['Light'].loc[np.where(outliers==1)], X_train['CO2'].loc[np.where(outliers==1)], color='red')\n",
    "#plt.scatter(b, c, color='red')\n",
    "plt.xlabel('Light')\n",
    "plt.ylabel('CO2') \n",
    "plt.show()"
   ]
  },
  {
   "cell_type": "code",
   "execution_count": 37,
   "metadata": {},
   "outputs": [
    {
     "data": {
      "image/png": "[encoded data removed]",
      "text/plain": [
       "<Figure size 432x288 with 1 Axes>"
      ]
     },
     "metadata": {
      "needs_background": "light"
     },
     "output_type": "display_data"
    }
   ],
   "source": [
    "plt.scatter(X_train['Temperature'], X_train['Humidity'])\n",
    "plt.scatter(X_train['Temperature'].loc[np.where(outliers==1)], X_train['Humidity'].loc[np.where(outliers==1)], color='red')\n",
    "plt.xlabel('Temperature')\n",
    "plt.ylabel('Humidity') \n",
    "plt.show()"
   ]
  },
  {
   "cell_type": "code",
   "execution_count": null,
   "metadata": {},
   "outputs": [],
   "source": []
  }
 ],
 "metadata": {
  "kernelspec": {
   "display_name": "Python 3 (ipykernel)",
   "language": "python",
   "name": "python3"
  },
  "language_info": {
   "codemirror_mode": {
    "name": "ipython",
    "version": 3
   },
   "file_extension": ".py",
   "mimetype": "text/x-python",
   "name": "python",
   "nbconvert_exporter": "python",
   "pygments_lexer": "ipython3",
   "version": "3.9.7"
  }
 },
 "nbformat": 4,
 "nbformat_minor": 4
}
