{
 "cells": [
  {
   "cell_type": "code",
   "execution_count": 1,
   "metadata": {},
   "outputs": [],
   "source": [
    "%matplotlib inline\n",
    "\n",
    "import numpy as np\n",
    "import pandas as pd\n",
    "import matplotlib.pyplot as plt\n",
    "import seaborn as sns\n",
    "from sklearn.cluster import DBSCAN\n",
    "\n",
    "from collections import defaultdict"
   ]
  },
  {
   "cell_type": "code",
   "execution_count": 2,
   "metadata": {},
   "outputs": [],
   "source": [
    "df=pd.read_csv(\"../datatraining.csv\", sep=\";\")\n",
    "test=pd.read_csv(\"../datatest.csv\", sep=\";\")"
   ]
  },
  {
   "cell_type": "code",
   "execution_count": 3,
   "metadata": {},
   "outputs": [],
   "source": [
    "class_name='Occupancy'\n",
    "attributes = [col for col in df.columns if \n",
    "              col == 'Temperature'\n",
    "              or col == 'Humidity'\n",
    "              or col == 'Light'\n",
    "              or col == 'CO2'\n",
    "             ]\n",
    "X_train = df[attributes]\n",
    "y_train = df[class_name]\n",
    "\n",
    "X_test=test[attributes]\n",
    "y_test = df[class_name]"
   ]
  },
  {
   "cell_type": "code",
   "execution_count": 4,
   "metadata": {},
   "outputs": [],
   "source": [
    "X_trainv=X_train.values\n",
    "X_testv=X_test.values"
   ]
  },
  {
   "cell_type": "code",
   "execution_count": 5,
   "metadata": {},
   "outputs": [
    {
     "data": {
      "text/plain": [
       "DBSCAN(algorithm='auto', eps=50, leaf_size=30, metric='euclidean',\n",
       "       metric_params=None, min_samples=4, n_jobs=None, p=None)"
      ]
     },
     "execution_count": 5,
     "metadata": {},
     "output_type": "execute_result"
    }
   ],
   "source": [
    "dbscan = DBSCAN(eps=50, min_samples=4)\n",
    "dbscan.fit(X_trainv)"
   ]
  },
  {
   "cell_type": "code",
   "execution_count": 6,
   "metadata": {},
   "outputs": [
    {
     "data": {
      "text/plain": [
       "(array([-1,  0]), array([  14, 8129]))"
      ]
     },
     "execution_count": 6,
     "metadata": {},
     "output_type": "execute_result"
    }
   ],
   "source": [
    "np.unique(dbscan.labels_, return_counts=True)"
   ]
  },
  {
   "cell_type": "code",
   "execution_count": 7,
   "metadata": {},
   "outputs": [
    {
     "data": {
      "text/html": [
       "<div>\n",
       "<style scoped>\n",
       "    .dataframe tbody tr th:only-of-type {\n",
       "        vertical-align: middle;\n",
       "    }\n",
       "\n",
       "    .dataframe tbody tr th {\n",
       "        vertical-align: top;\n",
       "    }\n",
       "\n",
       "    .dataframe thead th {\n",
       "        text-align: right;\n",
       "    }\n",
       "</style>\n",
       "<table border=\"1\" class=\"dataframe\">\n",
       "  <thead>\n",
       "    <tr style=\"text-align: right;\">\n",
       "      <th></th>\n",
       "      <th>Temperature</th>\n",
       "      <th>Humidity</th>\n",
       "      <th>Light</th>\n",
       "      <th>CO2</th>\n",
       "    </tr>\n",
       "  </thead>\n",
       "  <tbody>\n",
       "    <tr>\n",
       "      <th>1143</th>\n",
       "      <td>22.675000</td>\n",
       "      <td>26.525000</td>\n",
       "      <td>732.750000</td>\n",
       "      <td>1038.500000</td>\n",
       "    </tr>\n",
       "    <tr>\n",
       "      <th>1156</th>\n",
       "      <td>22.823333</td>\n",
       "      <td>25.856667</td>\n",
       "      <td>340.666667</td>\n",
       "      <td>983.000000</td>\n",
       "    </tr>\n",
       "    <tr>\n",
       "      <th>1181</th>\n",
       "      <td>22.290000</td>\n",
       "      <td>26.166667</td>\n",
       "      <td>334.333333</td>\n",
       "      <td>900.333333</td>\n",
       "    </tr>\n",
       "    <tr>\n",
       "      <th>1453</th>\n",
       "      <td>22.025000</td>\n",
       "      <td>24.047500</td>\n",
       "      <td>213.000000</td>\n",
       "      <td>845.500000</td>\n",
       "    </tr>\n",
       "    <tr>\n",
       "      <th>2605</th>\n",
       "      <td>21.290000</td>\n",
       "      <td>19.666667</td>\n",
       "      <td>131.333333</td>\n",
       "      <td>665.333333</td>\n",
       "    </tr>\n",
       "    <tr>\n",
       "      <th>2606</th>\n",
       "      <td>21.290000</td>\n",
       "      <td>19.745000</td>\n",
       "      <td>293.500000</td>\n",
       "      <td>662.250000</td>\n",
       "    </tr>\n",
       "    <tr>\n",
       "      <th>3830</th>\n",
       "      <td>20.700000</td>\n",
       "      <td>18.890000</td>\n",
       "      <td>611.500000</td>\n",
       "      <td>452.250000</td>\n",
       "    </tr>\n",
       "    <tr>\n",
       "      <th>3831</th>\n",
       "      <td>20.700000</td>\n",
       "      <td>18.890000</td>\n",
       "      <td>1546.333333</td>\n",
       "      <td>455.333333</td>\n",
       "    </tr>\n",
       "    <tr>\n",
       "      <th>3832</th>\n",
       "      <td>20.745000</td>\n",
       "      <td>18.890000</td>\n",
       "      <td>1451.750000</td>\n",
       "      <td>453.000000</td>\n",
       "    </tr>\n",
       "    <tr>\n",
       "      <th>3833</th>\n",
       "      <td>20.760000</td>\n",
       "      <td>18.856667</td>\n",
       "      <td>829.000000</td>\n",
       "      <td>452.666667</td>\n",
       "    </tr>\n",
       "    <tr>\n",
       "      <th>6943</th>\n",
       "      <td>21.166667</td>\n",
       "      <td>32.790000</td>\n",
       "      <td>167.000000</td>\n",
       "      <td>1117.333333</td>\n",
       "    </tr>\n",
       "    <tr>\n",
       "      <th>6944</th>\n",
       "      <td>21.150000</td>\n",
       "      <td>32.845000</td>\n",
       "      <td>365.750000</td>\n",
       "      <td>1121.000000</td>\n",
       "    </tr>\n",
       "    <tr>\n",
       "      <th>7178</th>\n",
       "      <td>22.175000</td>\n",
       "      <td>38.972500</td>\n",
       "      <td>328.000000</td>\n",
       "      <td>1986.500000</td>\n",
       "    </tr>\n",
       "    <tr>\n",
       "      <th>7213</th>\n",
       "      <td>22.100000</td>\n",
       "      <td>37.790000</td>\n",
       "      <td>209.500000</td>\n",
       "      <td>1788.500000</td>\n",
       "    </tr>\n",
       "  </tbody>\n",
       "</table>\n",
       "</div>"
      ],
      "text/plain": [
       "      Temperature   Humidity        Light          CO2\n",
       "1143    22.675000  26.525000   732.750000  1038.500000\n",
       "1156    22.823333  25.856667   340.666667   983.000000\n",
       "1181    22.290000  26.166667   334.333333   900.333333\n",
       "1453    22.025000  24.047500   213.000000   845.500000\n",
       "2605    21.290000  19.666667   131.333333   665.333333\n",
       "2606    21.290000  19.745000   293.500000   662.250000\n",
       "3830    20.700000  18.890000   611.500000   452.250000\n",
       "3831    20.700000  18.890000  1546.333333   455.333333\n",
       "3832    20.745000  18.890000  1451.750000   453.000000\n",
       "3833    20.760000  18.856667   829.000000   452.666667\n",
       "6943    21.166667  32.790000   167.000000  1117.333333\n",
       "6944    21.150000  32.845000   365.750000  1121.000000\n",
       "7178    22.175000  38.972500   328.000000  1986.500000\n",
       "7213    22.100000  37.790000   209.500000  1788.500000"
      ]
     },
     "execution_count": 7,
     "metadata": {},
     "output_type": "execute_result"
    }
   ],
   "source": [
    "X_train.loc[np.where(dbscan.labels_==-1)]"
   ]
  },
  {
   "cell_type": "code",
   "execution_count": 8,
   "metadata": {},
   "outputs": [
    {
     "data": {
      "image/png": "[encoded data removed]",
      "text/plain": [
       "<Figure size 432x288 with 1 Axes>"
      ]
     },
     "metadata": {
      "needs_background": "light"
     },
     "output_type": "display_data"
    }
   ],
   "source": [
    "plt.scatter(X_train['Light'], X_train['CO2'])\n",
    "plt.scatter(X_train['Light'].loc[np.where(dbscan.labels_==-1)], X_train['CO2'].loc[np.where(dbscan.labels_==-1)], color='red')\n",
    "plt.xlabel('Light')\n",
    "plt.ylabel('CO2') \n",
    "plt.show()"
   ]
  },
  {
   "cell_type": "code",
   "execution_count": 9,
   "metadata": {},
   "outputs": [
    {
     "data": {
      "image/png": "[encoded data removed]",
      "text/plain": [
       "<Figure size 432x288 with 1 Axes>"
      ]
     },
     "metadata": {
      "needs_background": "light"
     },
     "output_type": "display_data"
    }
   ],
   "source": [
    "plt.scatter(X_train['Temperature'], X_train['Humidity'])\n",
    "plt.scatter(X_train['Temperature'].loc[np.where(dbscan.labels_==-1)], X_train['Humidity'].loc[np.where(dbscan.labels_==-1)], color='red')\n",
    "plt.xlabel('Temperature')\n",
    "plt.ylabel('Humidity') \n",
    "plt.show()"
   ]
  },
  {
   "cell_type": "code",
   "execution_count": 10,
   "metadata": {},
   "outputs": [
    {
     "data": {
      "image/png": "[encoded data removed]",
      "text/plain": [
       "<Figure size 432x288 with 1 Axes>"
      ]
     },
     "metadata": {
      "needs_background": "light"
     },
     "output_type": "display_data"
    }
   ],
   "source": [
    "plt.scatter(X_train['Light'], X_train['Humidity'])\n",
    "plt.scatter(X_train['Light'].loc[np.where(dbscan.labels_==-1)], X_train['Humidity'].loc[np.where(dbscan.labels_==-1)], color='red')\n",
    "plt.xlabel('Light')\n",
    "plt.ylabel('Humidity') \n",
    "plt.show()"
   ]
  },
  {
   "cell_type": "code",
   "execution_count": null,
   "metadata": {},
   "outputs": [],
   "source": []
  }
 ],
 "metadata": {
  "kernelspec": {
   "display_name": "Python 3 (ipykernel)",
   "language": "python",
   "name": "python3"
  },
  "language_info": {
   "codemirror_mode": {
    "name": "ipython",
    "version": 3
   },
   "file_extension": ".py",
   "mimetype": "text/x-python",
   "name": "python",
   "nbconvert_exporter": "python",
   "pygments_lexer": "ipython3",
   "version": "3.9.7"
  }
 },
 "nbformat": 4,
 "nbformat_minor": 4
}
