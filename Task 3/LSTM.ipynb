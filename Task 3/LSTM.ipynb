{
 "cells": [
  {
   "cell_type": "code",
   "execution_count": 1,
   "metadata": {},
   "outputs": [
    {
     "name": "stderr",
     "output_type": "stream",
     "text": [
      "Using TensorFlow backend.\n",
      "/opt/anaconda3/lib/python3.7/site-packages/tensorflow/python/framework/dtypes.py:526: FutureWarning: Passing (type, 1) or '1type' as a synonym of type is deprecated; in a future version of numpy, it will be understood as (type, (1,)) / '(1,)type'.\n",
      "  _np_qint8 = np.dtype([(\"qint8\", np.int8, 1)])\n",
      "/opt/anaconda3/lib/python3.7/site-packages/tensorflow/python/framework/dtypes.py:527: FutureWarning: Passing (type, 1) or '1type' as a synonym of type is deprecated; in a future version of numpy, it will be understood as (type, (1,)) / '(1,)type'.\n",
      "  _np_quint8 = np.dtype([(\"quint8\", np.uint8, 1)])\n",
      "/opt/anaconda3/lib/python3.7/site-packages/tensorflow/python/framework/dtypes.py:528: FutureWarning: Passing (type, 1) or '1type' as a synonym of type is deprecated; in a future version of numpy, it will be understood as (type, (1,)) / '(1,)type'.\n",
      "  _np_qint16 = np.dtype([(\"qint16\", np.int16, 1)])\n",
      "/opt/anaconda3/lib/python3.7/site-packages/tensorflow/python/framework/dtypes.py:529: FutureWarning: Passing (type, 1) or '1type' as a synonym of type is deprecated; in a future version of numpy, it will be understood as (type, (1,)) / '(1,)type'.\n",
      "  _np_quint16 = np.dtype([(\"quint16\", np.uint16, 1)])\n",
      "/opt/anaconda3/lib/python3.7/site-packages/tensorflow/python/framework/dtypes.py:530: FutureWarning: Passing (type, 1) or '1type' as a synonym of type is deprecated; in a future version of numpy, it will be understood as (type, (1,)) / '(1,)type'.\n",
      "  _np_qint32 = np.dtype([(\"qint32\", np.int32, 1)])\n",
      "/opt/anaconda3/lib/python3.7/site-packages/tensorflow/python/framework/dtypes.py:535: FutureWarning: Passing (type, 1) or '1type' as a synonym of type is deprecated; in a future version of numpy, it will be understood as (type, (1,)) / '(1,)type'.\n",
      "  np_resource = np.dtype([(\"resource\", np.ubyte, 1)])\n"
     ]
    }
   ],
   "source": [
    "%matplotlib inline\n",
    "from keras.utils import np_utils\n",
    "from keras.models import Sequential\n",
    "from keras.layers import Dense, LSTM, Dropout\n",
    "from keras.callbacks import EarlyStopping\n",
    "from sklearn.preprocessing import StandardScaler\n",
    "\n",
    "import pandas as pd\n",
    "import numpy as np\n",
    "import matplotlib.pyplot as plt"
   ]
  },
  {
   "cell_type": "code",
   "execution_count": 2,
   "metadata": {},
   "outputs": [],
   "source": [
    "rawdata_file1 = '../datatraining.csv'\n",
    "rawdata_file2 = '../datatest.csv'"
   ]
  },
  {
   "cell_type": "code",
   "execution_count": 3,
   "metadata": {},
   "outputs": [],
   "source": [
    "# Read in data, parsing the date column into datetime64 format, and combine\n",
    "# train and test set into a single dataframe.\n",
    "\n",
    "dateparse = lambda dates: pd.datetime.strptime(dates, '%d/%m/%y %H:%M')\n",
    "\n",
    "occupancy_df = pd.read_csv(rawdata_file1, sep=\";\", parse_dates=True, index_col='date', date_parser=dateparse)\n",
    "occupancy2_df = pd.read_csv(rawdata_file2, sep=\";\", parse_dates=True, index_col='date', date_parser=dateparse)\n",
    "\n",
    "occupancy_df = pd.concat([occupancy_df, occupancy2_df], ignore_index=True)"
   ]
  },
  {
   "cell_type": "code",
   "execution_count": 4,
   "metadata": {},
   "outputs": [
    {
     "data": {
      "text/html": [
       "<div>\n",
       "<style scoped>\n",
       "    .dataframe tbody tr th:only-of-type {\n",
       "        vertical-align: middle;\n",
       "    }\n",
       "\n",
       "    .dataframe tbody tr th {\n",
       "        vertical-align: top;\n",
       "    }\n",
       "\n",
       "    .dataframe thead th {\n",
       "        text-align: right;\n",
       "    }\n",
       "</style>\n",
       "<table border=\"1\" class=\"dataframe\">\n",
       "  <thead>\n",
       "    <tr style=\"text-align: right;\">\n",
       "      <th></th>\n",
       "      <th>id</th>\n",
       "      <th>Temperature</th>\n",
       "      <th>Humidity</th>\n",
       "      <th>Light</th>\n",
       "      <th>CO2</th>\n",
       "      <th>HumidityRatio</th>\n",
       "      <th>Occupancy</th>\n",
       "    </tr>\n",
       "  </thead>\n",
       "  <tbody>\n",
       "    <tr>\n",
       "      <th>0</th>\n",
       "      <td>1</td>\n",
       "      <td>23.18</td>\n",
       "      <td>27.2720</td>\n",
       "      <td>426.0</td>\n",
       "      <td>721.25</td>\n",
       "      <td>0.004793</td>\n",
       "      <td>1</td>\n",
       "    </tr>\n",
       "    <tr>\n",
       "      <th>1</th>\n",
       "      <td>2</td>\n",
       "      <td>23.15</td>\n",
       "      <td>27.2675</td>\n",
       "      <td>429.5</td>\n",
       "      <td>714.00</td>\n",
       "      <td>0.004783</td>\n",
       "      <td>1</td>\n",
       "    </tr>\n",
       "    <tr>\n",
       "      <th>2</th>\n",
       "      <td>3</td>\n",
       "      <td>23.15</td>\n",
       "      <td>27.2450</td>\n",
       "      <td>426.0</td>\n",
       "      <td>713.50</td>\n",
       "      <td>0.004779</td>\n",
       "      <td>1</td>\n",
       "    </tr>\n",
       "    <tr>\n",
       "      <th>3</th>\n",
       "      <td>4</td>\n",
       "      <td>23.15</td>\n",
       "      <td>27.2000</td>\n",
       "      <td>426.0</td>\n",
       "      <td>708.25</td>\n",
       "      <td>0.004772</td>\n",
       "      <td>1</td>\n",
       "    </tr>\n",
       "    <tr>\n",
       "      <th>4</th>\n",
       "      <td>5</td>\n",
       "      <td>23.10</td>\n",
       "      <td>27.2000</td>\n",
       "      <td>426.0</td>\n",
       "      <td>704.50</td>\n",
       "      <td>0.004757</td>\n",
       "      <td>1</td>\n",
       "    </tr>\n",
       "  </tbody>\n",
       "</table>\n",
       "</div>"
      ],
      "text/plain": [
       "   id  Temperature  Humidity  Light     CO2  HumidityRatio  Occupancy\n",
       "0   1        23.18   27.2720  426.0  721.25       0.004793          1\n",
       "1   2        23.15   27.2675  429.5  714.00       0.004783          1\n",
       "2   3        23.15   27.2450  426.0  713.50       0.004779          1\n",
       "3   4        23.15   27.2000  426.0  708.25       0.004772          1\n",
       "4   5        23.10   27.2000  426.0  704.50       0.004757          1"
      ]
     },
     "execution_count": 4,
     "metadata": {},
     "output_type": "execute_result"
    }
   ],
   "source": [
    "occupancy_df.head()"
   ]
  },
  {
   "cell_type": "code",
   "execution_count": 5,
   "metadata": {},
   "outputs": [
    {
     "name": "stdout",
     "output_type": "stream",
     "text": [
      "dimof_input:  4\n",
      "dimof_output:  2\n"
     ]
    }
   ],
   "source": [
    "Y = np.array(occupancy_df['Occupancy'].values)\n",
    "X = np.array(occupancy_df[['CO2', 'Light', 'Temperature', 'Humidity']])\n",
    "\n",
    "# Get dimensions of input and output\n",
    "dimof_output = int(np.max(Y) + 1)\n",
    "dimof_input = X.shape[1]\n",
    "print('dimof_input: ', dimof_input)\n",
    "print('dimof_output: ', dimof_output)\n",
    "\n",
    "# Scale/whiten the X data\n",
    "scaler = StandardScaler()\n",
    "X = scaler.fit_transform(X)\n",
    "\n",
    "# Set y as categorical data\n",
    "Y = np_utils.to_categorical(Y, dimof_output)"
   ]
  },
  {
   "cell_type": "code",
   "execution_count": 6,
   "metadata": {},
   "outputs": [
    {
     "name": "stdout",
     "output_type": "stream",
     "text": [
      "X training data shape =  (8072, 45, 4)\n",
      "Y training data shape (8072, 2)\n",
      "X test data shape =  (2690, 45, 4)\n",
      "Y test data shape (2690, 2)\n"
     ]
    }
   ],
   "source": [
    "def create_dataset(X, Y, **options):\n",
    "    \"\"\"Convert an array of X, Y values into a dataset matrix for and LSTM\"\"\"\n",
    "    \n",
    "    look_back = options.pop('look_back', None)\n",
    "    dataX, dataY = [], []\n",
    "    for i in range(len(X) - look_back - 1):\n",
    "        a = X[i:(i+look_back)]\n",
    "        dataX.append(a)\n",
    "        dataY.append(Y[i + look_back])\n",
    "    return np.array(dataX), np.array(dataY)\n",
    "\n",
    "def train_test_split_sequential(X, Y, **options):\n",
    "    \"\"\"Splits data into train test sets, based on a fraction test_size samples\n",
    "    from the end of the timeseries\"\"\"\n",
    "    \n",
    "    test_size = options.pop('test_size', None)\n",
    "    if test_size is None:\n",
    "        test_size = 0.25\n",
    "        \n",
    "    n_sample = len(Y)\n",
    "    n_test = int(n_sample * test_size)\n",
    "        \n",
    "    X_train = X[:-n_test]\n",
    "    Y_train = Y[:-n_test]\n",
    "\n",
    "    X_test = X[-n_test:]\n",
    "    Y_test = Y[-n_test:]\n",
    "    \n",
    "    return X_train, X_test, Y_train, Y_test\n",
    "\n",
    "# Predictions will be based on look_back minutes of data:\n",
    "look_back = 45\n",
    "X_all, Y_all = create_dataset(X, Y, look_back=look_back)\n",
    "\n",
    "X_train, X_test, Y_train, Y_test = train_test_split_sequential(X_all, Y_all, test_size=0.25)\n",
    "\n",
    "print('X training data shape = ', X_train.shape)\n",
    "print('Y training data shape', Y_train.shape)\n",
    "\n",
    "print('X test data shape = ', X_test.shape)\n",
    "print('Y test data shape', Y_test.shape)"
   ]
  },
  {
   "cell_type": "code",
   "execution_count": 16,
   "metadata": {},
   "outputs": [
    {
     "name": "stderr",
     "output_type": "stream",
     "text": [
      "/opt/anaconda3/lib/python3.7/site-packages/ipykernel_launcher.py:7: UserWarning: Update your `LSTM` call to the Keras 2 API: `LSTM(units=2)`\n",
      "  import sys\n",
      "/opt/anaconda3/lib/python3.7/site-packages/ipykernel_launcher.py:9: UserWarning: Update your `Dense` call to the Keras 2 API: `Dense(50, activation=\"softmax\", kernel_initializer=\"uniform\")`\n",
      "  if __name__ == '__main__':\n",
      "/opt/anaconda3/lib/python3.7/site-packages/ipykernel_launcher.py:11: UserWarning: Update your `Dense` call to the Keras 2 API: `Dense(2, activation=\"softmax\", kernel_initializer=\"uniform\")`\n",
      "  # This is added back by InteractiveShellApp.init_path()\n"
     ]
    }
   ],
   "source": [
    "# Create the LSTM network.\n",
    "\n",
    "batch_size = 32\n",
    "dropout = 0.4\n",
    "\n",
    "model = Sequential()\n",
    "model.add(LSTM(output_dim=dimof_output))\n",
    "model.add(Dropout(dropout))\n",
    "model.add(Dense(50, init='uniform', activation='softmax'))\n",
    "model.add(Dropout(dropout))\n",
    "model.add(Dense(dimof_output, init='uniform', activation='softmax'))\n",
    "model.compile(loss='mse', optimizer='rmsprop')"
   ]
  },
  {
   "cell_type": "code",
   "execution_count": 17,
   "metadata": {},
   "outputs": [
    {
     "name": "stdout",
     "output_type": "stream",
     "text": [
      "Train on 8072 samples, validate on 2690 samples\n",
      "Epoch 1/45\n",
      "8072/8072 [==============================] - 6s 722us/step - loss: 0.1987 - val_loss: 0.2375\n",
      "Epoch 2/45\n",
      "8072/8072 [==============================] - 5s 651us/step - loss: 0.1624 - val_loss: 0.2333\n",
      "Epoch 3/45\n",
      "8072/8072 [==============================] - 5s 674us/step - loss: 0.1408 - val_loss: 0.1812\n",
      "Epoch 4/45\n",
      "8072/8072 [==============================] - 6s 696us/step - loss: 0.1081 - val_loss: 0.1148\n",
      "Epoch 5/45\n",
      "8072/8072 [==============================] - 6s 737us/step - loss: 0.0830 - val_loss: 0.0727\n",
      "Epoch 6/45\n",
      "8072/8072 [==============================] - 5s 677us/step - loss: 0.0663 - val_loss: 0.0511\n",
      "Epoch 7/45\n",
      "8072/8072 [==============================] - 5s 672us/step - loss: 0.0581 - val_loss: 0.0392\n",
      "Epoch 8/45\n",
      "8072/8072 [==============================] - 5s 657us/step - loss: 0.0481 - val_loss: 0.0323\n",
      "Epoch 9/45\n",
      "8072/8072 [==============================] - 5s 655us/step - loss: 0.0456 - val_loss: 0.0286\n",
      "Epoch 10/45\n",
      "8072/8072 [==============================] - 5s 674us/step - loss: 0.0456 - val_loss: 0.0271\n",
      "Epoch 11/45\n",
      "8072/8072 [==============================] - 5s 670us/step - loss: 0.0417 - val_loss: 0.0258\n",
      "Epoch 12/45\n",
      "8072/8072 [==============================] - 5s 671us/step - loss: 0.0451 - val_loss: 0.0252\n",
      "Epoch 13/45\n",
      "8072/8072 [==============================] - 5s 672us/step - loss: 0.0413 - val_loss: 0.0247\n",
      "Epoch 14/45\n",
      "8072/8072 [==============================] - 5s 679us/step - loss: 0.0390 - val_loss: 0.0245\n",
      "Epoch 15/45\n",
      "8072/8072 [==============================] - 6s 688us/step - loss: 0.0398 - val_loss: 0.0241\n",
      "Epoch 16/45\n",
      "8072/8072 [==============================] - 5s 679us/step - loss: 0.0391 - val_loss: 0.0238\n",
      "Epoch 17/45\n",
      "8072/8072 [==============================] - 5s 652us/step - loss: 0.0415 - val_loss: 0.0238\n",
      "Epoch 18/45\n",
      "8072/8072 [==============================] - 5s 678us/step - loss: 0.0380 - val_loss: 0.0235\n",
      "Epoch 19/45\n",
      "8072/8072 [==============================] - 6s 728us/step - loss: 0.0396 - val_loss: 0.0235\n"
     ]
    }
   ],
   "source": [
    "# Train model for num_epoch epochs, with an early stopping criterion.\n",
    "\n",
    "num_epoch = 45\n",
    "\n",
    "earlyStopping = EarlyStopping(monitor='val_loss', patience=0, verbose=0, mode='auto')\n",
    "\n",
    "history = model.fit(\n",
    "    X_train, Y_train,\n",
    "    validation_data=(X_test, Y_test),\n",
    "    callbacks=[earlyStopping],\n",
    "    epochs=num_epoch, batch_size=32, verbose=1)"
   ]
  },
  {
   "cell_type": "code",
   "execution_count": 18,
   "metadata": {},
   "outputs": [
    {
     "data": {
      "image/png": "[encoded data removed]",
      "text/plain": [
       "<Figure size 432x288 with 1 Axes>"
      ]
     },
     "metadata": {
      "needs_background": "light"
     },
     "output_type": "display_data"
    }
   ],
   "source": [
    "# Plot history for training and validation loss.\n",
    "\n",
    "plt.plot(history.history['loss'])\n",
    "plt.plot(history.history['val_loss'])\n",
    "plt.title('model loss')\n",
    "plt.ylabel('loss')\n",
    "plt.xlabel('epoch')\n",
    "plt.legend(['Train', 'Validate'], loc='upper left')\n",
    "plt.show()"
   ]
  },
  {
   "cell_type": "code",
   "execution_count": 19,
   "metadata": {
    "scrolled": false
   },
   "outputs": [
    {
     "name": "stdout",
     "output_type": "stream",
     "text": [
      "10762/10762 [==============================] - 2s 190us/step\n"
     ]
    },
    {
     "data": {
      "text/plain": [
       "<matplotlib.axes._subplots.AxesSubplot at 0x12779dc90>"
      ]
     },
     "execution_count": 19,
     "metadata": {},
     "output_type": "execute_result"
    },
    {
     "data": {
      "image/png": "[encoded data removed]",
      "text/plain": [
       "<Figure size 1440x720 with 1 Axes>"
      ]
     },
     "metadata": {
      "needs_background": "light"
     },
     "output_type": "display_data"
    }
   ],
   "source": [
    "# Show model predictions against input occupancy labels, and input data timestreams\n",
    "\n",
    "Y_predict = model.predict_classes(X_all, verbose=True)\n",
    "series = np.hstack((np.zeros(look_back + 1, dtype=int), Y_predict))\n",
    "occupancy_df['LSTM'] = pd.Series(series, index=occupancy_df.index)\n",
    "\n",
    "occupancy_df['Occupancy'].plot(figsize=[20, 10], legend=True)\n",
    "occupancy_df['LSTM'].apply(lambda x: x - 1.1).plot(legend=True)\n",
    "#occupancy_df['CO2'].apply(lambda x: (x - 420.)/400. + 1).plot(legend=True)\n",
    "#occupancy_df['Light'].apply(lambda x: x/450. + 2).plot(legend=True)\n",
    "#occupancy_df['Temperature'].apply(lambda x: x - 15).plot(legend=True)\n",
    "#occupancy_df['Humidity'].apply(lambda x: x / 5. ).plot(legend=True)"
   ]
  },
  {
   "cell_type": "code",
   "execution_count": 20,
   "metadata": {},
   "outputs": [],
   "source": [
    "attributes = [col for col in occupancy2_df.columns if \n",
    "              #col == 'IsWorkDay' \n",
    "              #or col == 'Hour' \n",
    "              col == 'Light'\n",
    "              #or col == 'IsWorkHour'\n",
    "              or col == 'Temperature'\n",
    "              #or col == 'date'\n",
    "              or col == 'Humidity'\n",
    "              or col == 'CO2'\n",
    "              #or col == 'HumidityRatio'\n",
    "             ]\n",
    "X_testA = occupancy2_df[attributes].values\n",
    "y_testA = occupancy2_df['Occupancy']"
   ]
  },
  {
   "cell_type": "code",
   "execution_count": 21,
   "metadata": {},
   "outputs": [],
   "source": [
    "# Scale/whiten the X data\n",
    "scaler = StandardScaler()\n",
    "X = scaler.fit_transform(X_testA)\n",
    "\n",
    "# Set y as categorical data\n",
    "#Y = np_utils.to_categorical(y_testA, dimof_output)"
   ]
  },
  {
   "cell_type": "code",
   "execution_count": 22,
   "metadata": {},
   "outputs": [],
   "source": [
    "look_back = 45\n",
    "X_t, Y_t = create_dataset(X, y_testA, look_back=look_back)"
   ]
  },
  {
   "cell_type": "code",
   "execution_count": 23,
   "metadata": {},
   "outputs": [
    {
     "name": "stdout",
     "output_type": "stream",
     "text": [
      "2619/2619 [==============================] - 0s 167us/step\n"
     ]
    }
   ],
   "source": [
    "Y_predict = model.predict_classes(X_t, verbose=True)"
   ]
  },
  {
   "cell_type": "code",
   "execution_count": 24,
   "metadata": {},
   "outputs": [
    {
     "name": "stdout",
     "output_type": "stream",
     "text": [
      "Accuracy 0.7674684994272624\n",
      "F1-score [0.83755668 0.59100067]\n",
      "              precision    recall  f1-score   support\n",
      "\n",
      "           0       0.76      0.93      0.84      1693\n",
      "           1       0.78      0.48      0.59       926\n",
      "\n",
      "    accuracy                           0.77      2619\n",
      "   macro avg       0.77      0.70      0.71      2619\n",
      "weighted avg       0.77      0.77      0.75      2619\n",
      "\n"
     ]
    },
    {
     "data": {
      "text/plain": [
       "array([[1570,  123],\n",
       "       [ 486,  440]])"
      ]
     },
     "execution_count": 24,
     "metadata": {},
     "output_type": "execute_result"
    }
   ],
   "source": [
    "from sklearn.metrics import accuracy_score, f1_score, classification_report\n",
    "from sklearn.metrics import roc_curve, auc, roc_auc_score, confusion_matrix\n",
    "print('Accuracy %s' % accuracy_score(Y_t, Y_predict))\n",
    "print('F1-score %s' % f1_score(Y_t, Y_predict, average=None))\n",
    "print(classification_report(Y_t, Y_predict))\n",
    "confusion_matrix(Y_t, Y_predict)"
   ]
  },
  {
   "cell_type": "code",
   "execution_count": null,
   "metadata": {},
   "outputs": [],
   "source": []
  }
 ],
 "metadata": {
  "kernelspec": {
   "display_name": "Python 3 (ipykernel)",
   "language": "python",
   "name": "python3"
  },
  "language_info": {
   "codemirror_mode": {
    "name": "ipython",
    "version": 3
   },
   "file_extension": ".py",
   "mimetype": "text/x-python",
   "name": "python",
   "nbconvert_exporter": "python",
   "pygments_lexer": "ipython3",
   "version": "3.9.7"
  }
 },
 "nbformat": 4,
 "nbformat_minor": 4
}
