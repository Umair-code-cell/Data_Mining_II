{
 "cells": [
  {
   "cell_type": "code",
   "execution_count": 1,
   "metadata": {},
   "outputs": [],
   "source": [
    "%matplotlib inline\n",
    "\n",
    "import numpy as np\n",
    "import pandas as pd\n",
    "import matplotlib.pyplot as plt\n",
    "\n",
    "from collections import defaultdict\n",
    "from tslearn.metrics import dtw, dtw_path, cdist_dtw, subsequence_cost_matrix\n",
    "from tslearn.clustering import TimeSeriesKMeans\n",
    "from tslearn.generators import random_walks"
   ]
  },
  {
   "cell_type": "code",
   "execution_count": 2,
   "metadata": {},
   "outputs": [
    {
     "data": {
      "text/html": [
       "<div>\n",
       "<style scoped>\n",
       "    .dataframe tbody tr th:only-of-type {\n",
       "        vertical-align: middle;\n",
       "    }\n",
       "\n",
       "    .dataframe tbody tr th {\n",
       "        vertical-align: top;\n",
       "    }\n",
       "\n",
       "    .dataframe thead th {\n",
       "        text-align: right;\n",
       "    }\n",
       "</style>\n",
       "<table border=\"1\" class=\"dataframe\">\n",
       "  <thead>\n",
       "    <tr style=\"text-align: right;\">\n",
       "      <th></th>\n",
       "      <th>id</th>\n",
       "      <th>Temperature</th>\n",
       "      <th>Humidity</th>\n",
       "      <th>Light</th>\n",
       "      <th>CO2</th>\n",
       "      <th>HumidityRatio</th>\n",
       "      <th>Occupancy</th>\n",
       "    </tr>\n",
       "    <tr>\n",
       "      <th>date</th>\n",
       "      <th></th>\n",
       "      <th></th>\n",
       "      <th></th>\n",
       "      <th></th>\n",
       "      <th></th>\n",
       "      <th></th>\n",
       "      <th></th>\n",
       "    </tr>\n",
       "  </thead>\n",
       "  <tbody>\n",
       "    <tr>\n",
       "      <th>2015-02-04 17:51:00</th>\n",
       "      <td>1</td>\n",
       "      <td>23.18</td>\n",
       "      <td>27.2720</td>\n",
       "      <td>426.0</td>\n",
       "      <td>721.25</td>\n",
       "      <td>0.004793</td>\n",
       "      <td>1</td>\n",
       "    </tr>\n",
       "    <tr>\n",
       "      <th>2015-02-04 17:51:00</th>\n",
       "      <td>2</td>\n",
       "      <td>23.15</td>\n",
       "      <td>27.2675</td>\n",
       "      <td>429.5</td>\n",
       "      <td>714.00</td>\n",
       "      <td>0.004783</td>\n",
       "      <td>1</td>\n",
       "    </tr>\n",
       "    <tr>\n",
       "      <th>2015-02-04 17:53:00</th>\n",
       "      <td>3</td>\n",
       "      <td>23.15</td>\n",
       "      <td>27.2450</td>\n",
       "      <td>426.0</td>\n",
       "      <td>713.50</td>\n",
       "      <td>0.004779</td>\n",
       "      <td>1</td>\n",
       "    </tr>\n",
       "    <tr>\n",
       "      <th>2015-02-04 17:54:00</th>\n",
       "      <td>4</td>\n",
       "      <td>23.15</td>\n",
       "      <td>27.2000</td>\n",
       "      <td>426.0</td>\n",
       "      <td>708.25</td>\n",
       "      <td>0.004772</td>\n",
       "      <td>1</td>\n",
       "    </tr>\n",
       "    <tr>\n",
       "      <th>2015-02-04 17:55:00</th>\n",
       "      <td>5</td>\n",
       "      <td>23.10</td>\n",
       "      <td>27.2000</td>\n",
       "      <td>426.0</td>\n",
       "      <td>704.50</td>\n",
       "      <td>0.004757</td>\n",
       "      <td>1</td>\n",
       "    </tr>\n",
       "  </tbody>\n",
       "</table>\n",
       "</div>"
      ],
      "text/plain": [
       "                     id  Temperature  Humidity  Light     CO2  HumidityRatio  \\\n",
       "date                                                                           \n",
       "2015-02-04 17:51:00   1        23.18   27.2720  426.0  721.25       0.004793   \n",
       "2015-02-04 17:51:00   2        23.15   27.2675  429.5  714.00       0.004783   \n",
       "2015-02-04 17:53:00   3        23.15   27.2450  426.0  713.50       0.004779   \n",
       "2015-02-04 17:54:00   4        23.15   27.2000  426.0  708.25       0.004772   \n",
       "2015-02-04 17:55:00   5        23.10   27.2000  426.0  704.50       0.004757   \n",
       "\n",
       "                     Occupancy  \n",
       "date                            \n",
       "2015-02-04 17:51:00          1  \n",
       "2015-02-04 17:51:00          1  \n",
       "2015-02-04 17:53:00          1  \n",
       "2015-02-04 17:54:00          1  \n",
       "2015-02-04 17:55:00          1  "
      ]
     },
     "execution_count": 2,
     "metadata": {},
     "output_type": "execute_result"
    }
   ],
   "source": [
    "dateparse = lambda dates: pd.datetime.strptime(dates, '%d/%m/%y %H:%M')\n",
    "df = pd.read_csv('../datatraining.csv', sep=\";\", parse_dates=True, index_col='date', date_parser=dateparse)\n",
    "df.head()"
   ]
  },
  {
   "cell_type": "code",
   "execution_count": 3,
   "metadata": {},
   "outputs": [],
   "source": [
    "Light = df['Light'].copy()"
   ]
  },
  {
   "cell_type": "code",
   "execution_count": 4,
   "metadata": {
    "scrolled": true
   },
   "outputs": [
    {
     "data": {
      "text/plain": [
       "date\n",
       "2015-02-04 17:51:00    426.0\n",
       "2015-02-04 17:51:00    429.5\n",
       "2015-02-04 17:53:00    426.0\n",
       "2015-02-04 17:54:00    426.0\n",
       "2015-02-04 17:55:00    426.0\n",
       "Name: Light, dtype: float64"
      ]
     },
     "execution_count": 4,
     "metadata": {},
     "output_type": "execute_result"
    }
   ],
   "source": [
    "Light.head()"
   ]
  },
  {
   "cell_type": "code",
   "execution_count": 5,
   "metadata": {},
   "outputs": [
    {
     "name": "stderr",
     "output_type": "stream",
     "text": [
      "/opt/anaconda3/lib/python3.7/site-packages/ipykernel_launcher.py:1: FutureWarning: pd.TimeGrouper is deprecated and will be removed; Please use pd.Grouper(freq=...)\n",
      "  \"\"\"Entry point for launching an IPython kernel.\n"
     ]
    }
   ],
   "source": [
    "hour = [g for n, g in Light.groupby(pd.TimeGrouper('H'))]"
   ]
  },
  {
   "cell_type": "code",
   "execution_count": 6,
   "metadata": {},
   "outputs": [],
   "source": [
    "del hour[0]"
   ]
  },
  {
   "cell_type": "code",
   "execution_count": 7,
   "metadata": {},
   "outputs": [],
   "source": [
    "del hour[135]"
   ]
  },
  {
   "cell_type": "code",
   "execution_count": 8,
   "metadata": {},
   "outputs": [
    {
     "name": "stdout",
     "output_type": "stream",
     "text": [
      "60\n",
      "61\n",
      "59\n",
      "60\n",
      "61\n",
      "59\n",
      "60\n",
      "61\n",
      "59\n",
      "60\n",
      "61\n",
      "59\n",
      "60\n",
      "61\n",
      "59\n",
      "60\n",
      "61\n",
      "59\n",
      "60\n",
      "61\n",
      "59\n",
      "60\n",
      "61\n",
      "59\n",
      "60\n",
      "61\n",
      "59\n",
      "60\n",
      "61\n",
      "59\n",
      "60\n",
      "61\n",
      "59\n",
      "60\n",
      "61\n",
      "59\n",
      "60\n",
      "61\n",
      "59\n",
      "60\n",
      "61\n",
      "59\n",
      "60\n",
      "61\n",
      "59\n",
      "60\n",
      "61\n",
      "59\n",
      "60\n",
      "61\n",
      "59\n",
      "60\n",
      "61\n",
      "59\n",
      "60\n",
      "61\n",
      "59\n",
      "60\n",
      "61\n",
      "59\n",
      "60\n",
      "61\n",
      "59\n",
      "60\n",
      "61\n",
      "59\n",
      "60\n",
      "61\n",
      "59\n",
      "60\n",
      "61\n",
      "59\n",
      "60\n",
      "61\n",
      "59\n",
      "60\n",
      "61\n",
      "59\n",
      "60\n",
      "61\n",
      "59\n",
      "60\n",
      "61\n",
      "59\n",
      "60\n",
      "61\n",
      "59\n",
      "60\n",
      "61\n",
      "59\n",
      "60\n",
      "61\n",
      "59\n",
      "60\n",
      "61\n",
      "59\n",
      "60\n",
      "61\n",
      "59\n",
      "60\n",
      "61\n",
      "59\n",
      "60\n",
      "61\n",
      "59\n",
      "60\n",
      "61\n",
      "59\n",
      "60\n",
      "61\n",
      "59\n",
      "60\n",
      "61\n",
      "59\n",
      "60\n",
      "61\n",
      "59\n",
      "60\n",
      "61\n",
      "59\n",
      "60\n",
      "61\n",
      "59\n",
      "60\n",
      "61\n",
      "59\n",
      "60\n",
      "61\n",
      "59\n",
      "60\n",
      "61\n",
      "59\n",
      "60\n",
      "61\n",
      "59\n"
     ]
    }
   ],
   "source": [
    "for i in range (0, len(hour)):\n",
    "    print(len(hour[i]))"
   ]
  },
  {
   "cell_type": "code",
   "execution_count": 9,
   "metadata": {
    "scrolled": true
   },
   "outputs": [
    {
     "name": "stdout",
     "output_type": "stream",
     "text": [
      "59\n",
      "59\n",
      "59\n",
      "59\n",
      "59\n",
      "59\n",
      "59\n",
      "59\n",
      "59\n",
      "59\n",
      "59\n",
      "59\n",
      "59\n",
      "59\n",
      "59\n",
      "59\n",
      "59\n",
      "59\n",
      "59\n",
      "59\n",
      "59\n",
      "59\n",
      "59\n",
      "59\n",
      "59\n",
      "59\n",
      "59\n",
      "59\n",
      "59\n",
      "59\n",
      "59\n",
      "59\n",
      "59\n",
      "59\n",
      "59\n",
      "59\n",
      "59\n",
      "59\n",
      "59\n",
      "59\n",
      "59\n",
      "59\n",
      "59\n",
      "59\n",
      "59\n",
      "59\n",
      "59\n",
      "59\n",
      "59\n",
      "59\n",
      "59\n",
      "59\n",
      "59\n",
      "59\n",
      "59\n",
      "59\n",
      "59\n",
      "59\n",
      "59\n",
      "59\n",
      "59\n",
      "59\n",
      "59\n",
      "59\n",
      "59\n",
      "59\n",
      "59\n",
      "59\n",
      "59\n",
      "59\n",
      "59\n",
      "59\n",
      "59\n",
      "59\n",
      "59\n",
      "59\n",
      "59\n",
      "59\n",
      "59\n",
      "59\n",
      "59\n",
      "59\n",
      "59\n",
      "59\n",
      "59\n",
      "59\n",
      "59\n",
      "59\n",
      "59\n",
      "59\n",
      "59\n",
      "59\n",
      "59\n",
      "59\n",
      "59\n",
      "59\n",
      "59\n",
      "59\n",
      "59\n",
      "59\n",
      "59\n",
      "59\n",
      "59\n",
      "59\n",
      "59\n",
      "59\n",
      "59\n",
      "59\n",
      "59\n",
      "59\n",
      "59\n",
      "59\n",
      "59\n",
      "59\n",
      "59\n",
      "59\n",
      "59\n",
      "59\n",
      "59\n",
      "59\n",
      "59\n",
      "59\n",
      "59\n",
      "59\n",
      "59\n",
      "59\n",
      "59\n",
      "59\n",
      "59\n",
      "59\n",
      "59\n",
      "59\n",
      "59\n",
      "59\n",
      "59\n"
     ]
    }
   ],
   "source": [
    "for i in range (0, len(hour)):\n",
    "    if len(hour[i])==59 :\n",
    "        print(len(hour[i]))\n",
    "    elif len(hour[i])==60 :\n",
    "        hour[i] = hour[i][: len(hour[i]) - 1] \n",
    "        print(len(hour[i]))\n",
    "    else:\n",
    "        hour[i] = hour[i][: len(hour[i]) - 2]\n",
    "        print(len(hour[i]))"
   ]
  },
  {
   "cell_type": "code",
   "execution_count": 10,
   "metadata": {
    "scrolled": true
   },
   "outputs": [],
   "source": [
    "#for i in range(0, len(hour)):\n",
    "#    plt.plot(hour[i])\n",
    "#    plt.show()"
   ]
  },
  {
   "cell_type": "code",
   "execution_count": 11,
   "metadata": {
    "scrolled": true
   },
   "outputs": [],
   "source": [
    "hour=np.asarray(hour)"
   ]
  },
  {
   "cell_type": "code",
   "execution_count": 12,
   "metadata": {},
   "outputs": [
    {
     "name": "stderr",
     "output_type": "stream",
     "text": [
      "/opt/anaconda3/lib/python3.7/site-packages/pandas/plotting/_converter.py:129: FutureWarning: Using an implicitly registered datetime converter for a matplotlib plotting method. The converter was registered by pandas on import. Future versions of pandas will require you to explicitly register matplotlib converters.\n",
      "\n",
      "To register the converters:\n",
      "\t>>> from pandas.plotting import register_matplotlib_converters\n",
      "\t>>> register_matplotlib_converters()\n",
      "  warnings.warn(msg, FutureWarning)\n"
     ]
    },
    {
     "data": {
      "image/png": "[encoded data removed]",
      "text/plain": [
       "<Figure size 1440x504 with 1 Axes>"
      ]
     },
     "metadata": {
      "needs_background": "light"
     },
     "output_type": "display_data"
    }
   ],
   "source": [
    "plt.figure(figsize=(20,7))\n",
    "plt.plot(Light)\n",
    "plt.show()"
   ]
  },
  {
   "cell_type": "code",
   "execution_count": 13,
   "metadata": {},
   "outputs": [
    {
     "data": {
      "text/plain": [
       "numpy.ndarray"
      ]
     },
     "execution_count": 13,
     "metadata": {},
     "output_type": "execute_result"
    }
   ],
   "source": [
    "type(hour)"
   ]
  },
  {
   "cell_type": "code",
   "execution_count": 50,
   "metadata": {
    "scrolled": true
   },
   "outputs": [
    {
     "data": {
      "text/plain": [
       "TimeSeriesKMeans(dtw_inertia=False, init='k-means++', max_iter=20,\n",
       "                 max_iter_barycenter=100, metric='euclidean',\n",
       "                 metric_params=None, n_clusters=3, n_init=1, n_jobs=None,\n",
       "                 random_state=0, tol=1e-06, verbose=0)"
      ]
     },
     "execution_count": 50,
     "metadata": {},
     "output_type": "execute_result"
    }
   ],
   "source": [
    "km = TimeSeriesKMeans(n_clusters=3, metric=\"euclidean\", max_iter=20, random_state=0)\n",
    "km.fit(hour)"
   ]
  },
  {
   "cell_type": "code",
   "execution_count": 51,
   "metadata": {
    "scrolled": true
   },
   "outputs": [
    {
     "data": {
      "image/png": "[encoded data removed]",
      "text/plain": [
       "<Figure size 432x288 with 1 Axes>"
      ]
     },
     "metadata": {
      "needs_background": "light"
     },
     "output_type": "display_data"
    }
   ],
   "source": [
    "plt.plot(km.cluster_centers_.reshape(hour.shape[1], 3))\n",
    "plt.show()"
   ]
  },
  {
   "cell_type": "code",
   "execution_count": 52,
   "metadata": {},
   "outputs": [
    {
     "data": {
      "image/png": "[encoded data removed]",
      "text/plain": [
       "<Figure size 432x288 with 1 Axes>"
      ]
     },
     "metadata": {
      "needs_background": "light"
     },
     "output_type": "display_data"
    }
   ],
   "source": [
    "for i in range(3):\n",
    "    plt.plot(np.mean(hour[np.where(km.labels_ == i)[0]], axis=0))\n",
    "plt.show()"
   ]
  },
  {
   "cell_type": "code",
   "execution_count": 100,
   "metadata": {},
   "outputs": [
    {
     "data": {
      "image/png": "[encoded data removed]",
      "text/plain": [
       "<Figure size 432x288 with 1 Axes>"
      ]
     },
     "metadata": {
      "needs_background": "light"
     },
     "output_type": "display_data"
    }
   ],
   "source": [
    "for i in range(0, 80):\n",
    "    if(km.labels_[i] == 2):\n",
    "        plt.plot(hour[i])\n",
    "plt.show()"
   ]
  },
  {
   "cell_type": "code",
   "execution_count": 92,
   "metadata": {},
   "outputs": [
    {
     "data": {
      "text/plain": [
       "array([2, 1, 1, 1, 1, 1, 1, 1, 1, 1, 1, 1, 1, 1, 0, 0, 0, 0, 0, 2, 0, 0,\n",
       "       0, 0, 1, 1, 1, 1, 1, 1, 1, 1, 1, 1, 1, 1, 1, 1, 0, 0, 0, 0, 0, 0,\n",
       "       0, 0, 0, 0, 2, 1, 1, 1, 1, 1, 1, 1, 1, 1, 1, 1, 1, 1, 1, 2, 0, 0,\n",
       "       0, 2, 2, 1, 1, 1, 1, 1, 1, 1, 1, 1, 1, 1, 1, 1, 1, 1, 1, 1, 1, 1,\n",
       "       1, 1, 2, 2, 2, 1, 1, 1, 1, 1, 1, 1, 1, 1, 1, 1, 1, 1, 1, 1, 1, 1,\n",
       "       1, 0, 0, 0, 0, 2, 0, 0, 0, 0, 1, 1, 1, 1, 1, 1, 1, 1, 1, 1, 1, 1,\n",
       "       1, 1, 1])"
      ]
     },
     "execution_count": 92,
     "metadata": {},
     "output_type": "execute_result"
    }
   ],
   "source": [
    "km.labels_"
   ]
  },
  {
   "cell_type": "code",
   "execution_count": 86,
   "metadata": {},
   "outputs": [
    {
     "data": {
      "text/plain": [
       "(array([ 14,  15,  16,  17,  18,  20,  21,  22,  23,  38,  39,  40,  41,\n",
       "         42,  43,  44,  45,  46,  47,  64,  65,  66, 111, 112, 113, 114,\n",
       "        116, 117, 118, 119]),)"
      ]
     },
     "execution_count": 86,
     "metadata": {},
     "output_type": "execute_result"
    }
   ],
   "source": [
    "np.where(km.labels_ == 0)"
   ]
  },
  {
   "cell_type": "code",
   "execution_count": 18,
   "metadata": {},
   "outputs": [
    {
     "data": {
      "text/plain": [
       "212170.6516980622"
      ]
     },
     "execution_count": 18,
     "metadata": {},
     "output_type": "execute_result"
    }
   ],
   "source": [
    "km.inertia_"
   ]
  },
  {
   "cell_type": "code",
   "execution_count": 19,
   "metadata": {},
   "outputs": [],
   "source": [
    "from sklearn.cluster import KMeans"
   ]
  },
  {
   "cell_type": "code",
   "execution_count": 20,
   "metadata": {},
   "outputs": [],
   "source": [
    "import numpy as np\n",
    "import scipy.stats as stats"
   ]
  },
  {
   "cell_type": "code",
   "execution_count": 21,
   "metadata": {},
   "outputs": [],
   "source": [
    "def calculate_features(values):\n",
    "    features = {\n",
    "        'avg': np.mean(values),\n",
    "        'std': np.std(values),\n",
    "        'var': np.var(values),\n",
    "        'med': np.median(values),\n",
    "        '10p': np.percentile(values, 10),\n",
    "        '25p': np.percentile(values, 25),\n",
    "        '50p': np.percentile(values, 50),\n",
    "        '75p': np.percentile(values, 75),\n",
    "        '90p': np.percentile(values, 90),\n",
    "        'iqr': np.percentile(values, 75) - np.percentile(values, 25),\n",
    "        'cov': 1.0 * np.mean(values) / np.std(values),\n",
    "        'skw': stats.skew(values),\n",
    "    }\n",
    "\n",
    "    return features"
   ]
  },
  {
   "cell_type": "code",
   "execution_count": 22,
   "metadata": {},
   "outputs": [],
   "source": [
    "features = calculate_features(hour)"
   ]
  },
  {
   "cell_type": "code",
   "execution_count": 23,
   "metadata": {},
   "outputs": [
    {
     "data": {
      "text/plain": [
       "{'avg': 117.86055450931158,\n",
       " 'std': 193.95568760681357,\n",
       " 'var': 37618.80875503185,\n",
       " 'med': 0.0,\n",
       " '10p': 0.0,\n",
       " '25p': 0.0,\n",
       " '50p': 0.0,\n",
       " '75p': 224.666666666667,\n",
       " '90p': 459.0,\n",
       " 'iqr': 224.666666666667,\n",
       " 'cov': 0.6076674314817628,\n",
       " 'skw': array([1.08254925, 1.07060875, 1.07757549, 1.07185615, 1.12358316,\n",
       "        1.13819065, 1.14917318, 1.2495328 , 1.29107049, 1.29070821,\n",
       "        1.29016603, 1.35413369, 1.35778014, 1.36281136, 1.35774499,\n",
       "        1.35029965, 1.3476954 , 1.37840434, 1.36363862, 1.38858344,\n",
       "        1.3698114 , 1.3063833 , 1.32639508, 1.33775118, 1.29747333,\n",
       "        1.34023452, 1.36763974, 1.35716032, 1.36509016, 1.3295467 ,\n",
       "        1.33377495, 1.31924963, 1.27438738, 1.25279293, 1.24357649,\n",
       "        1.22972398, 1.20599859, 1.16508235, 1.12967612, 1.10194094,\n",
       "        1.09762982, 1.07488395, 2.21474068, 2.03903358, 1.13612967,\n",
       "        1.0204689 , 1.02935127, 1.02641965, 1.03194446, 1.03411025,\n",
       "        1.02258231, 1.05221553, 1.05029546, 1.05126563, 1.14685757,\n",
       "        1.12076584, 1.09275587, 1.12556406, 1.09961009])}"
      ]
     },
     "execution_count": 23,
     "metadata": {},
     "output_type": "execute_result"
    }
   ],
   "source": [
    "features"
   ]
  },
  {
   "cell_type": "code",
   "execution_count": 24,
   "metadata": {
    "scrolled": true
   },
   "outputs": [
    {
     "name": "stderr",
     "output_type": "stream",
     "text": [
      "/opt/anaconda3/lib/python3.7/site-packages/ipykernel_launcher.py:13: RuntimeWarning: invalid value encountered in double_scalars\n",
      "  del sys.path[0]\n"
     ]
    }
   ],
   "source": [
    "F = [list(calculate_features(x).values())[:-2] for x in hour]"
   ]
  },
  {
   "cell_type": "code",
   "execution_count": 25,
   "metadata": {},
   "outputs": [
    {
     "data": {
      "text/plain": [
       "[[49.70338983050848,\n",
       "  135.46861912697742,\n",
       "  18351.74676817007,\n",
       "  0.0,\n",
       "  0.0,\n",
       "  0.0,\n",
       "  0.0,\n",
       "  0.0,\n",
       "  418.6,\n",
       "  0.0],\n",
       " [0.0, 0.0, 0.0, 0.0, 0.0, 0.0, 0.0, 0.0, 0.0, 0.0],\n",
       " [0.0, 0.0, 0.0, 0.0, 0.0, 0.0, 0.0, 0.0, 0.0, 0.0],\n",
       " [0.0, 0.0, 0.0, 0.0, 0.0, 0.0, 0.0, 0.0, 0.0, 0.0],\n",
       " [0.0, 0.0, 0.0, 0.0, 0.0, 0.0, 0.0, 0.0, 0.0, 0.0],\n",
       " [0.0, 0.0, 0.0, 0.0, 0.0, 0.0, 0.0, 0.0, 0.0, 0.0],\n",
       " [0.0, 0.0, 0.0, 0.0, 0.0, 0.0, 0.0, 0.0, 0.0, 0.0],\n",
       " [0.0, 0.0, 0.0, 0.0, 0.0, 0.0, 0.0, 0.0, 0.0, 0.0],\n",
       " [0.0, 0.0, 0.0, 0.0, 0.0, 0.0, 0.0, 0.0, 0.0, 0.0],\n",
       " [0.0, 0.0, 0.0, 0.0, 0.0, 0.0, 0.0, 0.0, 0.0, 0.0],\n",
       " [0.0, 0.0, 0.0, 0.0, 0.0, 0.0, 0.0, 0.0, 0.0, 0.0],\n",
       " [0.0, 0.0, 0.0, 0.0, 0.0, 0.0, 0.0, 0.0, 0.0, 0.0],\n",
       " [0.0, 0.0, 0.0, 0.0, 0.0, 0.0, 0.0, 0.0, 0.0, 0.0],\n",
       " [144.82203389830508,\n",
       "  195.01820105410485,\n",
       "  38032.09874237926,\n",
       "  0.0,\n",
       "  0.0,\n",
       "  0.0,\n",
       "  0.0,\n",
       "  398.9166666666665,\n",
       "  414.20000000000005,\n",
       "  398.9166666666665],\n",
       " [428.95649717514124,\n",
       "  13.560432505139763,\n",
       "  183.8853297264511,\n",
       "  428.333333333333,\n",
       "  417.59999999999997,\n",
       "  419.0,\n",
       "  428.333333333333,\n",
       "  437.6666666666665,\n",
       "  446.66666666666663,\n",
       "  18.666666666666515],\n",
       " [477.3658192090395,\n",
       "  20.049814475128915,\n",
       "  401.99506048708895,\n",
       "  478.0,\n",
       "  454.0,\n",
       "  459.0,\n",
       "  478.0,\n",
       "  495.5,\n",
       "  504.5,\n",
       "  36.5],\n",
       " [458.25,\n",
       "  7.775722757839278,\n",
       "  60.46186440677966,\n",
       "  454.75,\n",
       "  449.5,\n",
       "  453.5,\n",
       "  454.75,\n",
       "  464.0,\n",
       "  469.0,\n",
       "  10.5],\n",
       " [452.5141242937853,\n",
       "  8.413836473064716,\n",
       "  70.79264419547411,\n",
       "  454.0,\n",
       "  444.0,\n",
       "  444.0,\n",
       "  454.0,\n",
       "  458.75,\n",
       "  464.0,\n",
       "  14.75],\n",
       " [570.6319209039548,\n",
       "  72.40900883282366,\n",
       "  5243.064560151935,\n",
       "  550.0,\n",
       "  481.5,\n",
       "  522.375,\n",
       "  550.0,\n",
       "  630.25,\n",
       "  678.0500000000001,\n",
       "  107.875],\n",
       " [312.7107344632769,\n",
       "  225.5021333901094,\n",
       "  50851.212163490694,\n",
       "  459.0,\n",
       "  31.0,\n",
       "  36.125,\n",
       "  459.0,\n",
       "  493.5833333333335,\n",
       "  564.7,\n",
       "  457.4583333333335],\n",
       " [467.63050847457623,\n",
       "  34.92719912510167,\n",
       "  1219.9092387245032,\n",
       "  451.75,\n",
       "  438.0,\n",
       "  441.45,\n",
       "  451.75,\n",
       "  488.1666666666665,\n",
       "  532.25,\n",
       "  46.71666666666653],\n",
       " [481.5522598870057,\n",
       "  26.340921358583635,\n",
       "  693.8441380190875,\n",
       "  474.0,\n",
       "  454.0,\n",
       "  460.875,\n",
       "  474.0,\n",
       "  513.5,\n",
       "  524.1333333333334,\n",
       "  52.625],\n",
       " [442.42655367231635,\n",
       "  7.000539472515871,\n",
       "  49.00755290625278,\n",
       "  442.5,\n",
       "  434.54999999999995,\n",
       "  438.0,\n",
       "  442.5,\n",
       "  445.25,\n",
       "  452.46666666666636,\n",
       "  7.25],\n",
       " [433.5,\n",
       "  2.6505515895401017,\n",
       "  7.02542372881356,\n",
       "  433.0,\n",
       "  433.0,\n",
       "  433.0,\n",
       "  433.0,\n",
       "  433.0,\n",
       "  433.0,\n",
       "  0.0],\n",
       " [32.847457627118644,\n",
       "  110.90182153129888,\n",
       "  12299.214018960067,\n",
       "  0.0,\n",
       "  0.0,\n",
       "  0.0,\n",
       "  0.0,\n",
       "  0.0,\n",
       "  0.0,\n",
       "  0.0],\n",
       " [0.0, 0.0, 0.0, 0.0, 0.0, 0.0, 0.0, 0.0, 0.0, 0.0],\n",
       " [0.0, 0.0, 0.0, 0.0, 0.0, 0.0, 0.0, 0.0, 0.0, 0.0],\n",
       " [0.0, 0.0, 0.0, 0.0, 0.0, 0.0, 0.0, 0.0, 0.0, 0.0],\n",
       " [0.0, 0.0, 0.0, 0.0, 0.0, 0.0, 0.0, 0.0, 0.0, 0.0],\n",
       " [0.0, 0.0, 0.0, 0.0, 0.0, 0.0, 0.0, 0.0, 0.0, 0.0],\n",
       " [0.0, 0.0, 0.0, 0.0, 0.0, 0.0, 0.0, 0.0, 0.0, 0.0],\n",
       " [0.0, 0.0, 0.0, 0.0, 0.0, 0.0, 0.0, 0.0, 0.0, 0.0],\n",
       " [0.0, 0.0, 0.0, 0.0, 0.0, 0.0, 0.0, 0.0, 0.0, 0.0],\n",
       " [0.0, 0.0, 0.0, 0.0, 0.0, 0.0, 0.0, 0.0, 0.0, 0.0],\n",
       " [0.0, 0.0, 0.0, 0.0, 0.0, 0.0, 0.0, 0.0, 0.0, 0.0],\n",
       " [0.0, 0.0, 0.0, 0.0, 0.0, 0.0, 0.0, 0.0, 0.0, 0.0],\n",
       " [0.0, 0.0, 0.0, 0.0, 0.0, 0.0, 0.0, 0.0, 0.0, 0.0],\n",
       " [130.33672316384178,\n",
       "  190.148434703385,\n",
       "  36156.42722014747,\n",
       "  0.0,\n",
       "  0.0,\n",
       "  0.0,\n",
       "  0.0,\n",
       "  404.4166666666665,\n",
       "  414.20000000000005,\n",
       "  404.4166666666665],\n",
       " [425.683615819209,\n",
       "  8.54079029073178,\n",
       "  72.94509879025824,\n",
       "  429.5,\n",
       "  412.6,\n",
       "  419.0,\n",
       "  429.5,\n",
       "  433.0,\n",
       "  433.0,\n",
       "  14.0],\n",
       " [446.1209039548022,\n",
       "  8.931969598887246,\n",
       "  79.780080915446,\n",
       "  444.0,\n",
       "  435.24,\n",
       "  438.0,\n",
       "  444.0,\n",
       "  454.666666666667,\n",
       "  460.0,\n",
       "  16.666666666667027],\n",
       " [471.366384180791,\n",
       "  19.930568864178674,\n",
       "  397.2275752497684,\n",
       "  465.25,\n",
       "  449.5,\n",
       "  455.125,\n",
       "  465.25,\n",
       "  483.375,\n",
       "  498.0,\n",
       "  28.25],\n",
       " [476.6864406779661,\n",
       "  10.665997275330891,\n",
       "  113.763497877366,\n",
       "  476.75,\n",
       "  463.75,\n",
       "  469.0,\n",
       "  476.75,\n",
       "  484.0,\n",
       "  490.3333333333334,\n",
       "  15.0],\n",
       " [460.5748587570621,\n",
       "  124.68908479107007,\n",
       "  15547.367866034663,\n",
       "  495.25,\n",
       "  452.75000000000006,\n",
       "  485.25,\n",
       "  495.25,\n",
       "  508.1666666666665,\n",
       "  514.9333333333334,\n",
       "  22.916666666666515],\n",
       " [382.64237288135587,\n",
       "  208.64377368332288,\n",
       "  43532.22429681765,\n",
       "  494.0,\n",
       "  52.21666666666664,\n",
       "  75.0,\n",
       "  494.0,\n",
       "  530.4166666666665,\n",
       "  549.72,\n",
       "  455.4166666666665],\n",
       " [540.2909604519774,\n",
       "  17.06082210406663,\n",
       "  291.0716508666085,\n",
       "  539.0,\n",
       "  521.4,\n",
       "  526.375,\n",
       "  539.0,\n",
       "  554.6666666666665,\n",
       "  562.3000000000001,\n",
       "  28.291666666666515],\n",
       " [494.5593220338983,\n",
       "  16.280418804559364,\n",
       "  265.0520364518502,\n",
       "  494.0,\n",
       "  474.5,\n",
       "  479.0,\n",
       "  494.0,\n",
       "  509.0,\n",
       "  518.0,\n",
       "  30.0],\n",
       " [461.5929378531073,\n",
       "  9.041201049423702,\n",
       "  81.74331641610026,\n",
       "  460.0,\n",
       "  444.0,\n",
       "  455.875,\n",
       "  460.0,\n",
       "  469.0,\n",
       "  469.0,\n",
       "  13.125],\n",
       " [437.2960451977401,\n",
       "  5.487662363901367,\n",
       "  30.11443822017954,\n",
       "  433.0,\n",
       "  433.0,\n",
       "  433.0,\n",
       "  433.0,\n",
       "  441.2,\n",
       "  447.0,\n",
       "  8.199999999999989],\n",
       " [51.25423728813559,\n",
       "  139.6980512852375,\n",
       "  19515.545532892847,\n",
       "  0.0,\n",
       "  0.0,\n",
       "  0.0,\n",
       "  0.0,\n",
       "  0.0,\n",
       "  427.40000000000003,\n",
       "  0.0],\n",
       " [0.0, 0.0, 0.0, 0.0, 0.0, 0.0, 0.0, 0.0, 0.0, 0.0],\n",
       " [0.0, 0.0, 0.0, 0.0, 0.0, 0.0, 0.0, 0.0, 0.0, 0.0],\n",
       " [0.0, 0.0, 0.0, 0.0, 0.0, 0.0, 0.0, 0.0, 0.0, 0.0],\n",
       " [0.0, 0.0, 0.0, 0.0, 0.0, 0.0, 0.0, 0.0, 0.0, 0.0],\n",
       " [0.0, 0.0, 0.0, 0.0, 0.0, 0.0, 0.0, 0.0, 0.0, 0.0],\n",
       " [0.0, 0.0, 0.0, 0.0, 0.0, 0.0, 0.0, 0.0, 0.0, 0.0],\n",
       " [0.0, 0.0, 0.0, 0.0, 0.0, 0.0, 0.0, 0.0, 0.0, 0.0],\n",
       " [0.0, 0.0, 0.0, 0.0, 0.0, 0.0, 0.0, 0.0, 0.0, 0.0],\n",
       " [0.0, 0.0, 0.0, 0.0, 0.0, 0.0, 0.0, 0.0, 0.0, 0.0],\n",
       " [0.0, 0.0, 0.0, 0.0, 0.0, 0.0, 0.0, 0.0, 0.0, 0.0],\n",
       " [0.0, 0.0, 0.0, 0.0, 0.0, 0.0, 0.0, 0.0, 0.0, 0.0],\n",
       " [0.0, 0.0, 0.0, 0.0, 0.0, 0.0, 0.0, 0.0, 0.0, 0.0],\n",
       " [0.0, 0.0, 0.0, 0.0, 0.0, 0.0, 0.0, 0.0, 0.0, 0.0],\n",
       " [18.329096045197737,\n",
       "  13.215229256629495,\n",
       "  174.64228430527618,\n",
       "  14.0,\n",
       "  0.0,\n",
       "  8.166666666666664,\n",
       "  14.0,\n",
       "  28.75,\n",
       "  38.3333333333333,\n",
       "  20.583333333333336],\n",
       " [220.2079096045197,\n",
       "  266.01082694212346,\n",
       "  70761.76005043236,\n",
       "  166.25,\n",
       "  91.14999999999999,\n",
       "  117.75,\n",
       "  166.25,\n",
       "  205.25,\n",
       "  232.4666666666666,\n",
       "  87.5],\n",
       " [304.5889830508474,\n",
       "  30.08389424804862,\n",
       "  905.0406931277727,\n",
       "  305.0,\n",
       "  264.9,\n",
       "  273.2916666666665,\n",
       "  305.0,\n",
       "  329.7916666666665,\n",
       "  345.6,\n",
       "  56.5],\n",
       " [348.09293785310734,\n",
       "  8.675551293092305,\n",
       "  75.26519023907557,\n",
       "  349.75,\n",
       "  334.4,\n",
       "  342.25,\n",
       "  349.75,\n",
       "  354.625,\n",
       "  358.0,\n",
       "  12.375],\n",
       " [310.97372881355926,\n",
       "  18.279957277667528,\n",
       "  334.15683807335,\n",
       "  310.5,\n",
       "  285.0,\n",
       "  297.875,\n",
       "  310.5,\n",
       "  319.125,\n",
       "  338.7666666666664,\n",
       "  21.25],\n",
       " [211.47881355932202,\n",
       "  46.196210114169624,\n",
       "  2134.089828912508,\n",
       "  205.0,\n",
       "  149.9333333333334,\n",
       "  175.875,\n",
       "  205.0,\n",
       "  259.75,\n",
       "  267.4666666666664,\n",
       "  83.875],\n",
       " [119.94067796610169,\n",
       "  25.557461986548002,\n",
       "  653.1838631938462,\n",
       "  119.0,\n",
       "  87.0,\n",
       "  100.0,\n",
       "  119.0,\n",
       "  139.0,\n",
       "  157.3,\n",
       "  39.0],\n",
       " [53.87824858757062,\n",
       "  14.07496115746524,\n",
       "  198.1045315841552,\n",
       "  52.0,\n",
       "  37.0,\n",
       "  42.25,\n",
       "  52.0,\n",
       "  64.5,\n",
       "  74.0,\n",
       "  22.25],\n",
       " [17.862994350282488,\n",
       "  9.689625020097521,\n",
       "  93.88883303009987,\n",
       "  14.0,\n",
       "  6.0,\n",
       "  11.0,\n",
       "  14.0,\n",
       "  24.0,\n",
       "  31.250000000000004,\n",
       "  13.0],\n",
       " [0.0, 0.0, 0.0, 0.0, 0.0, 0.0, 0.0, 0.0, 0.0, 0.0],\n",
       " [0.0, 0.0, 0.0, 0.0, 0.0, 0.0, 0.0, 0.0, 0.0, 0.0],\n",
       " [0.0, 0.0, 0.0, 0.0, 0.0, 0.0, 0.0, 0.0, 0.0, 0.0],\n",
       " [0.0, 0.0, 0.0, 0.0, 0.0, 0.0, 0.0, 0.0, 0.0, 0.0],\n",
       " [0.0, 0.0, 0.0, 0.0, 0.0, 0.0, 0.0, 0.0, 0.0, 0.0],\n",
       " [0.0, 0.0, 0.0, 0.0, 0.0, 0.0, 0.0, 0.0, 0.0, 0.0],\n",
       " [0.0, 0.0, 0.0, 0.0, 0.0, 0.0, 0.0, 0.0, 0.0, 0.0],\n",
       " [0.0, 0.0, 0.0, 0.0, 0.0, 0.0, 0.0, 0.0, 0.0, 0.0],\n",
       " [0.0, 0.0, 0.0, 0.0, 0.0, 0.0, 0.0, 0.0, 0.0, 0.0],\n",
       " [0.0, 0.0, 0.0, 0.0, 0.0, 0.0, 0.0, 0.0, 0.0, 0.0],\n",
       " [0.0, 0.0, 0.0, 0.0, 0.0, 0.0, 0.0, 0.0, 0.0, 0.0],\n",
       " [0.0, 0.0, 0.0, 0.0, 0.0, 0.0, 0.0, 0.0, 0.0, 0.0],\n",
       " [0.0, 0.0, 0.0, 0.0, 0.0, 0.0, 0.0, 0.0, 0.0, 0.0],\n",
       " [0.0, 0.0, 0.0, 0.0, 0.0, 0.0, 0.0, 0.0, 0.0, 0.0],\n",
       " [0.0, 0.0, 0.0, 0.0, 0.0, 0.0, 0.0, 0.0, 0.0, 0.0],\n",
       " [9.137288135593218,\n",
       "  5.812105312507872,\n",
       "  33.780568163682226,\n",
       "  10.0,\n",
       "  0.0,\n",
       "  6.0,\n",
       "  10.0,\n",
       "  14.0,\n",
       "  14.0,\n",
       "  8.0],\n",
       " [38.04774011299435,\n",
       "  40.67215919396601,\n",
       "  1654.2245334993136,\n",
       "  25.0,\n",
       "  7.0,\n",
       "  16.8,\n",
       "  25.0,\n",
       "  35.5,\n",
       "  101.25000000000006,\n",
       "  18.7],\n",
       " [20.748587570621467,\n",
       "  7.090358621913339,\n",
       "  50.273185387340824,\n",
       "  24.0,\n",
       "  6.0,\n",
       "  17.3333333333333,\n",
       "  24.0,\n",
       "  24.0,\n",
       "  26.5,\n",
       "  6.6666666666667],\n",
       " [19.42655367231638,\n",
       "  7.78768833668996,\n",
       "  60.64808962941682,\n",
       "  18.5,\n",
       "  8.866666666666667,\n",
       "  13.75,\n",
       "  18.5,\n",
       "  24.5,\n",
       "  31.0,\n",
       "  10.75],\n",
       " [151.27401129943505,\n",
       "  89.66751996271296,\n",
       "  8040.264136263526,\n",
       "  106.0,\n",
       "  61.050000000000004,\n",
       "  70.625,\n",
       "  106.0,\n",
       "  245.41666666666652,\n",
       "  287.8333333333336,\n",
       "  174.79166666666652],\n",
       " [186.15790960451974,\n",
       "  60.71586269366429,\n",
       "  3686.4159826358955,\n",
       "  186.0,\n",
       "  95.12,\n",
       "  144.25,\n",
       "  186.0,\n",
       "  251.375,\n",
       "  265.0,\n",
       "  107.125],\n",
       " [95.89491525423728,\n",
       "  34.5660172773281,\n",
       "  1194.8095504165449,\n",
       "  85.3333333333333,\n",
       "  59.2,\n",
       "  67.75,\n",
       "  85.3333333333333,\n",
       "  122.875,\n",
       "  149.60000000000002,\n",
       "  55.125],\n",
       " [45.137005649717516,\n",
       "  11.57160385185647,\n",
       "  133.9020157042995,\n",
       "  44.0,\n",
       "  32.95,\n",
       "  37.0,\n",
       "  44.0,\n",
       "  54.75,\n",
       "  60.75,\n",
       "  17.75],\n",
       " [26.678531073446326,\n",
       "  8.725571253455477,\n",
       "  76.13559369912859,\n",
       "  31.0,\n",
       "  13.0,\n",
       "  24.0,\n",
       "  31.0,\n",
       "  31.0,\n",
       "  37.00000000000002,\n",
       "  7.0],\n",
       " [8.079096045197742,\n",
       "  6.9297222731953,\n",
       "  48.02105078361904,\n",
       "  7.0,\n",
       "  0.0,\n",
       "  0.0,\n",
       "  7.0,\n",
       "  14.0,\n",
       "  17.0,\n",
       "  14.0],\n",
       " [0.0, 0.0, 0.0, 0.0, 0.0, 0.0, 0.0, 0.0, 0.0, 0.0],\n",
       " [0.0, 0.0, 0.0, 0.0, 0.0, 0.0, 0.0, 0.0, 0.0, 0.0],\n",
       " [0.0, 0.0, 0.0, 0.0, 0.0, 0.0, 0.0, 0.0, 0.0, 0.0],\n",
       " [0.0, 0.0, 0.0, 0.0, 0.0, 0.0, 0.0, 0.0, 0.0, 0.0],\n",
       " [0.0, 0.0, 0.0, 0.0, 0.0, 0.0, 0.0, 0.0, 0.0, 0.0],\n",
       " [0.0, 0.0, 0.0, 0.0, 0.0, 0.0, 0.0, 0.0, 0.0, 0.0],\n",
       " [0.0, 0.0, 0.0, 0.0, 0.0, 0.0, 0.0, 0.0, 0.0, 0.0],\n",
       " [0.0, 0.0, 0.0, 0.0, 0.0, 0.0, 0.0, 0.0, 0.0, 0.0],\n",
       " [0.0, 0.0, 0.0, 0.0, 0.0, 0.0, 0.0, 0.0, 0.0, 0.0],\n",
       " [0.0, 0.0, 0.0, 0.0, 0.0, 0.0, 0.0, 0.0, 0.0, 0.0],\n",
       " [0.0, 0.0, 0.0, 0.0, 0.0, 0.0, 0.0, 0.0, 0.0, 0.0],\n",
       " [0.0, 0.0, 0.0, 0.0, 0.0, 0.0, 0.0, 0.0, 0.0, 0.0],\n",
       " [0.0, 0.0, 0.0, 0.0, 0.0, 0.0, 0.0, 0.0, 0.0, 0.0],\n",
       " [0.0, 0.0, 0.0, 0.0, 0.0, 0.0, 0.0, 0.0, 0.0, 0.0],\n",
       " [100.10028248587572,\n",
       "  172.11979291171875,\n",
       "  29625.223111972948,\n",
       "  0.0,\n",
       "  0.0,\n",
       "  0.0,\n",
       "  0.0,\n",
       "  144.875,\n",
       "  397.5333333333334,\n",
       "  144.875],\n",
       " [422.2302259887006,\n",
       "  18.837228604367063,\n",
       "  354.84118149318465,\n",
       "  433.0,\n",
       "  392.5,\n",
       "  405.0,\n",
       "  433.0,\n",
       "  437.8333333333335,\n",
       "  443.40000000000003,\n",
       "  32.833333333333485],\n",
       " [443.20762711864404,\n",
       "  9.417140042115964,\n",
       "  88.68252657282387,\n",
       "  441.0,\n",
       "  432.75,\n",
       "  438.0,\n",
       "  441.0,\n",
       "  454.0,\n",
       "  454.0,\n",
       "  16.0],\n",
       " [473.864406779661,\n",
       "  11.832675822278443,\n",
       "  140.0122171151328,\n",
       "  474.5,\n",
       "  464.0,\n",
       "  464.0,\n",
       "  474.5,\n",
       "  479.0,\n",
       "  489.66666666666663,\n",
       "  15.0],\n",
       " [474.4166666666667,\n",
       "  17.5409730192848,\n",
       "  307.6857344632773,\n",
       "  468.0,\n",
       "  454.0,\n",
       "  463.5,\n",
       "  468.0,\n",
       "  482.125,\n",
       "  500.0,\n",
       "  18.625],\n",
       " [284.31497175141243,\n",
       "  217.13742701324728,\n",
       "  47148.66220993329,\n",
       "  454.0,\n",
       "  13.0,\n",
       "  13.0,\n",
       "  454.0,\n",
       "  469.0,\n",
       "  474.5,\n",
       "  456.0],\n",
       " [473.29378531073445,\n",
       "  10.380954102680962,\n",
       "  107.76420808196869,\n",
       "  474.0,\n",
       "  459.0,\n",
       "  464.0,\n",
       "  474.0,\n",
       "  481.7083333333335,\n",
       "  489.0,\n",
       "  17.708333333333485],\n",
       " [444.8305084745763,\n",
       "  4.968852278121437,\n",
       "  24.689492961792595,\n",
       "  444.0,\n",
       "  440.0,\n",
       "  444.0,\n",
       "  444.0,\n",
       "  444.0,\n",
       "  453.05,\n",
       "  0.0],\n",
       " [439.29802259887003,\n",
       "  5.089343103717924,\n",
       "  25.9014132273612,\n",
       "  438.0,\n",
       "  433.0,\n",
       "  436.5,\n",
       "  438.0,\n",
       "  443.0,\n",
       "  447.0,\n",
       "  6.5],\n",
       " [428.183615819209,\n",
       "  14.883688885335362,\n",
       "  221.5241948354554,\n",
       "  433.0,\n",
       "  419.0,\n",
       "  429.5,\n",
       "  433.0,\n",
       "  433.0,\n",
       "  433.0,\n",
       "  3.5],\n",
       " [32.511299435028256,\n",
       "  109.81205851927147,\n",
       "  12058.688196239904,\n",
       "  0.0,\n",
       "  0.0,\n",
       "  0.0,\n",
       "  0.0,\n",
       "  0.0,\n",
       "  0.0,\n",
       "  0.0],\n",
       " [0.0, 0.0, 0.0, 0.0, 0.0, 0.0, 0.0, 0.0, 0.0, 0.0],\n",
       " [0.0, 0.0, 0.0, 0.0, 0.0, 0.0, 0.0, 0.0, 0.0, 0.0],\n",
       " [0.0, 0.0, 0.0, 0.0, 0.0, 0.0, 0.0, 0.0, 0.0, 0.0],\n",
       " [0.0, 0.0, 0.0, 0.0, 0.0, 0.0, 0.0, 0.0, 0.0, 0.0],\n",
       " [0.0, 0.0, 0.0, 0.0, 0.0, 0.0, 0.0, 0.0, 0.0, 0.0],\n",
       " [0.0, 0.0, 0.0, 0.0, 0.0, 0.0, 0.0, 0.0, 0.0, 0.0],\n",
       " [0.0, 0.0, 0.0, 0.0, 0.0, 0.0, 0.0, 0.0, 0.0, 0.0],\n",
       " [0.0, 0.0, 0.0, 0.0, 0.0, 0.0, 0.0, 0.0, 0.0, 0.0],\n",
       " [0.0, 0.0, 0.0, 0.0, 0.0, 0.0, 0.0, 0.0, 0.0, 0.0],\n",
       " [0.0, 0.0, 0.0, 0.0, 0.0, 0.0, 0.0, 0.0, 0.0, 0.0],\n",
       " [0.0, 0.0, 0.0, 0.0, 0.0, 0.0, 0.0, 0.0, 0.0, 0.0],\n",
       " [0.0, 0.0, 0.0, 0.0, 0.0, 0.0, 0.0, 0.0, 0.0, 0.0],\n",
       " [0.0, 0.0, 0.0, 0.0, 0.0, 0.0, 0.0, 0.0, 0.0, 0.0],\n",
       " [157.67231638418082,\n",
       "  198.65229293853608,\n",
       "  39462.73348973795,\n",
       "  0.0,\n",
       "  0.0,\n",
       "  0.0,\n",
       "  0.0,\n",
       "  405.0,\n",
       "  419.0,\n",
       "  405.0]]"
      ]
     },
     "execution_count": 25,
     "metadata": {},
     "output_type": "execute_result"
    }
   ],
   "source": [
    "F"
   ]
  },
  {
   "cell_type": "code",
   "execution_count": 67,
   "metadata": {
    "scrolled": true
   },
   "outputs": [
    {
     "data": {
      "text/plain": [
       "KMeans(algorithm='auto', copy_x=True, init='k-means++', max_iter=300,\n",
       "       n_clusters=3, n_init=10, n_jobs=None, precompute_distances='auto',\n",
       "       random_state=None, tol=0.0001, verbose=0)"
      ]
     },
     "execution_count": 67,
     "metadata": {},
     "output_type": "execute_result"
    }
   ],
   "source": [
    "kmeans = KMeans(n_clusters=3)\n",
    "kmeans.fit(F)"
   ]
  },
  {
   "cell_type": "code",
   "execution_count": 68,
   "metadata": {},
   "outputs": [
    {
     "data": {
      "text/plain": [
       "1200499207.5314832"
      ]
     },
     "execution_count": 68,
     "metadata": {},
     "output_type": "execute_result"
    }
   ],
   "source": [
    "kmeans.inertia_"
   ]
  },
  {
   "cell_type": "code",
   "execution_count": 102,
   "metadata": {},
   "outputs": [
    {
     "data": {
      "image/png": "[encoded data removed]",
      "text/plain": [
       "<Figure size 432x288 with 1 Axes>"
      ]
     },
     "metadata": {
      "needs_background": "light"
     },
     "output_type": "display_data"
    }
   ],
   "source": [
    "for i in range(3):\n",
    "    plt.plot(np.mean(hour[np.where(kmeans.labels_ == i)[0]], axis=0))\n",
    "plt.show()"
   ]
  },
  {
   "cell_type": "code",
   "execution_count": 70,
   "metadata": {
    "scrolled": true
   },
   "outputs": [
    {
     "data": {
      "text/plain": [
       "array([1, 0, 0, 0, 0, 0, 0, 0, 0, 0, 0, 0, 0, 2, 0, 0, 0, 0, 0, 2, 0, 0,\n",
       "       0, 0, 1, 0, 0, 0, 0, 0, 0, 0, 0, 0, 0, 0, 0, 2, 0, 0, 0, 0, 1, 2,\n",
       "       0, 0, 0, 0, 1, 0, 0, 0, 0, 0, 0, 0, 0, 0, 0, 0, 0, 0, 0, 2, 0, 0,\n",
       "       0, 0, 0, 0, 0, 0, 0, 0, 0, 0, 0, 0, 0, 0, 0, 0, 0, 0, 0, 0, 0, 0,\n",
       "       0, 0, 0, 0, 0, 0, 0, 0, 0, 0, 0, 0, 0, 0, 0, 0, 0, 0, 0, 0, 0, 0,\n",
       "       1, 0, 0, 0, 0, 2, 0, 0, 0, 0, 1, 0, 0, 0, 0, 0, 0, 0, 0, 0, 0, 0,\n",
       "       0, 0, 2], dtype=int32)"
      ]
     },
     "execution_count": 70,
     "metadata": {},
     "output_type": "execute_result"
    }
   ],
   "source": [
    "kmeans.labels_"
   ]
  },
  {
   "cell_type": "code",
   "execution_count": 71,
   "metadata": {},
   "outputs": [],
   "source": [
    "from tslearn.piecewise import PiecewiseAggregateApproximation\n",
    "from tslearn.piecewise import SymbolicAggregateApproximation\n",
    "from tslearn.piecewise import OneD_SymbolicAggregateApproximation"
   ]
  },
  {
   "cell_type": "code",
   "execution_count": 72,
   "metadata": {},
   "outputs": [],
   "source": [
    "n_paa_segments = 20\n",
    "paa = PiecewiseAggregateApproximation(n_segments=n_paa_segments)\n",
    "X_paa = paa.fit_transform(hour)"
   ]
  },
  {
   "cell_type": "code",
   "execution_count": 73,
   "metadata": {},
   "outputs": [
    {
     "data": {
      "image/png": "[encoded data removed]",
      "text/plain": [
       "<Figure size 432x288 with 1 Axes>"
      ]
     },
     "metadata": {
      "needs_background": "light"
     },
     "output_type": "display_data"
    }
   ],
   "source": [
    "plt.plot(X_paa.reshape(X_paa.shape[1], X_paa.shape[0]))\n",
    "plt.show()"
   ]
  },
  {
   "cell_type": "code",
   "execution_count": 74,
   "metadata": {},
   "outputs": [
    {
     "data": {
      "text/plain": [
       "TimeSeriesKMeans(dtw_inertia=False, init='k-means++', max_iter=5,\n",
       "                 max_iter_barycenter=100, metric='euclidean',\n",
       "                 metric_params=None, n_clusters=3, n_init=1, n_jobs=None,\n",
       "                 random_state=0, tol=1e-06, verbose=0)"
      ]
     },
     "execution_count": 74,
     "metadata": {},
     "output_type": "execute_result"
    }
   ],
   "source": [
    "km = TimeSeriesKMeans(n_clusters=3, metric=\"euclidean\", max_iter=5, random_state=0)\n",
    "km.fit(X_paa)"
   ]
  },
  {
   "cell_type": "code",
   "execution_count": 75,
   "metadata": {},
   "outputs": [
    {
     "data": {
      "image/png": "[encoded data removed]",
      "text/plain": [
       "<Figure size 432x288 with 1 Axes>"
      ]
     },
     "metadata": {
      "needs_background": "light"
     },
     "output_type": "display_data"
    }
   ],
   "source": [
    "plt.plot(km.cluster_centers_.reshape(X_paa.shape[1], 3))\n",
    "plt.show()"
   ]
  },
  {
   "cell_type": "code",
   "execution_count": 76,
   "metadata": {},
   "outputs": [
    {
     "data": {
      "text/plain": [
       "1200499207.5314832"
      ]
     },
     "execution_count": 76,
     "metadata": {},
     "output_type": "execute_result"
    }
   ],
   "source": [
    "kmeans.inertia_"
   ]
  },
  {
   "cell_type": "code",
   "execution_count": 77,
   "metadata": {},
   "outputs": [
    {
     "data": {
      "text/plain": [
       "array([1, 0, 0, 0, 0, 0, 0, 0, 0, 0, 0, 0, 0, 2, 0, 0, 0, 0, 0, 2, 0, 0,\n",
       "       0, 0, 1, 0, 0, 0, 0, 0, 0, 0, 0, 0, 0, 0, 0, 2, 0, 0, 0, 0, 1, 2,\n",
       "       0, 0, 0, 0, 1, 0, 0, 0, 0, 0, 0, 0, 0, 0, 0, 0, 0, 0, 0, 2, 0, 0,\n",
       "       0, 0, 0, 0, 0, 0, 0, 0, 0, 0, 0, 0, 0, 0, 0, 0, 0, 0, 0, 0, 0, 0,\n",
       "       0, 0, 0, 0, 0, 0, 0, 0, 0, 0, 0, 0, 0, 0, 0, 0, 0, 0, 0, 0, 0, 0,\n",
       "       1, 0, 0, 0, 0, 2, 0, 0, 0, 0, 1, 0, 0, 0, 0, 0, 0, 0, 0, 0, 0, 0,\n",
       "       0, 0, 2], dtype=int32)"
      ]
     },
     "execution_count": 77,
     "metadata": {},
     "output_type": "execute_result"
    }
   ],
   "source": [
    "kmeans.labels_"
   ]
  },
  {
   "cell_type": "code",
   "execution_count": 78,
   "metadata": {
    "scrolled": true
   },
   "outputs": [
    {
     "data": {
      "image/png": "[encoded data removed]",
      "text/plain": [
       "<Figure size 432x288 with 1 Axes>"
      ]
     },
     "metadata": {
      "needs_background": "light"
     },
     "output_type": "display_data"
    }
   ],
   "source": [
    "for i in range(3):\n",
    "    plt.plot(np.mean(hour[np.where(kmeans.labels_ == i)[0]], axis=0))\n",
    "plt.show()"
   ]
  },
  {
   "cell_type": "code",
   "execution_count": 38,
   "metadata": {},
   "outputs": [],
   "source": [
    "from sklearn.metrics import pairwise_distances"
   ]
  },
  {
   "cell_type": "code",
   "execution_count": 39,
   "metadata": {},
   "outputs": [],
   "source": [
    "def cdm_dist(x, y):\n",
    "    x_str = (' '.join([str(v) for v in x.ravel()])).encode('utf-8')\n",
    "    y_str = (' '.join([str(v) for v in y.ravel()])).encode('utf-8')\n",
    "    return len(zlib.compress(x_str + y_str)) / (len(zlib.compress(x_str)) + len(zlib.compress(y_str)))"
   ]
  },
  {
   "cell_type": "code",
   "execution_count": 40,
   "metadata": {},
   "outputs": [],
   "source": [
    "X=hour"
   ]
  },
  {
   "cell_type": "code",
   "execution_count": 41,
   "metadata": {},
   "outputs": [],
   "source": [
    "import zlib\n",
    "import string"
   ]
  },
  {
   "cell_type": "code",
   "execution_count": 42,
   "metadata": {},
   "outputs": [],
   "source": [
    "M = pairwise_distances(X.reshape(X.shape[0], X.shape[1]), metric=cdm_dist)"
   ]
  },
  {
   "cell_type": "code",
   "execution_count": 43,
   "metadata": {},
   "outputs": [
    {
     "data": {
      "text/plain": [
       "(135, 135)"
      ]
     },
     "execution_count": 43,
     "metadata": {},
     "output_type": "execute_result"
    }
   ],
   "source": [
    "M.shape"
   ]
  },
  {
   "cell_type": "code",
   "execution_count": 44,
   "metadata": {},
   "outputs": [
    {
     "data": {
      "text/plain": [
       "array([[0.59615385, 0.75609756, 0.75609756, ..., 0.75609756, 0.75609756,\n",
       "        0.84210526],\n",
       "       [0.75609756, 0.66666667, 0.66666667, ..., 0.66666667, 0.66666667,\n",
       "        0.86904762],\n",
       "       [0.75609756, 0.66666667, 0.66666667, ..., 0.66666667, 0.66666667,\n",
       "        0.86904762],\n",
       "       ...,\n",
       "       [0.75609756, 0.66666667, 0.66666667, ..., 0.66666667, 0.66666667,\n",
       "        0.86904762],\n",
       "       [0.75609756, 0.66666667, 0.66666667, ..., 0.66666667, 0.66666667,\n",
       "        0.86904762],\n",
       "       [0.84210526, 0.86904762, 0.86904762, ..., 0.86904762, 0.86904762,\n",
       "        0.54347826]])"
      ]
     },
     "execution_count": 44,
     "metadata": {},
     "output_type": "execute_result"
    }
   ],
   "source": [
    "M"
   ]
  },
  {
   "cell_type": "code",
   "execution_count": 45,
   "metadata": {},
   "outputs": [
    {
     "data": {
      "image/png": "[encoded data removed]",
      "text/plain": [
       "<Figure size 432x288 with 1 Axes>"
      ]
     },
     "metadata": {
      "needs_background": "light"
     },
     "output_type": "display_data"
    }
   ],
   "source": [
    "plt.plot(sorted(M.ravel()))\n",
    "plt.show()"
   ]
  },
  {
   "cell_type": "code",
   "execution_count": 46,
   "metadata": {},
   "outputs": [],
   "source": [
    "from sklearn.cluster import DBSCAN"
   ]
  },
  {
   "cell_type": "code",
   "execution_count": 47,
   "metadata": {},
   "outputs": [
    {
     "data": {
      "text/plain": [
       "DBSCAN(algorithm='auto', eps=0.8, leaf_size=30, metric='precomputed',\n",
       "       metric_params=None, min_samples=5, n_jobs=None, p=None)"
      ]
     },
     "execution_count": 47,
     "metadata": {},
     "output_type": "execute_result"
    }
   ],
   "source": [
    "dbscan = DBSCAN(eps=0.80, min_samples=5, metric='precomputed')\n",
    "dbscan.fit(M)"
   ]
  },
  {
   "cell_type": "code",
   "execution_count": 48,
   "metadata": {},
   "outputs": [
    {
     "data": {
      "text/plain": [
       "array([ 0,  0,  0,  0,  0,  0,  0,  0,  0,  0,  0,  0,  0,  1, -1, -1,  1,\n",
       "       -1, -1, -1, -1, -1,  1,  0,  0,  0,  0,  0,  0,  0,  0,  0,  0,  0,\n",
       "        0,  0,  0,  1,  1, -1, -1, -1, -1, -1, -1, -1,  1,  1,  0,  0,  0,\n",
       "        0,  0,  0,  0,  0,  0,  0,  0,  0,  0,  0, -1, -1, -1, -1, -1, -1,\n",
       "       -1, -1, -1,  0,  0,  0,  0,  0,  0,  0,  0,  0,  0,  0,  0,  0,  0,\n",
       "        0, -1, -1, -1, -1, -1, -1, -1, -1, -1, -1,  0,  0,  0,  0,  0,  0,\n",
       "        0,  0,  0,  0,  0,  0,  0,  0, -1,  1,  1, -1, -1, -1, -1,  1,  1,\n",
       "        1,  0,  0,  0,  0,  0,  0,  0,  0,  0,  0,  0,  0,  0,  0,  1])"
      ]
     },
     "execution_count": 48,
     "metadata": {},
     "output_type": "execute_result"
    }
   ],
   "source": [
    "dbscan.labels_"
   ]
  },
  {
   "cell_type": "code",
   "execution_count": 103,
   "metadata": {},
   "outputs": [
    {
     "data": {
      "image/png": "[encoded data removed]",
      "text/plain": [
       "<Figure size 432x288 with 1 Axes>"
      ]
     },
     "metadata": {
      "needs_background": "light"
     },
     "output_type": "display_data"
    }
   ],
   "source": [
    "for i in [-1, 0, 1]:\n",
    "    plt.plot(np.mean(hour[np.where(dbscan.labels_ == i)[0]], axis=0))\n",
    "plt.show()"
   ]
  },
  {
   "cell_type": "code",
   "execution_count": 110,
   "metadata": {},
   "outputs": [
    {
     "data": {
      "image/png": "[encoded data removed]",
      "text/plain": [
       "<Figure size 432x288 with 1 Axes>"
      ]
     },
     "metadata": {
      "needs_background": "light"
     },
     "output_type": "display_data"
    }
   ],
   "source": [
    "for i in range(0, 80):\n",
    "    if(dbscan.labels_[i] == 1):\n",
    "        plt.plot(hour[i])\n",
    "plt.show()"
   ]
  },
  {
   "cell_type": "code",
   "execution_count": null,
   "metadata": {},
   "outputs": [],
   "source": []
  }
 ],
 "metadata": {
  "kernelspec": {
   "display_name": "Python 3 (ipykernel)",
   "language": "python",
   "name": "python3"
  },
  "language_info": {
   "codemirror_mode": {
    "name": "ipython",
    "version": 3
   },
   "file_extension": ".py",
   "mimetype": "text/x-python",
   "name": "python",
   "nbconvert_exporter": "python",
   "pygments_lexer": "ipython3",
   "version": "3.9.7"
  }
 },
 "nbformat": 4,
 "nbformat_minor": 4
}
