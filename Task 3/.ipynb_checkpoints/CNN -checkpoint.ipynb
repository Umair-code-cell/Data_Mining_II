{
 "cells": [
  {
   "cell_type": "code",
   "execution_count": 1,
   "metadata": {
    "scrolled": true
   },
   "outputs": [
    {
     "name": "stderr",
     "output_type": "stream",
     "text": [
      "Using TensorFlow backend.\n",
      "/opt/anaconda3/lib/python3.7/site-packages/tensorflow/python/framework/dtypes.py:526: FutureWarning: Passing (type, 1) or '1type' as a synonym of type is deprecated; in a future version of numpy, it will be understood as (type, (1,)) / '(1,)type'.\n",
      "  _np_qint8 = np.dtype([(\"qint8\", np.int8, 1)])\n",
      "/opt/anaconda3/lib/python3.7/site-packages/tensorflow/python/framework/dtypes.py:527: FutureWarning: Passing (type, 1) or '1type' as a synonym of type is deprecated; in a future version of numpy, it will be understood as (type, (1,)) / '(1,)type'.\n",
      "  _np_quint8 = np.dtype([(\"quint8\", np.uint8, 1)])\n",
      "/opt/anaconda3/lib/python3.7/site-packages/tensorflow/python/framework/dtypes.py:528: FutureWarning: Passing (type, 1) or '1type' as a synonym of type is deprecated; in a future version of numpy, it will be understood as (type, (1,)) / '(1,)type'.\n",
      "  _np_qint16 = np.dtype([(\"qint16\", np.int16, 1)])\n",
      "/opt/anaconda3/lib/python3.7/site-packages/tensorflow/python/framework/dtypes.py:529: FutureWarning: Passing (type, 1) or '1type' as a synonym of type is deprecated; in a future version of numpy, it will be understood as (type, (1,)) / '(1,)type'.\n",
      "  _np_quint16 = np.dtype([(\"quint16\", np.uint16, 1)])\n",
      "/opt/anaconda3/lib/python3.7/site-packages/tensorflow/python/framework/dtypes.py:530: FutureWarning: Passing (type, 1) or '1type' as a synonym of type is deprecated; in a future version of numpy, it will be understood as (type, (1,)) / '(1,)type'.\n",
      "  _np_qint32 = np.dtype([(\"qint32\", np.int32, 1)])\n",
      "/opt/anaconda3/lib/python3.7/site-packages/tensorflow/python/framework/dtypes.py:535: FutureWarning: Passing (type, 1) or '1type' as a synonym of type is deprecated; in a future version of numpy, it will be understood as (type, (1,)) / '(1,)type'.\n",
      "  np_resource = np.dtype([(\"resource\", np.ubyte, 1)])\n"
     ]
    }
   ],
   "source": [
    "%matplotlib inline\n",
    "\n",
    "import numpy as np\n",
    "import pandas as pd\n",
    "import matplotlib.pyplot as plt\n",
    "\n",
    "from collections import defaultdict\n",
    "from keras.optimizers import Adagrad\n",
    "from tslearn.shapelets import ShapeletModel\n",
    "from tslearn.shapelets import grabocka_params_to_shapelet_size_dict\n",
    "from keras.models import Sequential\n",
    "from keras.layers import Dense, Dropout, GlobalAveragePooling1D\n",
    "from keras.layers import Conv1D, Activation, Conv1D, BatchNormalization\n",
    "\n",
    "from tslearn.preprocessing import TimeSeriesScalerMinMax\n",
    "from sklearn.metrics import accuracy_score, f1_score, classification_report\n",
    "from sklearn.metrics import roc_curve, auc, roc_auc_score, confusion_matrix\n",
    "from sklearn.tree import DecisionTreeClassifier\n",
    "from sklearn.neighbors import KNeighborsClassifier\n",
    "from sklearn.model_selection import train_test_split, cross_val_score "
   ]
  },
  {
   "cell_type": "code",
   "execution_count": 2,
   "metadata": {},
   "outputs": [
    {
     "data": {
      "text/html": [
       "<div>\n",
       "<style scoped>\n",
       "    .dataframe tbody tr th:only-of-type {\n",
       "        vertical-align: middle;\n",
       "    }\n",
       "\n",
       "    .dataframe tbody tr th {\n",
       "        vertical-align: top;\n",
       "    }\n",
       "\n",
       "    .dataframe thead th {\n",
       "        text-align: right;\n",
       "    }\n",
       "</style>\n",
       "<table border=\"1\" class=\"dataframe\">\n",
       "  <thead>\n",
       "    <tr style=\"text-align: right;\">\n",
       "      <th></th>\n",
       "      <th>id</th>\n",
       "      <th>Temperature</th>\n",
       "      <th>Humidity</th>\n",
       "      <th>Light</th>\n",
       "      <th>CO2</th>\n",
       "      <th>HumidityRatio</th>\n",
       "      <th>Occupancy</th>\n",
       "    </tr>\n",
       "    <tr>\n",
       "      <th>date</th>\n",
       "      <th></th>\n",
       "      <th></th>\n",
       "      <th></th>\n",
       "      <th></th>\n",
       "      <th></th>\n",
       "      <th></th>\n",
       "      <th></th>\n",
       "    </tr>\n",
       "  </thead>\n",
       "  <tbody>\n",
       "    <tr>\n",
       "      <th>2015-02-04 17:51:00</th>\n",
       "      <td>1</td>\n",
       "      <td>23.18</td>\n",
       "      <td>27.2720</td>\n",
       "      <td>426.0</td>\n",
       "      <td>721.25</td>\n",
       "      <td>0.004793</td>\n",
       "      <td>1</td>\n",
       "    </tr>\n",
       "    <tr>\n",
       "      <th>2015-02-04 17:51:00</th>\n",
       "      <td>2</td>\n",
       "      <td>23.15</td>\n",
       "      <td>27.2675</td>\n",
       "      <td>429.5</td>\n",
       "      <td>714.00</td>\n",
       "      <td>0.004783</td>\n",
       "      <td>1</td>\n",
       "    </tr>\n",
       "    <tr>\n",
       "      <th>2015-02-04 17:53:00</th>\n",
       "      <td>3</td>\n",
       "      <td>23.15</td>\n",
       "      <td>27.2450</td>\n",
       "      <td>426.0</td>\n",
       "      <td>713.50</td>\n",
       "      <td>0.004779</td>\n",
       "      <td>1</td>\n",
       "    </tr>\n",
       "    <tr>\n",
       "      <th>2015-02-04 17:54:00</th>\n",
       "      <td>4</td>\n",
       "      <td>23.15</td>\n",
       "      <td>27.2000</td>\n",
       "      <td>426.0</td>\n",
       "      <td>708.25</td>\n",
       "      <td>0.004772</td>\n",
       "      <td>1</td>\n",
       "    </tr>\n",
       "    <tr>\n",
       "      <th>2015-02-04 17:55:00</th>\n",
       "      <td>5</td>\n",
       "      <td>23.10</td>\n",
       "      <td>27.2000</td>\n",
       "      <td>426.0</td>\n",
       "      <td>704.50</td>\n",
       "      <td>0.004757</td>\n",
       "      <td>1</td>\n",
       "    </tr>\n",
       "  </tbody>\n",
       "</table>\n",
       "</div>"
      ],
      "text/plain": [
       "                     id  Temperature  Humidity  Light     CO2  HumidityRatio  \\\n",
       "date                                                                           \n",
       "2015-02-04 17:51:00   1        23.18   27.2720  426.0  721.25       0.004793   \n",
       "2015-02-04 17:51:00   2        23.15   27.2675  429.5  714.00       0.004783   \n",
       "2015-02-04 17:53:00   3        23.15   27.2450  426.0  713.50       0.004779   \n",
       "2015-02-04 17:54:00   4        23.15   27.2000  426.0  708.25       0.004772   \n",
       "2015-02-04 17:55:00   5        23.10   27.2000  426.0  704.50       0.004757   \n",
       "\n",
       "                     Occupancy  \n",
       "date                            \n",
       "2015-02-04 17:51:00          1  \n",
       "2015-02-04 17:51:00          1  \n",
       "2015-02-04 17:53:00          1  \n",
       "2015-02-04 17:54:00          1  \n",
       "2015-02-04 17:55:00          1  "
      ]
     },
     "execution_count": 2,
     "metadata": {},
     "output_type": "execute_result"
    }
   ],
   "source": [
    "dateparse = lambda dates: pd.datetime.strptime(dates, '%d/%m/%y %H:%M')\n",
    "df = pd.read_csv('../datatraining.csv', sep=\";\", parse_dates=True, index_col='date', date_parser=dateparse)\n",
    "test = pd.read_csv('../datatest.csv', sep=\";\", parse_dates=True, index_col='date', date_parser=dateparse)\n",
    "df.head()"
   ]
  },
  {
   "cell_type": "code",
   "execution_count": 3,
   "metadata": {},
   "outputs": [],
   "source": [
    "attributes = [col for col in df.columns if \n",
    "              #col == 'IsWorkDay' \n",
    "              #or col == 'Hour' \n",
    "              col == 'Light'\n",
    "              #or col == 'IsWorkHour'\n",
    "              or col == 'Temperature'\n",
    "              #or col == 'date'\n",
    "              or col == 'Humidity'\n",
    "              or col == 'CO2'\n",
    "              #or col == 'HumidityRatio'\n",
    "             ]\n",
    "Occ = df['Occupancy'].copy()\n",
    "df1 = df[attributes].copy()\n",
    "\n",
    "OccT=test['Occupancy'].copy()\n",
    "test = test[attributes].copy()\n",
    "\n"
   ]
  },
  {
   "cell_type": "code",
   "execution_count": 4,
   "metadata": {},
   "outputs": [],
   "source": [
    "# Training X\n",
    "\n",
    "df1=df1[pd.to_datetime('2015-02-04 18:00'):]\n",
    "df1=df1[:pd.to_datetime('2015-02-10 09:00')]\n",
    "df1 = df1[: len(df1) - 1] .values\n",
    "X_train = np.array_split(df1, len(df1)/60)\n",
    "X_train=np.stack(X_train)"
   ]
  },
  {
   "cell_type": "code",
   "execution_count": 5,
   "metadata": {},
   "outputs": [
    {
     "data": {
      "text/plain": [
       "(135, 60, 4)"
      ]
     },
     "execution_count": 5,
     "metadata": {},
     "output_type": "execute_result"
    }
   ],
   "source": [
    "X_train.shape"
   ]
  },
  {
   "cell_type": "code",
   "execution_count": 6,
   "metadata": {},
   "outputs": [],
   "source": [
    "# Test X\n",
    "\n",
    "\n",
    "test=test[pd.to_datetime('2015-02-02 15:00'):]\n",
    "test=test[:pd.to_datetime('2015-02-4 10:00')]\n",
    "test = test[: len(test) - 1] .values\n",
    "X_test = np.array_split(test, len(test)/60)\n",
    "X_test=np.stack(X_test)"
   ]
  },
  {
   "cell_type": "code",
   "execution_count": 7,
   "metadata": {},
   "outputs": [
    {
     "data": {
      "text/plain": [
       "(43, 60, 4)"
      ]
     },
     "execution_count": 7,
     "metadata": {},
     "output_type": "execute_result"
    }
   ],
   "source": [
    "X_test.shape"
   ]
  },
  {
   "cell_type": "code",
   "execution_count": 9,
   "metadata": {},
   "outputs": [],
   "source": [
    "# Training Y\n",
    "Occ=Occ[pd.to_datetime('2015-02-04 18:00'):]\n",
    "Occ=Occ[:pd.to_datetime('2015-02-10 09:00')]\n",
    "Occ = Occ[: len(Occ) - 1] .values\n",
    "\n",
    "y_train = np.array_split(Occ, len(Occ)/60)\n",
    "\n",
    "from collections import Counter\n",
    "\n",
    "#Give to each timeseries the corresponding class based on the most common of the hour\n",
    "for i in range (0, len(y_train)):\n",
    "    y_train[i]=Counter(y_train[i]).most_common()[0][0]\n",
    "    \n",
    "y_train=np.asarray(y_train)"
   ]
  },
  {
   "cell_type": "code",
   "execution_count": 11,
   "metadata": {},
   "outputs": [
    {
     "data": {
      "text/plain": [
       "(135,)"
      ]
     },
     "execution_count": 11,
     "metadata": {},
     "output_type": "execute_result"
    }
   ],
   "source": [
    "y_train.shape"
   ]
  },
  {
   "cell_type": "code",
   "execution_count": 12,
   "metadata": {},
   "outputs": [],
   "source": [
    "# Test Y\n",
    "OccT=OccT[pd.to_datetime('2015-02-02 15:00'):]\n",
    "OccT=OccT[:pd.to_datetime('2015-02-4 10:00')]\n",
    "OccT = OccT[: len(OccT) - 1] .values\n",
    "\n",
    "y_test = np.array_split(OccT, len(OccT)/60)\n",
    "\n",
    "from collections import Counter\n",
    "\n",
    "#Give to each timeseries the corresponding class based on the most common of the hour\n",
    "for i in range (0, len(y_test)):\n",
    "    y_test[i]=Counter(y_test[i]).most_common()[0][0]\n",
    "    \n",
    "y_test=np.asarray(y_test)"
   ]
  },
  {
   "cell_type": "code",
   "execution_count": 13,
   "metadata": {},
   "outputs": [
    {
     "data": {
      "text/plain": [
       "(43,)"
      ]
     },
     "execution_count": 13,
     "metadata": {},
     "output_type": "execute_result"
    }
   ],
   "source": [
    "y_test.shape"
   ]
  },
  {
   "cell_type": "code",
   "execution_count": 14,
   "metadata": {},
   "outputs": [],
   "source": [
    "def build_simple_cnn(n_timesteps, n_outputs):\n",
    "    model = Sequential()\n",
    "    \n",
    "    model.add(Conv1D(filters=100, kernel_size=1, activation='relu', input_shape=(n_timesteps, 4)))\n",
    "    model.add(BatchNormalization())\n",
    "    model.add(Activation('relu'))\n",
    "    \n",
    "    model.add(Dropout(0.3))\n",
    "    \n",
    "    model.add(Conv1D(filters=150, kernel_size=1, activation='relu'))\n",
    "    model.add(BatchNormalization())\n",
    "    model.add(Activation('relu'))\n",
    "    \n",
    "    model.add(Dropout(0.3))\n",
    "    \n",
    "    model.add(Conv1D(filters=200, kernel_size=1, activation='relu'))\n",
    "    model.add(BatchNormalization())\n",
    "    model.add(Activation('relu'))\n",
    "    \n",
    "    model.add(Dropout(0.3))\n",
    "    \n",
    "    model.add(GlobalAveragePooling1D())\n",
    "    \n",
    "    model.add(Dense(n_outputs, activation='sigmoid'))\n",
    "    model.compile(loss='sparse_categorical_crossentropy', optimizer='adam', metrics=['accuracy'])\n",
    "    \n",
    "    return model"
   ]
  },
  {
   "cell_type": "code",
   "execution_count": 20,
   "metadata": {},
   "outputs": [
    {
     "name": "stdout",
     "output_type": "stream",
     "text": [
      "TIMESTEPS:  60\n",
      "N. LABELS:  2\n"
     ]
    }
   ],
   "source": [
    "n_timesteps, n_outputs, n_features = X_train.shape[1], len(np.unique(y_train)), 1 \n",
    "print(\"TIMESTEPS: \", n_timesteps)\n",
    "print(\"N. LABELS: \", n_outputs)"
   ]
  },
  {
   "cell_type": "code",
   "execution_count": 21,
   "metadata": {},
   "outputs": [],
   "source": [
    "cnn = build_simple_cnn(n_timesteps, n_outputs)"
   ]
  },
  {
   "cell_type": "code",
   "execution_count": 22,
   "metadata": {},
   "outputs": [],
   "source": [
    "from keras.callbacks import ReduceLROnPlateau, ModelCheckpoint"
   ]
  },
  {
   "cell_type": "code",
   "execution_count": 23,
   "metadata": {},
   "outputs": [
    {
     "name": "stdout",
     "output_type": "stream",
     "text": [
      "X training data shape =  (135, 60, 4)\n",
      "Y training data shape (135,)\n",
      "X test data shape =  (43, 60, 4)\n",
      "Y test data shape (43,)\n"
     ]
    }
   ],
   "source": [
    "print('X training data shape = ', X_train.shape)\n",
    "print('Y training data shape', y_train.shape)\n",
    "\n",
    "print('X test data shape = ', X_test.shape)\n",
    "print('Y test data shape', y_test.shape)"
   ]
  },
  {
   "cell_type": "code",
   "execution_count": 33,
   "metadata": {},
   "outputs": [
    {
     "name": "stdout",
     "output_type": "stream",
     "text": [
      "Train on 135 samples, validate on 43 samples\n",
      "Epoch 1/50\n",
      "135/135 [==============================] - 0s 3ms/step - loss: 0.0200 - accuracy: 0.9852 - val_loss: 0.1526 - val_accuracy: 0.9767\n",
      "Epoch 2/50\n",
      "135/135 [==============================] - 0s 2ms/step - loss: 0.0312 - accuracy: 0.9926 - val_loss: 0.1100 - val_accuracy: 1.0000\n",
      "Epoch 3/50\n",
      "135/135 [==============================] - 0s 1ms/step - loss: 0.0342 - accuracy: 0.9852 - val_loss: 0.1338 - val_accuracy: 0.9767\n",
      "Epoch 4/50\n",
      "135/135 [==============================] - 0s 1ms/step - loss: 0.0221 - accuracy: 0.9926 - val_loss: 0.1698 - val_accuracy: 0.9535\n",
      "Epoch 5/50\n",
      "135/135 [==============================] - 0s 1ms/step - loss: 0.0206 - accuracy: 0.9926 - val_loss: 0.1705 - val_accuracy: 0.9535\n",
      "Epoch 6/50\n",
      "135/135 [==============================] - 0s 1ms/step - loss: 0.0148 - accuracy: 1.0000 - val_loss: 0.1143 - val_accuracy: 1.0000\n",
      "Epoch 7/50\n",
      "135/135 [==============================] - 0s 1ms/step - loss: 0.0143 - accuracy: 0.9926 - val_loss: 0.1105 - val_accuracy: 1.0000\n",
      "Epoch 8/50\n",
      "135/135 [==============================] - 0s 1ms/step - loss: 0.0172 - accuracy: 1.0000 - val_loss: 0.1165 - val_accuracy: 0.9767\n",
      "Epoch 9/50\n",
      "135/135 [==============================] - 0s 1ms/step - loss: 0.0698 - accuracy: 0.9778 - val_loss: 0.0997 - val_accuracy: 0.9767\n",
      "Epoch 10/50\n",
      "135/135 [==============================] - 0s 2ms/step - loss: 0.0533 - accuracy: 0.9926 - val_loss: 0.1655 - val_accuracy: 0.9302\n",
      "Epoch 11/50\n",
      "135/135 [==============================] - 0s 3ms/step - loss: 0.0126 - accuracy: 1.0000 - val_loss: 0.2006 - val_accuracy: 0.9767\n",
      "Epoch 12/50\n",
      "135/135 [==============================] - 0s 3ms/step - loss: 0.0829 - accuracy: 0.9704 - val_loss: 0.1961 - val_accuracy: 0.9767\n",
      "Epoch 13/50\n",
      "135/135 [==============================] - 0s 2ms/step - loss: 0.0161 - accuracy: 1.0000 - val_loss: 0.1537 - val_accuracy: 0.9767\n",
      "Epoch 14/50\n",
      "135/135 [==============================] - 0s 2ms/step - loss: 0.0162 - accuracy: 1.0000 - val_loss: 0.1283 - val_accuracy: 0.9767\n",
      "Epoch 15/50\n",
      "135/135 [==============================] - 0s 2ms/step - loss: 0.0403 - accuracy: 0.9778 - val_loss: 0.1400 - val_accuracy: 0.9767\n",
      "Epoch 16/50\n",
      "135/135 [==============================] - 0s 2ms/step - loss: 0.0199 - accuracy: 1.0000 - val_loss: 0.1327 - val_accuracy: 0.9767\n",
      "Epoch 17/50\n",
      "135/135 [==============================] - 0s 1ms/step - loss: 0.0288 - accuracy: 0.9852 - val_loss: 0.1119 - val_accuracy: 0.9767\n",
      "Epoch 18/50\n",
      "135/135 [==============================] - 0s 2ms/step - loss: 0.0229 - accuracy: 0.9926 - val_loss: 0.1111 - val_accuracy: 0.9767\n",
      "Epoch 19/50\n",
      "135/135 [==============================] - 0s 2ms/step - loss: 0.0230 - accuracy: 0.9926 - val_loss: 0.1275 - val_accuracy: 0.9767\n",
      "Epoch 00019: early stopping\n"
     ]
    }
   ],
   "source": [
    "from keras.callbacks import EarlyStopping\n",
    "earlyStopping = EarlyStopping(monitor='val_loss', patience=10, verbose=1, mode='auto')\n",
    "\n",
    "history_cnn = cnn.fit(X_train, y_train, epochs=50,\n",
    "                      validation_data=(X_test, y_test),\n",
    "                      #batch_size=mini_batch_size, \n",
    "                      callbacks=[earlyStopping],\n",
    "                      ).history"
   ]
  },
  {
   "cell_type": "code",
   "execution_count": 34,
   "metadata": {},
   "outputs": [
    {
     "name": "stdout",
     "output_type": "stream",
     "text": [
      "Accuracy 0.9767441860465116\n",
      "F1-score [0.98181818 0.96774194]\n",
      "              precision    recall  f1-score   support\n",
      "\n",
      "           0       1.00      0.96      0.98        28\n",
      "           1       0.94      1.00      0.97        15\n",
      "\n",
      "    accuracy                           0.98        43\n",
      "   macro avg       0.97      0.98      0.97        43\n",
      "weighted avg       0.98      0.98      0.98        43\n",
      "\n",
      "[[27  1]\n",
      " [ 0 15]]\n"
     ]
    }
   ],
   "source": [
    "y_pred = np.argmax(cnn.predict(X_test), axis=1)\n",
    "\n",
    "print('Accuracy %s' % accuracy_score(y_test, y_pred))\n",
    "print('F1-score %s' % f1_score(y_test, y_pred, average=None))\n",
    "print(classification_report(y_test, y_pred))\n",
    "print(confusion_matrix(y_test, y_pred))"
   ]
  },
  {
   "cell_type": "code",
   "execution_count": 36,
   "metadata": {},
   "outputs": [
    {
     "data": {
      "image/png": "[encoded data removed]",
      "text/plain": [
       "<Figure size 432x288 with 1 Axes>"
      ]
     },
     "metadata": {
      "needs_background": "light"
     },
     "output_type": "display_data"
    }
   ],
   "source": [
    "for i in range(0, len(y_pred)):\n",
    "    if (y_test[i] != y_pred[i]):\n",
    "        plt.plot(X_test[i])\n",
    "        plt.show()"
   ]
  },
  {
   "cell_type": "code",
   "execution_count": 37,
   "metadata": {},
   "outputs": [
    {
     "data": {
      "image/png": "[encoded data removed]",
      "text/plain": [
       "<Figure size 432x288 with 1 Axes>"
      ]
     },
     "metadata": {
      "needs_background": "light"
     },
     "output_type": "display_data"
    }
   ],
   "source": [
    "plt.plot(history_cnn['loss'])\n",
    "plt.plot(history_cnn['val_loss'])\n",
    "plt.title('model loss')\n",
    "plt.ylabel('loss')\n",
    "plt.xlabel('epoch')\n",
    "plt.legend(['Train', 'Validate'], loc='upper left')\n",
    "plt.show()"
   ]
  },
  {
   "cell_type": "code",
   "execution_count": null,
   "metadata": {},
   "outputs": [],
   "source": []
  }
 ],
 "metadata": {
  "kernelspec": {
   "display_name": "Python 3 (ipykernel)",
   "language": "python",
   "name": "python3"
  },
  "language_info": {
   "codemirror_mode": {
    "name": "ipython",
    "version": 3
   },
   "file_extension": ".py",
   "mimetype": "text/x-python",
   "name": "python",
   "nbconvert_exporter": "python",
   "pygments_lexer": "ipython3",
   "version": "3.9.7"
  }
 },
 "nbformat": 4,
 "nbformat_minor": 4
}
