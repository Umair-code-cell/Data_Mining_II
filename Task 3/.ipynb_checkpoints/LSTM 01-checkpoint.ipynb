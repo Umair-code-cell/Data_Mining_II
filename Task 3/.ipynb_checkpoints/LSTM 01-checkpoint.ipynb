{
 "cells": [
  {
   "cell_type": "code",
   "execution_count": 1,
   "metadata": {
    "scrolled": true
   },
   "outputs": [
    {
     "name": "stderr",
     "output_type": "stream",
     "text": [
      "Using TensorFlow backend.\n",
      "/opt/anaconda3/lib/python3.7/site-packages/tensorflow/python/framework/dtypes.py:526: FutureWarning: Passing (type, 1) or '1type' as a synonym of type is deprecated; in a future version of numpy, it will be understood as (type, (1,)) / '(1,)type'.\n",
      "  _np_qint8 = np.dtype([(\"qint8\", np.int8, 1)])\n",
      "/opt/anaconda3/lib/python3.7/site-packages/tensorflow/python/framework/dtypes.py:527: FutureWarning: Passing (type, 1) or '1type' as a synonym of type is deprecated; in a future version of numpy, it will be understood as (type, (1,)) / '(1,)type'.\n",
      "  _np_quint8 = np.dtype([(\"quint8\", np.uint8, 1)])\n",
      "/opt/anaconda3/lib/python3.7/site-packages/tensorflow/python/framework/dtypes.py:528: FutureWarning: Passing (type, 1) or '1type' as a synonym of type is deprecated; in a future version of numpy, it will be understood as (type, (1,)) / '(1,)type'.\n",
      "  _np_qint16 = np.dtype([(\"qint16\", np.int16, 1)])\n",
      "/opt/anaconda3/lib/python3.7/site-packages/tensorflow/python/framework/dtypes.py:529: FutureWarning: Passing (type, 1) or '1type' as a synonym of type is deprecated; in a future version of numpy, it will be understood as (type, (1,)) / '(1,)type'.\n",
      "  _np_quint16 = np.dtype([(\"quint16\", np.uint16, 1)])\n",
      "/opt/anaconda3/lib/python3.7/site-packages/tensorflow/python/framework/dtypes.py:530: FutureWarning: Passing (type, 1) or '1type' as a synonym of type is deprecated; in a future version of numpy, it will be understood as (type, (1,)) / '(1,)type'.\n",
      "  _np_qint32 = np.dtype([(\"qint32\", np.int32, 1)])\n",
      "/opt/anaconda3/lib/python3.7/site-packages/tensorflow/python/framework/dtypes.py:535: FutureWarning: Passing (type, 1) or '1type' as a synonym of type is deprecated; in a future version of numpy, it will be understood as (type, (1,)) / '(1,)type'.\n",
      "  np_resource = np.dtype([(\"resource\", np.ubyte, 1)])\n"
     ]
    }
   ],
   "source": [
    "%matplotlib inline\n",
    "\n",
    "import numpy as np\n",
    "import pandas as pd\n",
    "import matplotlib.pyplot as plt\n",
    "\n",
    "from collections import defaultdict\n",
    "%matplotlib inline\n",
    "from keras.utils import np_utils\n",
    "from keras.models import Sequential\n",
    "from keras.layers import Dense, LSTM, Dropout\n",
    "from keras.callbacks import EarlyStopping\n",
    "from sklearn.preprocessing import StandardScaler\n",
    "\n",
    "import pandas as pd\n",
    "import numpy as np\n",
    "import matplotlib.pyplot as plt\n",
    "\n",
    "from tslearn.preprocessing import TimeSeriesScalerMinMax\n",
    "from sklearn.metrics import accuracy_score, f1_score, classification_report\n",
    "from sklearn.metrics import roc_curve, auc, roc_auc_score, confusion_matrix\n",
    "from sklearn.tree import DecisionTreeClassifier\n",
    "from sklearn.neighbors import KNeighborsClassifier\n",
    "from sklearn.model_selection import train_test_split, cross_val_score "
   ]
  },
  {
   "cell_type": "code",
   "execution_count": 2,
   "metadata": {},
   "outputs": [
    {
     "data": {
      "text/html": [
       "<div>\n",
       "<style scoped>\n",
       "    .dataframe tbody tr th:only-of-type {\n",
       "        vertical-align: middle;\n",
       "    }\n",
       "\n",
       "    .dataframe tbody tr th {\n",
       "        vertical-align: top;\n",
       "    }\n",
       "\n",
       "    .dataframe thead th {\n",
       "        text-align: right;\n",
       "    }\n",
       "</style>\n",
       "<table border=\"1\" class=\"dataframe\">\n",
       "  <thead>\n",
       "    <tr style=\"text-align: right;\">\n",
       "      <th></th>\n",
       "      <th>id</th>\n",
       "      <th>Temperature</th>\n",
       "      <th>Humidity</th>\n",
       "      <th>Light</th>\n",
       "      <th>CO2</th>\n",
       "      <th>HumidityRatio</th>\n",
       "      <th>Occupancy</th>\n",
       "    </tr>\n",
       "    <tr>\n",
       "      <th>date</th>\n",
       "      <th></th>\n",
       "      <th></th>\n",
       "      <th></th>\n",
       "      <th></th>\n",
       "      <th></th>\n",
       "      <th></th>\n",
       "      <th></th>\n",
       "    </tr>\n",
       "  </thead>\n",
       "  <tbody>\n",
       "    <tr>\n",
       "      <th>2015-02-04 17:51:00</th>\n",
       "      <td>1</td>\n",
       "      <td>23.18</td>\n",
       "      <td>27.2720</td>\n",
       "      <td>426.0</td>\n",
       "      <td>721.25</td>\n",
       "      <td>0.004793</td>\n",
       "      <td>1</td>\n",
       "    </tr>\n",
       "    <tr>\n",
       "      <th>2015-02-04 17:51:00</th>\n",
       "      <td>2</td>\n",
       "      <td>23.15</td>\n",
       "      <td>27.2675</td>\n",
       "      <td>429.5</td>\n",
       "      <td>714.00</td>\n",
       "      <td>0.004783</td>\n",
       "      <td>1</td>\n",
       "    </tr>\n",
       "    <tr>\n",
       "      <th>2015-02-04 17:53:00</th>\n",
       "      <td>3</td>\n",
       "      <td>23.15</td>\n",
       "      <td>27.2450</td>\n",
       "      <td>426.0</td>\n",
       "      <td>713.50</td>\n",
       "      <td>0.004779</td>\n",
       "      <td>1</td>\n",
       "    </tr>\n",
       "    <tr>\n",
       "      <th>2015-02-04 17:54:00</th>\n",
       "      <td>4</td>\n",
       "      <td>23.15</td>\n",
       "      <td>27.2000</td>\n",
       "      <td>426.0</td>\n",
       "      <td>708.25</td>\n",
       "      <td>0.004772</td>\n",
       "      <td>1</td>\n",
       "    </tr>\n",
       "    <tr>\n",
       "      <th>2015-02-04 17:55:00</th>\n",
       "      <td>5</td>\n",
       "      <td>23.10</td>\n",
       "      <td>27.2000</td>\n",
       "      <td>426.0</td>\n",
       "      <td>704.50</td>\n",
       "      <td>0.004757</td>\n",
       "      <td>1</td>\n",
       "    </tr>\n",
       "  </tbody>\n",
       "</table>\n",
       "</div>"
      ],
      "text/plain": [
       "                     id  Temperature  Humidity  Light     CO2  HumidityRatio  \\\n",
       "date                                                                           \n",
       "2015-02-04 17:51:00   1        23.18   27.2720  426.0  721.25       0.004793   \n",
       "2015-02-04 17:51:00   2        23.15   27.2675  429.5  714.00       0.004783   \n",
       "2015-02-04 17:53:00   3        23.15   27.2450  426.0  713.50       0.004779   \n",
       "2015-02-04 17:54:00   4        23.15   27.2000  426.0  708.25       0.004772   \n",
       "2015-02-04 17:55:00   5        23.10   27.2000  426.0  704.50       0.004757   \n",
       "\n",
       "                     Occupancy  \n",
       "date                            \n",
       "2015-02-04 17:51:00          1  \n",
       "2015-02-04 17:51:00          1  \n",
       "2015-02-04 17:53:00          1  \n",
       "2015-02-04 17:54:00          1  \n",
       "2015-02-04 17:55:00          1  "
      ]
     },
     "execution_count": 2,
     "metadata": {},
     "output_type": "execute_result"
    }
   ],
   "source": [
    "dateparse = lambda dates: pd.datetime.strptime(dates, '%d/%m/%y %H:%M')\n",
    "df = pd.read_csv('../datatraining.csv', sep=\";\", parse_dates=True, index_col='date', date_parser=dateparse)\n",
    "test = pd.read_csv('../datatest.csv', sep=\";\", parse_dates=True, index_col='date', date_parser=dateparse)\n",
    "df.head()"
   ]
  },
  {
   "cell_type": "code",
   "execution_count": 3,
   "metadata": {},
   "outputs": [],
   "source": [
    "attributes = [col for col in df.columns if \n",
    "              #col == 'IsWorkDay' \n",
    "              #or col == 'Hour' \n",
    "              col == 'Light'\n",
    "              #or col == 'IsWorkHour'\n",
    "              or col == 'Temperature'\n",
    "              #or col == 'date'\n",
    "              or col == 'Humidity'\n",
    "              or col == 'CO2'\n",
    "              #or col == 'HumidityRatio'\n",
    "             ]\n",
    "Occ = df['Occupancy'].copy()\n",
    "df1 = df[attributes].copy()\n",
    "\n",
    "OccT=test['Occupancy'].copy()\n",
    "test = test[attributes].copy()\n",
    "\n"
   ]
  },
  {
   "cell_type": "code",
   "execution_count": 4,
   "metadata": {},
   "outputs": [],
   "source": [
    "# Training X\n",
    "\n",
    "df1=df1[pd.to_datetime('2015-02-04 18:00'):]\n",
    "df1=df1[:pd.to_datetime('2015-02-10 09:00')]\n",
    "df1 = df1[: len(df1) - 1] .values\n",
    "X_train = np.array_split(df1, len(df1)/60)\n",
    "X_train=np.stack(X_train)"
   ]
  },
  {
   "cell_type": "code",
   "execution_count": 5,
   "metadata": {},
   "outputs": [
    {
     "data": {
      "text/plain": [
       "(135, 60, 4)"
      ]
     },
     "execution_count": 5,
     "metadata": {},
     "output_type": "execute_result"
    }
   ],
   "source": [
    "X_train.shape"
   ]
  },
  {
   "cell_type": "code",
   "execution_count": 6,
   "metadata": {},
   "outputs": [],
   "source": [
    "# Test X\n",
    "\n",
    "\n",
    "test=test[pd.to_datetime('2015-02-02 15:00'):]\n",
    "test=test[:pd.to_datetime('2015-02-4 10:00')]\n",
    "test = test[: len(test) - 1] .values\n",
    "X_test = np.array_split(test, len(test)/60)\n",
    "X_test=np.stack(X_test)"
   ]
  },
  {
   "cell_type": "code",
   "execution_count": 7,
   "metadata": {},
   "outputs": [
    {
     "data": {
      "text/plain": [
       "(43, 60, 4)"
      ]
     },
     "execution_count": 7,
     "metadata": {},
     "output_type": "execute_result"
    }
   ],
   "source": [
    "X_test.shape"
   ]
  },
  {
   "cell_type": "code",
   "execution_count": 8,
   "metadata": {},
   "outputs": [],
   "source": [
    "# Training Y\n",
    "Occ=Occ[pd.to_datetime('2015-02-04 18:00'):]\n",
    "Occ=Occ[:pd.to_datetime('2015-02-10 09:00')]\n",
    "Occ = Occ[: len(Occ) - 1] .values\n",
    "\n",
    "y_train = np.array_split(Occ, len(Occ)/60)\n",
    "\n",
    "from collections import Counter\n",
    "\n",
    "#Give to each timeseries the corresponding class based on the most common of the hour\n",
    "for i in range (0, len(y_train)):\n",
    "    y_train[i]=Counter(y_train[i]).most_common()[0][0]\n",
    "    \n",
    "y_train=np.asarray(y_train)"
   ]
  },
  {
   "cell_type": "code",
   "execution_count": 9,
   "metadata": {},
   "outputs": [
    {
     "data": {
      "text/plain": [
       "(135,)"
      ]
     },
     "execution_count": 9,
     "metadata": {},
     "output_type": "execute_result"
    }
   ],
   "source": [
    "y_train.shape"
   ]
  },
  {
   "cell_type": "code",
   "execution_count": 10,
   "metadata": {},
   "outputs": [],
   "source": [
    "# Test Y\n",
    "OccT=OccT[pd.to_datetime('2015-02-02 15:00'):]\n",
    "OccT=OccT[:pd.to_datetime('2015-02-4 10:00')]\n",
    "OccT = OccT[: len(OccT) - 1] .values\n",
    "\n",
    "y_test = np.array_split(OccT, len(OccT)/60)\n",
    "\n",
    "from collections import Counter\n",
    "\n",
    "#Give to each timeseries the corresponding class based on the most common of the hour\n",
    "for i in range (0, len(y_test)):\n",
    "    y_test[i]=Counter(y_test[i]).most_common()[0][0]\n",
    "    \n",
    "y_test=np.asarray(y_test)"
   ]
  },
  {
   "cell_type": "code",
   "execution_count": 11,
   "metadata": {},
   "outputs": [
    {
     "data": {
      "text/plain": [
       "(43,)"
      ]
     },
     "execution_count": 11,
     "metadata": {},
     "output_type": "execute_result"
    }
   ],
   "source": [
    "y_test.shape"
   ]
  },
  {
   "cell_type": "code",
   "execution_count": 28,
   "metadata": {},
   "outputs": [
    {
     "name": "stdout",
     "output_type": "stream",
     "text": [
      "TIMESTEPS:  60\n",
      "N. LABELS:  2\n"
     ]
    }
   ],
   "source": [
    "n_timesteps, n_outputs, n_features = X_train.shape[1], len(np.unique(y_train)), 1 \n",
    "print(\"TIMESTEPS: \", n_timesteps)\n",
    "print(\"N. LABELS: \", n_outputs)"
   ]
  },
  {
   "cell_type": "code",
   "execution_count": 35,
   "metadata": {},
   "outputs": [],
   "source": [
    "def build_lstm(n_timesteps, n_outputs):\n",
    "    model = Sequential()\n",
    "    model.add(LSTM(256, input_shape=(n_timesteps, 4)))\n",
    "    model.add(Dropout(0.5))\n",
    "    model.add(Dense(64, activation='relu'))\n",
    "    model.add(Dropout(0.2))\n",
    "    model.add(Dense(n_outputs, activation='sigmoid'))\n",
    "    \n",
    "    model.compile(loss='sparse_categorical_crossentropy', optimizer='adam', metrics=['accuracy'])\n",
    "    \n",
    "    return model"
   ]
  },
  {
   "cell_type": "code",
   "execution_count": 36,
   "metadata": {},
   "outputs": [],
   "source": [
    "lstm = build_lstm(n_timesteps, n_outputs)"
   ]
  },
  {
   "cell_type": "code",
   "execution_count": 51,
   "metadata": {
    "scrolled": false
   },
   "outputs": [
    {
     "name": "stdout",
     "output_type": "stream",
     "text": [
      "Train on 135 samples, validate on 43 samples\n",
      "Epoch 1/50\n",
      "135/135 [==============================] - 1s 6ms/step - loss: 0.0249 - accuracy: 0.9926 - val_loss: 0.0075 - val_accuracy: 1.0000\n",
      "Epoch 2/50\n",
      "135/135 [==============================] - 1s 5ms/step - loss: 0.0655 - accuracy: 0.9926 - val_loss: 0.0071 - val_accuracy: 1.0000\n",
      "Epoch 3/50\n",
      "135/135 [==============================] - 1s 6ms/step - loss: 0.0830 - accuracy: 0.9778 - val_loss: 0.0095 - val_accuracy: 1.0000\n",
      "Epoch 4/50\n",
      "135/135 [==============================] - 1s 5ms/step - loss: 0.0265 - accuracy: 0.9926 - val_loss: 0.0102 - val_accuracy: 1.0000\n",
      "Epoch 5/50\n",
      "135/135 [==============================] - 1s 5ms/step - loss: 0.0687 - accuracy: 0.9704 - val_loss: 0.0123 - val_accuracy: 1.0000\n",
      "Epoch 6/50\n",
      "135/135 [==============================] - 1s 5ms/step - loss: 0.0398 - accuracy: 0.9852 - val_loss: 0.0143 - val_accuracy: 1.0000\n",
      "Epoch 7/50\n",
      "135/135 [==============================] - 1s 5ms/step - loss: 0.0386 - accuracy: 0.9926 - val_loss: 0.0089 - val_accuracy: 1.0000\n",
      "Epoch 8/50\n",
      "135/135 [==============================] - 1s 5ms/step - loss: 0.0364 - accuracy: 0.9778 - val_loss: 0.0045 - val_accuracy: 1.0000\n",
      "Epoch 9/50\n",
      "135/135 [==============================] - 1s 5ms/step - loss: 0.0312 - accuracy: 0.9926 - val_loss: 0.0034 - val_accuracy: 1.0000\n",
      "Epoch 10/50\n",
      "135/135 [==============================] - 1s 7ms/step - loss: 0.0244 - accuracy: 0.9852 - val_loss: 0.0039 - val_accuracy: 1.0000\n",
      "Epoch 11/50\n",
      "135/135 [==============================] - 1s 8ms/step - loss: 0.0714 - accuracy: 0.9852 - val_loss: 0.0069 - val_accuracy: 1.0000\n",
      "Epoch 12/50\n",
      "135/135 [==============================] - 1s 7ms/step - loss: 0.0268 - accuracy: 0.9926 - val_loss: 0.0088 - val_accuracy: 1.0000\n",
      "Epoch 13/50\n",
      "135/135 [==============================] - 1s 6ms/step - loss: 0.0369 - accuracy: 0.9852 - val_loss: 0.0129 - val_accuracy: 1.0000\n",
      "Epoch 14/50\n",
      "135/135 [==============================] - 1s 6ms/step - loss: 0.0669 - accuracy: 0.9778 - val_loss: 0.0045 - val_accuracy: 1.0000\n",
      "Epoch 15/50\n",
      "135/135 [==============================] - 1s 5ms/step - loss: 0.0103 - accuracy: 1.0000 - val_loss: 0.0055 - val_accuracy: 1.0000\n",
      "Epoch 16/50\n",
      "135/135 [==============================] - 1s 5ms/step - loss: 0.0245 - accuracy: 0.9926 - val_loss: 0.0055 - val_accuracy: 1.0000\n",
      "Epoch 17/50\n",
      "135/135 [==============================] - 1s 5ms/step - loss: 0.0407 - accuracy: 0.9926 - val_loss: 0.0109 - val_accuracy: 1.0000\n",
      "Epoch 18/50\n",
      "135/135 [==============================] - 1s 5ms/step - loss: 0.0349 - accuracy: 0.9852 - val_loss: 0.0169 - val_accuracy: 1.0000\n",
      "Epoch 19/50\n",
      "135/135 [==============================] - 1s 5ms/step - loss: 0.0735 - accuracy: 0.9556 - val_loss: 0.0078 - val_accuracy: 1.0000\n",
      "Epoch 20/50\n",
      "135/135 [==============================] - 1s 5ms/step - loss: 0.0200 - accuracy: 1.0000 - val_loss: 0.0051 - val_accuracy: 1.0000\n",
      "Epoch 21/50\n",
      "135/135 [==============================] - 1s 5ms/step - loss: 0.0271 - accuracy: 0.9852 - val_loss: 0.0037 - val_accuracy: 1.0000\n",
      "Epoch 22/50\n",
      "135/135 [==============================] - 1s 5ms/step - loss: 0.0429 - accuracy: 0.9852 - val_loss: 0.0051 - val_accuracy: 1.0000\n",
      "Epoch 23/50\n",
      "135/135 [==============================] - 1s 5ms/step - loss: 0.0632 - accuracy: 0.9704 - val_loss: 0.0315 - val_accuracy: 1.0000\n",
      "Epoch 24/50\n",
      "135/135 [==============================] - 1s 5ms/step - loss: 0.1133 - accuracy: 0.9630 - val_loss: 0.0552 - val_accuracy: 0.9767\n",
      "Epoch 25/50\n",
      "135/135 [==============================] - 1s 5ms/step - loss: 0.0513 - accuracy: 0.9630 - val_loss: 0.0194 - val_accuracy: 1.0000\n",
      "Epoch 26/50\n",
      "135/135 [==============================] - 1s 5ms/step - loss: 0.0632 - accuracy: 0.9852 - val_loss: 0.0152 - val_accuracy: 1.0000\n",
      "Epoch 27/50\n",
      "135/135 [==============================] - 1s 5ms/step - loss: 0.0773 - accuracy: 0.9630 - val_loss: 0.0510 - val_accuracy: 0.9767\n",
      "Epoch 28/50\n",
      "135/135 [==============================] - 1s 5ms/step - loss: 0.0827 - accuracy: 0.9481 - val_loss: 0.0239 - val_accuracy: 1.0000\n",
      "Epoch 29/50\n",
      "135/135 [==============================] - 1s 5ms/step - loss: 0.0559 - accuracy: 0.9852 - val_loss: 0.0082 - val_accuracy: 1.0000\n",
      "Epoch 30/50\n",
      "135/135 [==============================] - 1s 5ms/step - loss: 0.0338 - accuracy: 0.9926 - val_loss: 0.0055 - val_accuracy: 1.0000\n",
      "Epoch 31/50\n",
      "135/135 [==============================] - 1s 5ms/step - loss: 0.0512 - accuracy: 0.9852 - val_loss: 0.0046 - val_accuracy: 1.0000\n",
      "Epoch 32/50\n",
      "135/135 [==============================] - 1s 5ms/step - loss: 0.0553 - accuracy: 0.9852 - val_loss: 0.0049 - val_accuracy: 1.0000\n",
      "Epoch 33/50\n",
      "135/135 [==============================] - 1s 5ms/step - loss: 0.0758 - accuracy: 0.9704 - val_loss: 0.0099 - val_accuracy: 1.0000\n",
      "Epoch 34/50\n",
      "135/135 [==============================] - 1s 5ms/step - loss: 0.0391 - accuracy: 0.9926 - val_loss: 0.0188 - val_accuracy: 1.0000\n",
      "Epoch 35/50\n",
      "135/135 [==============================] - 1s 5ms/step - loss: 0.0500 - accuracy: 0.9852 - val_loss: 0.0153 - val_accuracy: 1.0000\n"
     ]
    }
   ],
   "source": [
    "earlyStopping = EarlyStopping(monitor='loss', patience=20, verbose=0, mode='auto')\n",
    "\n",
    "history_lstm = lstm.fit(X_train, y_train, \n",
    "                       validation_data=(X_test, y_test), \n",
    "                       epochs=50, \n",
    "                       #batch_size=mini_batch_size, \n",
    "                       callbacks=[earlyStopping]).history"
   ]
  },
  {
   "cell_type": "code",
   "execution_count": 52,
   "metadata": {},
   "outputs": [
    {
     "name": "stdout",
     "output_type": "stream",
     "text": [
      "Accuracy 1.0\n",
      "F1-score [1. 1.]\n",
      "              precision    recall  f1-score   support\n",
      "\n",
      "           0       1.00      1.00      1.00        28\n",
      "           1       1.00      1.00      1.00        15\n",
      "\n",
      "    accuracy                           1.00        43\n",
      "   macro avg       1.00      1.00      1.00        43\n",
      "weighted avg       1.00      1.00      1.00        43\n",
      "\n",
      "[[28  0]\n",
      " [ 0 15]]\n"
     ]
    }
   ],
   "source": [
    "y_pred = np.argmax(lstm.predict(X_test), axis=1)\n",
    "\n",
    "print('Accuracy %s' % accuracy_score(y_test, y_pred))\n",
    "print('F1-score %s' % f1_score(y_test, y_pred, average=None))\n",
    "print(classification_report(y_test, y_pred))\n",
    "print(confusion_matrix(y_test, y_pred))"
   ]
  },
  {
   "cell_type": "code",
   "execution_count": 53,
   "metadata": {},
   "outputs": [
    {
     "data": {
      "image/png": "[encoded data removed]",
      "text/plain": [
       "<Figure size 432x288 with 1 Axes>"
      ]
     },
     "metadata": {
      "needs_background": "light"
     },
     "output_type": "display_data"
    }
   ],
   "source": [
    "# Plot history for training and validation loss.\n",
    "\n",
    "plt.plot(history_lstm['loss'])\n",
    "plt.plot(history_lstm['val_loss'])\n",
    "plt.title('model loss')\n",
    "plt.ylabel('loss')\n",
    "plt.xlabel('epoch')\n",
    "plt.legend(['Train', 'Validate'], loc='upper left')\n",
    "plt.show()"
   ]
  },
  {
   "cell_type": "code",
   "execution_count": 22,
   "metadata": {},
   "outputs": [],
   "source": [
    "def create_dataset(X, Y, **options):\n",
    "    \"\"\"Convert an array of X, Y values into a dataset matrix for and LSTM\"\"\"\n",
    "    \n",
    "    look_back = options.pop('look_back', None)\n",
    "    dataX, dataY = [], []\n",
    "    for i in range(len(X) - look_back - 1):\n",
    "        a = X[i:(i+look_back)]\n",
    "        dataX.append(a)\n",
    "        dataY.append(Y[i + look_back])\n",
    "    return np.array(dataX), np.array(dataY)"
   ]
  },
  {
   "cell_type": "code",
   "execution_count": 55,
   "metadata": {},
   "outputs": [
    {
     "ename": "AttributeError",
     "evalue": "'numpy.ndarray' object has no attribute 'index'",
     "output_type": "error",
     "traceback": [
      "\u001b[0;31m---------------------------------------------------------------------------\u001b[0m",
      "\u001b[0;31mAttributeError\u001b[0m                            Traceback (most recent call last)",
      "\u001b[0;32m<ipython-input-55-a76c90dc5f55>\u001b[0m in \u001b[0;36m<module>\u001b[0;34m\u001b[0m\n\u001b[1;32m      2\u001b[0m \u001b[0;34m\u001b[0m\u001b[0m\n\u001b[1;32m      3\u001b[0m \u001b[0;34m\u001b[0m\u001b[0m\n\u001b[0;32m----> 4\u001b[0;31m \u001b[0mtest\u001b[0m\u001b[0;34m[\u001b[0m\u001b[0;34m'LSTM'\u001b[0m\u001b[0;34m]\u001b[0m \u001b[0;34m=\u001b[0m \u001b[0mpd\u001b[0m\u001b[0;34m.\u001b[0m\u001b[0mSeries\u001b[0m\u001b[0;34m(\u001b[0m\u001b[0my_pred\u001b[0m\u001b[0;34m,\u001b[0m \u001b[0mindex\u001b[0m\u001b[0;34m=\u001b[0m\u001b[0mtest\u001b[0m\u001b[0;34m.\u001b[0m\u001b[0mindex\u001b[0m\u001b[0;34m)\u001b[0m\u001b[0;34m\u001b[0m\u001b[0;34m\u001b[0m\u001b[0m\n\u001b[0m\u001b[1;32m      5\u001b[0m \u001b[0;34m\u001b[0m\u001b[0m\n\u001b[1;32m      6\u001b[0m \u001b[0mtest\u001b[0m\u001b[0;34m[\u001b[0m\u001b[0;34m'Occupancy'\u001b[0m\u001b[0;34m]\u001b[0m\u001b[0;34m.\u001b[0m\u001b[0mplot\u001b[0m\u001b[0;34m(\u001b[0m\u001b[0mfigsize\u001b[0m\u001b[0;34m=\u001b[0m\u001b[0;34m[\u001b[0m\u001b[0;36m20\u001b[0m\u001b[0;34m,\u001b[0m \u001b[0;36m10\u001b[0m\u001b[0;34m]\u001b[0m\u001b[0;34m,\u001b[0m \u001b[0mlegend\u001b[0m\u001b[0;34m=\u001b[0m\u001b[0;32mTrue\u001b[0m\u001b[0;34m)\u001b[0m\u001b[0;34m\u001b[0m\u001b[0;34m\u001b[0m\u001b[0m\n",
      "\u001b[0;31mAttributeError\u001b[0m: 'numpy.ndarray' object has no attribute 'index'"
     ]
    }
   ],
   "source": [
    "# Show model predictions against input occupancy labels, and input data timestreams\n",
    "\n",
    "\n",
    "test['LSTM'] = pd.Series(y_pred, index=test.index)\n",
    "\n",
    "test['Occupancy'].plot(figsize=[20, 10], legend=True)\n",
    "test['LSTM'].apply(lambda x: x - 1.1).plot(legend=True)"
   ]
  },
  {
   "cell_type": "code",
   "execution_count": null,
   "metadata": {},
   "outputs": [],
   "source": []
  }
 ],
 "metadata": {
  "kernelspec": {
   "display_name": "Python 3 (ipykernel)",
   "language": "python",
   "name": "python3"
  },
  "language_info": {
   "codemirror_mode": {
    "name": "ipython",
    "version": 3
   },
   "file_extension": ".py",
   "mimetype": "text/x-python",
   "name": "python",
   "nbconvert_exporter": "python",
   "pygments_lexer": "ipython3",
   "version": "3.9.7"
  }
 },
 "nbformat": 4,
 "nbformat_minor": 4
}
